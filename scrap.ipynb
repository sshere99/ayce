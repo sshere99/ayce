{
 "cells": [
  {
   "cell_type": "code",
   "execution_count": 1,
   "metadata": {},
   "outputs": [],
   "source": [
    "%load_ext autoreload"
   ]
  },
  {
   "cell_type": "code",
   "execution_count": 2,
   "metadata": {},
   "outputs": [],
   "source": [
    "%autoreload 2"
   ]
  },
  {
   "cell_type": "code",
   "execution_count": 8,
   "metadata": {},
   "outputs": [],
   "source": [
    "import pktypes\n",
    "from pktypes import *\n",
    "from pkhands import *"
   ]
  },
  {
   "cell_type": "code",
   "execution_count": 4,
   "metadata": {},
   "outputs": [],
   "source": [
    "d=Deck()\n",
    "#d.populate()\n",
    "#d.shuffle()"
   ]
  },
  {
   "cell_type": "code",
   "execution_count": 5,
   "metadata": {},
   "outputs": [
    {
     "name": "stdout",
     "output_type": "stream",
     "text": [
      "As Qc 5h 9c 6s 6c Ad 9h 3h Js Kh Jc 3c 2s Qd Kd Ks 5c 2d 9s Jd 8d Jh 2h Qh Qs 10d 4s Kc 10h 4h 7c 6h 5s 6d 8c 5d Ac Ah 2c 10s 3d 7s 7d 8h 7h 4c 3s 10c 4d 9d 8s \n"
     ]
    }
   ],
   "source": [
    "#d.shuffle()\n",
    "d.print_cards()"
   ]
  },
  {
   "cell_type": "code",
   "execution_count": null,
   "metadata": {},
   "outputs": [],
   "source": [
    "d.repopulate()"
   ]
  },
  {
   "cell_type": "code",
   "execution_count": null,
   "metadata": {},
   "outputs": [],
   "source": [
    "d.shuffle()"
   ]
  },
  {
   "cell_type": "code",
   "execution_count": null,
   "metadata": {},
   "outputs": [],
   "source": [
    "c=Card('J','s')"
   ]
  },
  {
   "cell_type": "code",
   "execution_count": null,
   "metadata": {},
   "outputs": [],
   "source": [
    "for c in d.deal(4):\n",
    "    print(c)"
   ]
  },
  {
   "cell_type": "code",
   "execution_count": 61,
   "metadata": {},
   "outputs": [
    {
     "name": "stdout",
     "output_type": "stream",
     "text": [
      "As\n",
      "Qs\n",
      "3h\n",
      "2c\n",
      "7s\n",
      "5h\n",
      "9h\n"
     ]
    }
   ],
   "source": [
    "#EVAL HANDS\n",
    "d.repopulate()\n",
    "d.shuffle()\n",
    "plrHnad = [c for c in d.deal(2)]\n",
    "commCards = [c for c in d.deal(5)]\n",
    "allCards = plrHnad + commCards\n",
    "for c in allCards:\n",
    "    print(c)"
   ]
  },
  {
   "cell_type": "code",
   "execution_count": 66,
   "metadata": {},
   "outputs": [
    {
     "data": {
      "text/plain": [
       "(True, [1, 2, 3, 4, 5], 405, 'Straight')"
      ]
     },
     "execution_count": 66,
     "metadata": {},
     "output_type": "execute_result"
    }
   ],
   "source": [
    "getHand(allCards)"
   ]
  },
  {
   "cell_type": "code",
   "execution_count": 65,
   "metadata": {},
   "outputs": [],
   "source": [
    "allCards = [Card('J','h'), Card('3','d'), Card('4','c'), Card('5','s'), Card('2','d'), Card('2','s'), Card('A','d')]"
   ]
  },
  {
   "cell_type": "code",
   "execution_count": null,
   "metadata": {},
   "outputs": [],
   "source": [
    "values = [v.value for v in allCards]\n",
    "suits = [v.suit for v in allCards]\n",
    "ranks = [v.rank for v in allCards]\n",
    "valcts = Counter(values).values()\n",
    "suitcts = Counter(suits).values()"
   ]
  },
  {
   "cell_type": "code",
   "execution_count": null,
   "metadata": {},
   "outputs": [],
   "source": [
    "print(Counter(suits))\n",
    "print(Counter(values))"
   ]
  },
  {
   "cell_type": "code",
   "execution_count": null,
   "metadata": {},
   "outputs": [],
   "source": [
    "print(values)\n",
    "print(suits)\n",
    "print(ranks)\n",
    "print(valcts)\n",
    "print(suitcts)"
   ]
  },
  {
   "cell_type": "code",
   "execution_count": null,
   "metadata": {},
   "outputs": [],
   "source": [
    "## Use this convention\n",
    "#isHandType = (True/False, vals of hand, hand score, str(name of hand))\n",
    "values = [v.value for v in allCards]\n",
    "suits = [v.suit for v in allCards]\n",
    "ranks = [v.rank for v in allCards]\n",
    "#valcts = Counter(values).values()\n",
    "#suitcts = Counter(suits).values()\n",
    "\n",
    "#def getHand(values, suits, ranks):\n",
    "    \n",
    "    isFlush = isStraight = isQuads = isFull = isTrips = isTwoPair = isPair = False\n",
    "\n",
    "    isStraight = checkStraight(values)\n",
    "    isFlush = checkFlush(values, suits)\n",
    "\n",
    "    if isStraight[0] and isFlush[0]:\n",
    "        isStraightFlush = checkStraightFlush(isFlush[1])\n",
    "        if isStraightFlush[0]:\n",
    "            return isStraightFlush \n",
    "\n",
    "    isQuads = checkQuads(values)\n",
    "    if isQuads[0]:\n",
    "        return isQuads      \n",
    "\n",
    "    if isFlush[0]:\n",
    "        return isFlush\n",
    "    \n",
    "    if isStraight[0]:\n",
    "        return isStraight\n",
    "    \n",
    "    isTrips = checkTrips(values)\n",
    "    isPairs = checkPairs(values)\n",
    "\n",
    "    if len(isTrips[1])>1:  # Player has 2 trips, so basically a full house\n",
    "        tripcards = sorted(isTrips[1])\n",
    "        trip = tripcards[1]\n",
    "        pair = tripcards[0]\n",
    "        isFullHouse = (True, (trip, pair), FULLSCORE+trip+(pair/10), \"Full House\")\n",
    "        return isFullHouse\n",
    "\n",
    "    if isTrips[0] and isPairs[0]:\n",
    "        trip = isTrips[1][0]\n",
    "        paircards = sorted(isPairs[1])\n",
    "        pair = paircards[-1]\n",
    "        isFullHouse = (True, (trip, pair), FULLSCORE+trip+(pair/10), \"Full House\")\n",
    "        return isFullHouse\n",
    "\n",
    "    if isTrips[0]:\n",
    "        return isTrips\n",
    "\n",
    "    if isPairs[0]:\n",
    "        return isPairs\n",
    "\n",
    "    else:\n",
    "        highcard = sorted(values)[-1]\n",
    "        isHighCard = (True, highcard, highcard, \"High card\")\n",
    "        return isHighCard\n"
   ]
  },
  {
   "cell_type": "code",
   "execution_count": null,
   "metadata": {},
   "outputs": [],
   "source": [
    "getHand(values, suits, ranks)"
   ]
  },
  {
   "cell_type": "code",
   "execution_count": null,
   "metadata": {},
   "outputs": [],
   "source": [
    "values = [9,9,7,6,6,8,10]\n",
    "suits = ['h','d','d','c','h','s','s']\n",
    "hand = set(values)\n",
    "print(hand)\n",
    "print(Counter(suits))"
   ]
  },
  {
   "cell_type": "code",
   "execution_count": null,
   "metadata": {},
   "outputs": [],
   "source": [
    "PAIRSCORE=100\n",
    "TWOPAIRSCORE=200\n",
    "TRIPSCORE=300\n",
    "STRAIGHTSCORE=400\n",
    "FLUSHSCORE=500\n",
    "FULLSCORE=600\n",
    "QUADSCORE=700\n",
    "STRFLSCORE=800\n",
    "\n",
    "def checkStraight(vals):\n",
    "    hand = set(vals)\n",
    "    if 14 in hand:\n",
    "        hand.add(1) # Account for Ace being a low card\n",
    "    for low in range(10,0,-1):\n",
    "        straight = set(range(low, low+5))\n",
    "        if len(straight-hand) < 1:\n",
    "            isStraight = True\n",
    "            straightval = list(sorted(straight))\n",
    "            highcard = low+4\n",
    "            score = STRAIGHTSCORE+int(highcard)\n",
    "            return (True, straightval, score, \"Straight\")\n",
    "    return (False, None, 0, None)\n",
    "\n",
    "def checkFlush(vals, suits):\n",
    "    suit_dict = Counter(suits)\n",
    "    if 5 in suit_dict.values() or 6 in suit_dict.values() or 7 in suit_dict.values():\n",
    "        flushvals=[]\n",
    "        for s, cnt in suit_dict.items():\n",
    "            if cnt>4:\n",
    "                flush_suit = s\n",
    "        for idx in range(len(suits)):\n",
    "            if suits[idx] == flush_suit:\n",
    "                flushvals.append(vals[idx])\n",
    "        flushvals = list(sorted(flushvals))\n",
    "        highcard = flushvals[-1]\n",
    "        score=FLUSHSCORE+highcard       \n",
    "        return (True, flushvals, score, \"Flush\")\n",
    "    return (False, None, 0, \"Flush\")\n",
    "\n",
    "#Call only if both straight and flush\n",
    "def checkStraightFlush(flushvals):\n",
    "    if 14 in flushvals:\n",
    "        flushvals.append(1) # Treat Ace as a low card as well\n",
    "    flushset = set(flushvals)\n",
    "    for low in range(10,0,-1):\n",
    "        straight = set(range(low, low+5))\n",
    "        if len(straight-flushset) < 1:\n",
    "            flushvals = list(sorted(flushvals))\n",
    "            highcard = low+4\n",
    "            score = STRFLSCORE+int(highcard)\n",
    "            return (True, flushvals, score, \"Straight Flush\")\n",
    "    return (False, None, 0, \"Straight Flush\")\n",
    "        \n",
    "def checkQuads(vals):\n",
    "    for card, count in Counter(vals).items():\n",
    "        if count == 4:\n",
    "            return (True, card, QUADSCORE+int(card), \"Quads\")\n",
    "    return (False, None, 0, \"Quads\")\n",
    "\n",
    "def checkTrips(vals):\n",
    "    val_dict = Counter(vals)\n",
    "    trips = []\n",
    "    if 3 in val_dict.values():\n",
    "        hightrip = 0\n",
    "        for card, count in val_dict.items():\n",
    "            if count == 3:\n",
    "                trips.append(card)\n",
    "                if card > hightrip: hightrip = card\n",
    "        return (True, trips, TRIPSCORE+hightrip, \"Trips\")\n",
    "    return (False, trips, 0, \"Trips\")\n",
    "\n",
    "def checkPairs(vals):\n",
    "    val_dict = Counter(vals)\n",
    "    if 2 in val_dict.values():\n",
    "        score = PAIRSCORE\n",
    "        pairs = []\n",
    "        highpair = 0\n",
    "        for card, count in val_dict.items():\n",
    "            if count == 2:\n",
    "                pairs.append(card)\n",
    "                if card > highpair: highpair = card\n",
    "        if len(pairs)>1:\n",
    "            score = TWOPAIRSCORE\n",
    "        return (True, pairs, score+highpair, \"Pair_s\")\n",
    "    return (False, None, 0, \"Pair_s\")\n",
    "\n"
   ]
  },
  {
   "cell_type": "code",
   "execution_count": null,
   "metadata": {},
   "outputs": [],
   "source": [
    "allCards = [Card('5','d'), Card('5','d'), Card('5','d'), Card('7','d'), Card('7','s'), Card('7','d'), Card('A','d')]"
   ]
  },
  {
   "cell_type": "code",
   "execution_count": null,
   "metadata": {},
   "outputs": [],
   "source": [
    "vals = [v.value for v in allCards]\n",
    "suits = [v.suit for v in allCards]\n",
    "ranks = [v.rank for v in allCards]"
   ]
  },
  {
   "cell_type": "code",
   "execution_count": null,
   "metadata": {},
   "outputs": [],
   "source": [
    "checkStraight(vals)"
   ]
  },
  {
   "cell_type": "code",
   "execution_count": null,
   "metadata": {},
   "outputs": [],
   "source": [
    "checkFlush(vals, suits)"
   ]
  },
  {
   "cell_type": "code",
   "execution_count": null,
   "metadata": {},
   "outputs": [],
   "source": [
    "fvals = checkFlush(vals, suits)"
   ]
  },
  {
   "cell_type": "code",
   "execution_count": null,
   "metadata": {},
   "outputs": [],
   "source": [
    "checkStraightFlush(fvals[1])"
   ]
  },
  {
   "cell_type": "code",
   "execution_count": null,
   "metadata": {},
   "outputs": [],
   "source": [
    "checkQuads(vals)"
   ]
  },
  {
   "cell_type": "code",
   "execution_count": null,
   "metadata": {},
   "outputs": [],
   "source": [
    "checkTrips(vals)"
   ]
  },
  {
   "cell_type": "code",
   "execution_count": null,
   "metadata": {},
   "outputs": [],
   "source": [
    "checkPairs(vals)"
   ]
  },
  {
   "cell_type": "code",
   "execution_count": null,
   "metadata": {},
   "outputs": [],
   "source": [
    "for low in range(10,0,-1):\n",
    "    print(low)\n",
    "    straight = set(range(low, low+5))\n",
    "    print(straight)"
   ]
  },
  {
   "cell_type": "code",
   "execution_count": null,
   "metadata": {},
   "outputs": [],
   "source": [
    "r = ['8','4','10','5','6','A','K']"
   ]
  },
  {
   "cell_type": "code",
   "execution_count": null,
   "metadata": {},
   "outputs": [],
   "source": [
    "sorted(r)"
   ]
  },
  {
   "cell_type": "code",
   "execution_count": null,
   "metadata": {},
   "outputs": [],
   "source": [
    "checkStraight(r)"
   ]
  },
  {
   "cell_type": "code",
   "execution_count": null,
   "metadata": {},
   "outputs": [],
   "source": [
    "joe = Player('sdff', 'Joe', bank=44, stack=333)\n",
    "fred = Player('sdf2', 'Fred', bank=44, stack=333)\n",
    "willis = Player('sdf3', 'willis', bank=44, stack=333)\n",
    "sally = Player('sdf9', 'Sally', bank=44, stack=333)\n",
    "lucy = Player('sdf8', 'Lucy', bank=44, stack=333)\n",
    "patty = Player('sdf7', 'Patty', bank=44, stack=333)"
   ]
  },
  {
   "cell_type": "code",
   "execution_count": null,
   "metadata": {},
   "outputs": [],
   "source": [
    "print(joe)"
   ]
  },
  {
   "cell_type": "code",
   "execution_count": null,
   "metadata": {},
   "outputs": [],
   "source": [
    "t = Table(5)"
   ]
  },
  {
   "cell_type": "code",
   "execution_count": null,
   "metadata": {},
   "outputs": [],
   "source": [
    "t.addPlayerToLobby(joe)\n",
    "t.addPlayerToLobby(fred)\n",
    "t.addPlayerToLobby(willis)\n",
    "t.addPlayerToLobby(sally)\n",
    "t.addPlayerToLobby(lucy)\n",
    "t.addPlayerToLobby(patty)"
   ]
  },
  {
   "cell_type": "code",
   "execution_count": null,
   "metadata": {},
   "outputs": [],
   "source": [
    "joe.atTable"
   ]
  },
  {
   "cell_type": "code",
   "execution_count": null,
   "metadata": {},
   "outputs": [],
   "source": [
    "for player in t.playersInLobby:\n",
    "    player.sitDown()"
   ]
  },
  {
   "cell_type": "code",
   "execution_count": null,
   "metadata": {},
   "outputs": [],
   "source": [
    "t.dealCommCards(1)"
   ]
  },
  {
   "cell_type": "code",
   "execution_count": null,
   "metadata": {},
   "outputs": [],
   "source": [
    "joe.leaveTable()"
   ]
  },
  {
   "cell_type": "code",
   "execution_count": null,
   "metadata": {},
   "outputs": [],
   "source": [
    "fred.standUp()"
   ]
  },
  {
   "cell_type": "code",
   "execution_count": null,
   "metadata": {},
   "outputs": [],
   "source": [
    "print(t)"
   ]
  },
  {
   "cell_type": "code",
   "execution_count": null,
   "metadata": {},
   "outputs": [],
   "source": [
    "t.startGame()"
   ]
  },
  {
   "cell_type": "code",
   "execution_count": null,
   "metadata": {},
   "outputs": [],
   "source": [
    "print(t.buttonSeatNum)"
   ]
  },
  {
   "cell_type": "code",
   "execution_count": null,
   "metadata": {},
   "outputs": [],
   "source": [
    "t.seatedPlayers"
   ]
  },
  {
   "cell_type": "code",
   "execution_count": null,
   "metadata": {},
   "outputs": [],
   "source": [
    "t.getNextSeatNum(3)"
   ]
  },
  {
   "cell_type": "code",
   "execution_count": null,
   "metadata": {},
   "outputs": [],
   "source": [
    "t.removePlayerFromTable(willis)"
   ]
  },
  {
   "cell_type": "code",
   "execution_count": null,
   "metadata": {},
   "outputs": [],
   "source": [
    "t.resetRound()"
   ]
  },
  {
   "cell_type": "code",
   "execution_count": null,
   "metadata": {},
   "outputs": [],
   "source": [
    "t.moveBtton()"
   ]
  },
  {
   "cell_type": "code",
   "execution_count": null,
   "metadata": {},
   "outputs": [],
   "source": [
    "t.clearPlayerHands()\n",
    "t.deal()"
   ]
  },
  {
   "cell_type": "code",
   "execution_count": null,
   "metadata": {},
   "outputs": [],
   "source": [
    "print(list(range(5)))"
   ]
  },
  {
   "cell_type": "code",
   "execution_count": null,
   "metadata": {},
   "outputs": [],
   "source": [
    "#init\n",
    "\n",
    "#create Table\n",
    "#While Table Online\n",
    "    #for player in Table.players where player.seated == True\n",
    "    #create list of seated players\n",
    "    #get ante\n",
    "        #update player investment\n",
    "        #update pot \n",
    "    #deal\n",
    "    #betting round\n",
    "        #\n",
    "    #flop\n",
    "    #betting round\n",
    "    #turn\n",
    "    #betting round\n",
    "    #river\n",
    "    \n",
    "    \n",
    "    \n",
    "    \n",
    "    # Update player status (seated or standing)\n",
    "    # update if table is online or offline\n",
    "\n"
   ]
  },
  {
   "cell_type": "code",
   "execution_count": null,
   "metadata": {},
   "outputs": [],
   "source": [
    "d.clear()\n",
    "d.populate()\n",
    "d.shuffle()"
   ]
  },
  {
   "cell_type": "code",
   "execution_count": null,
   "metadata": {},
   "outputs": [],
   "source": [
    "d.deal(4)"
   ]
  },
  {
   "cell_type": "code",
   "execution_count": null,
   "metadata": {},
   "outputs": [],
   "source": [
    "f=[3,4,8,6]"
   ]
  },
  {
   "cell_type": "code",
   "execution_count": null,
   "metadata": {},
   "outputs": [],
   "source": [
    "f.pop()"
   ]
  },
  {
   "cell_type": "code",
   "execution_count": null,
   "metadata": {},
   "outputs": [],
   "source": [
    "x, y = input(\"Enter action and amount: \").split() \n",
    "print(\"Number of boys: \", x) \n",
    "print(\"Number of girls: \", y) \n",
    "print()"
   ]
  },
  {
   "cell_type": "code",
   "execution_count": null,
   "metadata": {},
   "outputs": [],
   "source": [
    "i=4\n",
    "j=7\n",
    "while i<7:\n",
    "    while j<30:\n",
    "        print(i,j)\n",
    "        i+=1\n",
    "        j+=1"
   ]
  },
  {
   "cell_type": "code",
   "execution_count": null,
   "metadata": {},
   "outputs": [],
   "source": [
    "import csv\n",
    "\n",
    "with open('./testsims/sim.csv', newline='') as csvfile:\n",
    "    data = list(csv.reader(csvfile))\n",
    "\n",
    "print(data)"
   ]
  },
  {
   "cell_type": "code",
   "execution_count": null,
   "metadata": {},
   "outputs": [],
   "source": [
    "c=tuple([5,6])"
   ]
  },
  {
   "cell_type": "code",
   "execution_count": null,
   "metadata": {},
   "outputs": [],
   "source": [
    "a,b=c"
   ]
  },
  {
   "cell_type": "code",
   "execution_count": null,
   "metadata": {},
   "outputs": [],
   "source": [
    "a"
   ]
  },
  {
   "cell_type": "code",
   "execution_count": null,
   "metadata": {},
   "outputs": [],
   "source": [
    "x=[['Call 0'], ['Raise', ' 10'], ['Fold', ' 0'], ['Raise', ' 100'], ['Call', ' 0'], ['Call', ' 0'], ['Call', ' 0'], ['Call', ' 0'], ['Fold', ' 0']]"
   ]
  },
  {
   "cell_type": "code",
   "execution_count": null,
   "metadata": {},
   "outputs": [],
   "source": [
    "x"
   ]
  },
  {
   "cell_type": "code",
   "execution_count": null,
   "metadata": {},
   "outputs": [],
   "source": [
    "x.pop(0)"
   ]
  },
  {
   "cell_type": "code",
   "execution_count": null,
   "metadata": {},
   "outputs": [],
   "source": [
    "x"
   ]
  },
  {
   "cell_type": "code",
   "execution_count": null,
   "metadata": {},
   "outputs": [],
   "source": [
    "for x in enumerate(values):\n",
    "    print(x)"
   ]
  },
  {
   "cell_type": "code",
   "execution_count": null,
   "metadata": {},
   "outputs": [],
   "source": [
    "values"
   ]
  },
  {
   "cell_type": "code",
   "execution_count": null,
   "metadata": {},
   "outputs": [],
   "source": []
  }
 ],
 "metadata": {
  "kernelspec": {
   "display_name": "Python 3",
   "language": "python",
   "name": "python3"
  },
  "language_info": {
   "codemirror_mode": {
    "name": "ipython",
    "version": 3
   },
   "file_extension": ".py",
   "mimetype": "text/x-python",
   "name": "python",
   "nbconvert_exporter": "python",
   "pygments_lexer": "ipython3",
   "version": "3.5.3"
  }
 },
 "nbformat": 4,
 "nbformat_minor": 4
}
