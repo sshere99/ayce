{
 "cells": [
  {
   "cell_type": "code",
   "execution_count": 120,
   "metadata": {},
   "outputs": [
    {
     "name": "stdout",
     "output_type": "stream",
     "text": [
      "The autoreload extension is already loaded. To reload it, use:\n",
      "  %reload_ext autoreload\n"
     ]
    }
   ],
   "source": [
    "%load_ext autoreload"
   ]
  },
  {
   "cell_type": "code",
   "execution_count": 121,
   "metadata": {},
   "outputs": [],
   "source": [
    "%autoreload 2"
   ]
  },
  {
   "cell_type": "code",
   "execution_count": 122,
   "metadata": {},
   "outputs": [],
   "source": [
    "import pktypes\n",
    "from pktypes import *"
   ]
  },
  {
   "cell_type": "code",
   "execution_count": 123,
   "metadata": {},
   "outputs": [],
   "source": [
    "d=Deck()\n",
    "#d.populate()\n",
    "#d.shuffle()"
   ]
  },
  {
   "cell_type": "code",
   "execution_count": 124,
   "metadata": {},
   "outputs": [
    {
     "name": "stdout",
     "output_type": "stream",
     "text": [
      "7h 9s 9c Jc Ah Qc 8s 3d 9h 5d 8c Js Qd 10h 6d 2h Ad Kh Qs 2d Ks As 8d 2s 9d 6s Jh 5s 6h 3s 5h Qh Ac 4d 6c 3h Jd 3c 10c 4h Kd 7s 10d 4c 8h 7d 5c Kc 10s 7c 2c 4s \n"
     ]
    }
   ],
   "source": [
    "#d.shuffle()\n",
    "d.print_cards()"
   ]
  },
  {
   "cell_type": "code",
   "execution_count": 125,
   "metadata": {},
   "outputs": [],
   "source": [
    "d.repopulate()"
   ]
  },
  {
   "cell_type": "code",
   "execution_count": 126,
   "metadata": {},
   "outputs": [],
   "source": [
    "d.shuffle()"
   ]
  },
  {
   "cell_type": "code",
   "execution_count": 127,
   "metadata": {},
   "outputs": [],
   "source": [
    "c=Card('J','s')"
   ]
  },
  {
   "cell_type": "code",
   "execution_count": 128,
   "metadata": {},
   "outputs": [
    {
     "name": "stdout",
     "output_type": "stream",
     "text": [
      "9c\n",
      "Qd\n",
      "9d\n",
      "6h\n"
     ]
    }
   ],
   "source": [
    "for c in d.deal(4):\n",
    "    print(c)"
   ]
  },
  {
   "cell_type": "code",
   "execution_count": 129,
   "metadata": {},
   "outputs": [],
   "source": [
    "#EVAL HANDS\n",
    "plrHnad = [c for c in d.deal(2)]\n",
    "commCards = [c for c in d.deal(5)]\n",
    "allCards = plrHnad + commCards"
   ]
  },
  {
   "cell_type": "code",
   "execution_count": 157,
   "metadata": {},
   "outputs": [],
   "source": [
    "from collections import Counter"
   ]
  },
  {
   "cell_type": "code",
   "execution_count": 171,
   "metadata": {},
   "outputs": [],
   "source": [
    "allCards = [Card('J','s'), Card('J','h'), Card('J','d'), Card('8','d'), Card('7','d'), Card('2','d'), Card('4','d')]"
   ]
  },
  {
   "cell_type": "code",
   "execution_count": 172,
   "metadata": {},
   "outputs": [],
   "source": [
    "values = [v.value for v in allCards]\n",
    "suits = [v.suit for v in allCards]"
   ]
  },
  {
   "cell_type": "code",
   "execution_count": 173,
   "metadata": {},
   "outputs": [
    {
     "name": "stdout",
     "output_type": "stream",
     "text": [
      "[11, 11, 11, 8, 7, 2, 4]\n",
      "['s', 'h', 'd', 'd', 'd', 'd', 'd']\n"
     ]
    }
   ],
   "source": [
    "print(values)\n",
    "print(suits)"
   ]
  },
  {
   "cell_type": "code",
   "execution_count": 174,
   "metadata": {},
   "outputs": [
    {
     "name": "stdout",
     "output_type": "stream",
     "text": [
      "dict_values([1, 1, 3, 1, 1])\n",
      "dict_values([1, 5, 1])\n"
     ]
    }
   ],
   "source": [
    "valcts = Counter(values).values()\n",
    "print(valcts)\n",
    "suitcts = Counter(suits).values()\n",
    "print(suitcts)"
   ]
  },
  {
   "cell_type": "code",
   "execution_count": 178,
   "metadata": {},
   "outputs": [
    {
     "name": "stdout",
     "output_type": "stream",
     "text": [
      "Flush\n"
     ]
    }
   ],
   "source": [
    "straight = checkStraight(values)\n",
    "\n",
    "if 5 in valcts or 6 in valcts or 7 in valcts:\n",
    "    print(\"ERROR\")\n",
    "elif 4 in cts:\n",
    "    print(\"Quads\")\n",
    "elif 3 in valcts and 2 in valcts:\n",
    "    print(\"Full house\")\n",
    "elif 5 in suitcts:\n",
    "    print(\"Flush\")\n",
    "    if straight:\n",
    "        print(\"Actually Straight Flush!\")\n",
    "elif straight:\n",
    "    print(\"Straight\")\n",
    "elif 3 in valcts:\n",
    "    print(\"Trips\")\n",
    "elif 2 in valcts:\n",
    "    print(\" two pair\")         \n",
    "elif 2 in valcts:\n",
    "    print(\"pair\")\n",
    "else:\n",
    "    print(\"high card\")"
   ]
  },
  {
   "cell_type": "code",
   "execution_count": 177,
   "metadata": {},
   "outputs": [],
   "source": [
    "def checkStraight(vals):\n",
    "    return False"
   ]
  },
  {
   "cell_type": "code",
   "execution_count": 24,
   "metadata": {},
   "outputs": [],
   "source": [
    "joe = Player('sdff', 'Joe', bank=44, stack=333)\n",
    "fred = Player('sdf2', 'Fred', bank=44, stack=333)\n",
    "willis = Player('sdf3', 'willis', bank=44, stack=333)\n",
    "sally = Player('sdf9', 'Sally', bank=44, stack=333)\n",
    "lucy = Player('sdf8', 'Lucy', bank=44, stack=333)\n",
    "patty = Player('sdf7', 'Patty', bank=44, stack=333)"
   ]
  },
  {
   "cell_type": "code",
   "execution_count": 25,
   "metadata": {},
   "outputs": [
    {
     "name": "stdout",
     "output_type": "stream",
     "text": [
      "Joe is the player and they have 333 chips\n"
     ]
    }
   ],
   "source": [
    "print(joe)"
   ]
  },
  {
   "cell_type": "code",
   "execution_count": 26,
   "metadata": {},
   "outputs": [],
   "source": [
    "t = Table(5)"
   ]
  },
  {
   "cell_type": "code",
   "execution_count": 28,
   "metadata": {},
   "outputs": [],
   "source": [
    "t.addPlayerToLobby(joe)\n",
    "t.addPlayerToLobby(fred)\n",
    "t.addPlayerToLobby(willis)\n",
    "t.addPlayerToLobby(sally)\n",
    "t.addPlayerToLobby(lucy)\n",
    "t.addPlayerToLobby(patty)"
   ]
  },
  {
   "cell_type": "code",
   "execution_count": 29,
   "metadata": {},
   "outputs": [
    {
     "data": {
      "text/plain": [
       "<pktypes.Table at 0x7f584c1c7908>"
      ]
     },
     "execution_count": 29,
     "metadata": {},
     "output_type": "execute_result"
    }
   ],
   "source": [
    "joe.atTable"
   ]
  },
  {
   "cell_type": "code",
   "execution_count": 31,
   "metadata": {},
   "outputs": [
    {
     "name": "stderr",
     "output_type": "stream",
     "text": [
      "INFO:root:No more seats at the table\n"
     ]
    }
   ],
   "source": [
    "for player in t.playersInLobby:\n",
    "    player.sitDown()"
   ]
  },
  {
   "cell_type": "code",
   "execution_count": 36,
   "metadata": {},
   "outputs": [
    {
     "name": "stderr",
     "output_type": "stream",
     "text": [
      "DEBUG:root:Community Cards: ['9s', '6d', '5h', '4s', '4c', 'Jh', '2h', '9c', '4h', '3h', 'Qh']\n"
     ]
    }
   ],
   "source": [
    "t.dealCommCards(1)"
   ]
  },
  {
   "cell_type": "code",
   "execution_count": null,
   "metadata": {},
   "outputs": [],
   "source": [
    "joe.leaveTable()"
   ]
  },
  {
   "cell_type": "code",
   "execution_count": null,
   "metadata": {},
   "outputs": [],
   "source": [
    "fred.standUp()"
   ]
  },
  {
   "cell_type": "code",
   "execution_count": 43,
   "metadata": {},
   "outputs": [
    {
     "name": "stdout",
     "output_type": "stream",
     "text": [
      "Table online is False Players in Lobby ['Joe', 'Fred', 'willis', 'Sally', 'Lucy', 'Patty']\n",
      "\n",
      " Open Seat nums[]\n",
      "seated players:\n",
      "0 - Lucy STACK:333\n",
      "1 - Sally STACK:333\n",
      "2 - willis STACK:333\n",
      "3 - Fred STACK:333\n",
      "4 - Joe STACK:333\n",
      "\n"
     ]
    }
   ],
   "source": [
    "print(t)"
   ]
  },
  {
   "cell_type": "code",
   "execution_count": 44,
   "metadata": {},
   "outputs": [],
   "source": [
    "t.startGame()"
   ]
  },
  {
   "cell_type": "code",
   "execution_count": 45,
   "metadata": {},
   "outputs": [
    {
     "name": "stdout",
     "output_type": "stream",
     "text": [
      "4\n"
     ]
    }
   ],
   "source": [
    "print(t.buttonSeatNum)"
   ]
  },
  {
   "cell_type": "code",
   "execution_count": 40,
   "metadata": {},
   "outputs": [
    {
     "data": {
      "text/plain": [
       "[<pktypes.Player at 0x7f584c1be5f8>,\n",
       " <pktypes.Player at 0x7f584c1be5c0>,\n",
       " <pktypes.Player at 0x7f584c1be550>,\n",
       " <pktypes.Player at 0x7f584c1be4e0>,\n",
       " <pktypes.Player at 0x7f584c1be518>]"
      ]
     },
     "execution_count": 40,
     "metadata": {},
     "output_type": "execute_result"
    }
   ],
   "source": [
    "t.seatedPlayers"
   ]
  },
  {
   "cell_type": "code",
   "execution_count": null,
   "metadata": {},
   "outputs": [],
   "source": [
    "t.getNextSeatNum(3)"
   ]
  },
  {
   "cell_type": "code",
   "execution_count": null,
   "metadata": {},
   "outputs": [],
   "source": [
    "t.removePlayerFromTable(willis)"
   ]
  },
  {
   "cell_type": "code",
   "execution_count": null,
   "metadata": {},
   "outputs": [],
   "source": [
    "t.resetRound()"
   ]
  },
  {
   "cell_type": "code",
   "execution_count": null,
   "metadata": {},
   "outputs": [],
   "source": [
    "t.moveBtton()"
   ]
  },
  {
   "cell_type": "code",
   "execution_count": null,
   "metadata": {},
   "outputs": [],
   "source": [
    "t.clearPlayerHands()\n",
    "t.deal()"
   ]
  },
  {
   "cell_type": "code",
   "execution_count": null,
   "metadata": {},
   "outputs": [],
   "source": [
    "print(list(range(5)))"
   ]
  },
  {
   "cell_type": "code",
   "execution_count": null,
   "metadata": {},
   "outputs": [],
   "source": [
    "#init\n",
    "\n",
    "#create Table\n",
    "#While Table Online\n",
    "    #for player in Table.players where player.seated == True\n",
    "    #create list of seated players\n",
    "    #get ante\n",
    "        #update player investment\n",
    "        #update pot \n",
    "    #deal\n",
    "    #betting round\n",
    "        #\n",
    "    #flop\n",
    "    #betting round\n",
    "    #turn\n",
    "    #betting round\n",
    "    #river\n",
    "    \n",
    "    \n",
    "    \n",
    "    \n",
    "    # Update player status (seated or standing)\n",
    "    # update if table is online or offline\n",
    "\n"
   ]
  },
  {
   "cell_type": "code",
   "execution_count": null,
   "metadata": {},
   "outputs": [],
   "source": [
    "d.clear()\n",
    "d.populate()\n",
    "d.shuffle()"
   ]
  },
  {
   "cell_type": "code",
   "execution_count": null,
   "metadata": {},
   "outputs": [],
   "source": [
    "d.deal(4)"
   ]
  },
  {
   "cell_type": "code",
   "execution_count": null,
   "metadata": {},
   "outputs": [],
   "source": [
    "f=[3,4,8,6]"
   ]
  },
  {
   "cell_type": "code",
   "execution_count": null,
   "metadata": {},
   "outputs": [],
   "source": [
    "f.pop()"
   ]
  },
  {
   "cell_type": "code",
   "execution_count": 4,
   "metadata": {},
   "outputs": [
    {
     "name": "stdin",
     "output_type": "stream",
     "text": [
      "Enter action and amount:  4\n"
     ]
    },
    {
     "ename": "ValueError",
     "evalue": "not enough values to unpack (expected 2, got 1)",
     "output_type": "error",
     "traceback": [
      "\u001b[0;31m---------------------------------------------------------------------------\u001b[0m",
      "\u001b[0;31mValueError\u001b[0m                                Traceback (most recent call last)",
      "\u001b[0;32m<ipython-input-4-be0554467135>\u001b[0m in \u001b[0;36m<module>\u001b[0;34m\u001b[0m\n\u001b[0;32m----> 1\u001b[0;31m \u001b[0mx\u001b[0m\u001b[0;34m,\u001b[0m \u001b[0my\u001b[0m \u001b[0;34m=\u001b[0m \u001b[0minput\u001b[0m\u001b[0;34m(\u001b[0m\u001b[0;34m\"Enter action and amount: \"\u001b[0m\u001b[0;34m)\u001b[0m\u001b[0;34m.\u001b[0m\u001b[0msplit\u001b[0m\u001b[0;34m(\u001b[0m\u001b[0;34m)\u001b[0m\u001b[0;34m\u001b[0m\u001b[0m\n\u001b[0m\u001b[1;32m      2\u001b[0m \u001b[0mprint\u001b[0m\u001b[0;34m(\u001b[0m\u001b[0;34m\"Number of boys: \"\u001b[0m\u001b[0;34m,\u001b[0m \u001b[0mx\u001b[0m\u001b[0;34m)\u001b[0m\u001b[0;34m\u001b[0m\u001b[0m\n\u001b[1;32m      3\u001b[0m \u001b[0mprint\u001b[0m\u001b[0;34m(\u001b[0m\u001b[0;34m\"Number of girls: \"\u001b[0m\u001b[0;34m,\u001b[0m \u001b[0my\u001b[0m\u001b[0;34m)\u001b[0m\u001b[0;34m\u001b[0m\u001b[0m\n\u001b[1;32m      4\u001b[0m \u001b[0mprint\u001b[0m\u001b[0;34m(\u001b[0m\u001b[0;34m)\u001b[0m\u001b[0;34m\u001b[0m\u001b[0m\n",
      "\u001b[0;31mValueError\u001b[0m: not enough values to unpack (expected 2, got 1)"
     ]
    }
   ],
   "source": [
    "x, y = input(\"Enter action and amount: \").split() \n",
    "print(\"Number of boys: \", x) \n",
    "print(\"Number of girls: \", y) \n",
    "print()"
   ]
  },
  {
   "cell_type": "code",
   "execution_count": 6,
   "metadata": {},
   "outputs": [
    {
     "name": "stdout",
     "output_type": "stream",
     "text": [
      "4 7\n",
      "5 8\n",
      "6 9\n",
      "7 10\n",
      "8 11\n",
      "9 12\n",
      "10 13\n",
      "11 14\n",
      "12 15\n",
      "13 16\n",
      "14 17\n",
      "15 18\n",
      "16 19\n",
      "17 20\n",
      "18 21\n",
      "19 22\n",
      "20 23\n",
      "21 24\n",
      "22 25\n",
      "23 26\n",
      "24 27\n",
      "25 28\n",
      "26 29\n"
     ]
    }
   ],
   "source": [
    "i=4\n",
    "j=7\n",
    "while i<7:\n",
    "    while j<30:\n",
    "        print(i,j)\n",
    "        i+=1\n",
    "        j+=1"
   ]
  },
  {
   "cell_type": "code",
   "execution_count": 10,
   "metadata": {},
   "outputs": [
    {
     "name": "stdout",
     "output_type": "stream",
     "text": [
      "[['Raise', ' 200'], ['Call 0'], ['Raise', ' 10'], ['Fold', ' 0'], ['Raise', ' 100'], ['Call', ' 0'], ['Call', ' 0'], ['Call', ' 0'], ['Call', ' 0'], ['Fold', ' 0']]\n"
     ]
    }
   ],
   "source": [
    "import csv\n",
    "\n",
    "with open('./testsims/sim.csv', newline='') as csvfile:\n",
    "    data = list(csv.reader(csvfile))\n",
    "\n",
    "print(data)"
   ]
  },
  {
   "cell_type": "code",
   "execution_count": 12,
   "metadata": {},
   "outputs": [],
   "source": [
    "c=tuple([5,6])"
   ]
  },
  {
   "cell_type": "code",
   "execution_count": 13,
   "metadata": {},
   "outputs": [],
   "source": [
    "a,b=c"
   ]
  },
  {
   "cell_type": "code",
   "execution_count": 14,
   "metadata": {},
   "outputs": [
    {
     "data": {
      "text/plain": [
       "5"
      ]
     },
     "execution_count": 14,
     "metadata": {},
     "output_type": "execute_result"
    }
   ],
   "source": [
    "a"
   ]
  },
  {
   "cell_type": "code",
   "execution_count": 15,
   "metadata": {},
   "outputs": [],
   "source": [
    "x=[['Call 0'], ['Raise', ' 10'], ['Fold', ' 0'], ['Raise', ' 100'], ['Call', ' 0'], ['Call', ' 0'], ['Call', ' 0'], ['Call', ' 0'], ['Fold', ' 0']]"
   ]
  },
  {
   "cell_type": "code",
   "execution_count": 16,
   "metadata": {},
   "outputs": [
    {
     "data": {
      "text/plain": [
       "[['Call 0'],\n",
       " ['Raise', ' 10'],\n",
       " ['Fold', ' 0'],\n",
       " ['Raise', ' 100'],\n",
       " ['Call', ' 0'],\n",
       " ['Call', ' 0'],\n",
       " ['Call', ' 0'],\n",
       " ['Call', ' 0'],\n",
       " ['Fold', ' 0']]"
      ]
     },
     "execution_count": 16,
     "metadata": {},
     "output_type": "execute_result"
    }
   ],
   "source": [
    "x"
   ]
  },
  {
   "cell_type": "code",
   "execution_count": 17,
   "metadata": {},
   "outputs": [
    {
     "data": {
      "text/plain": [
       "['Call 0']"
      ]
     },
     "execution_count": 17,
     "metadata": {},
     "output_type": "execute_result"
    }
   ],
   "source": [
    "x.pop(0)"
   ]
  },
  {
   "cell_type": "code",
   "execution_count": 18,
   "metadata": {},
   "outputs": [
    {
     "data": {
      "text/plain": [
       "[['Raise', ' 10'],\n",
       " ['Fold', ' 0'],\n",
       " ['Raise', ' 100'],\n",
       " ['Call', ' 0'],\n",
       " ['Call', ' 0'],\n",
       " ['Call', ' 0'],\n",
       " ['Call', ' 0'],\n",
       " ['Fold', ' 0']]"
      ]
     },
     "execution_count": 18,
     "metadata": {},
     "output_type": "execute_result"
    }
   ],
   "source": [
    "x"
   ]
  },
  {
   "cell_type": "code",
   "execution_count": null,
   "metadata": {},
   "outputs": [],
   "source": []
  }
 ],
 "metadata": {
  "kernelspec": {
   "display_name": "Python 3",
   "language": "python",
   "name": "python3"
  },
  "language_info": {
   "codemirror_mode": {
    "name": "ipython",
    "version": 3
   },
   "file_extension": ".py",
   "mimetype": "text/x-python",
   "name": "python",
   "nbconvert_exporter": "python",
   "pygments_lexer": "ipython3",
   "version": "3.5.3"
  }
 },
 "nbformat": 4,
 "nbformat_minor": 4
}
