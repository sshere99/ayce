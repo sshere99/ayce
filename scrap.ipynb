{
 "cells": [
  {
   "cell_type": "code",
   "execution_count": 1,
   "metadata": {},
   "outputs": [],
   "source": [
    "%load_ext autoreload"
   ]
  },
  {
   "cell_type": "code",
   "execution_count": 2,
   "metadata": {},
   "outputs": [],
   "source": [
    "%autoreload 2"
   ]
  },
  {
   "cell_type": "code",
   "execution_count": 3,
   "metadata": {},
   "outputs": [],
   "source": [
    "import pktypes\n",
    "from pktypes import *"
   ]
  },
  {
   "cell_type": "code",
   "execution_count": 4,
   "metadata": {},
   "outputs": [],
   "source": [
    "d=Deck()\n",
    "#d.populate()\n",
    "#d.shuffle()"
   ]
  },
  {
   "cell_type": "code",
   "execution_count": 5,
   "metadata": {},
   "outputs": [
    {
     "name": "stdout",
     "output_type": "stream",
     "text": [
      "As 2h 7c Ad Qh 7s 10s 8s 8h 2s Qs 9s 9d 8d 6d 3h 4h 7d 5h 4c 7h 3s Jd 3d 2d 6h 2c 6s 6c Js Qc Ac 4d 5d 4s Kh Ks 9c 10d Jh 5s 10h Jc 10c Kd Ah Kc 8c 5c 3c 9h Qd \n"
     ]
    }
   ],
   "source": [
    "#d.shuffle()\n",
    "d.print_cards()"
   ]
  },
  {
   "cell_type": "code",
   "execution_count": 6,
   "metadata": {},
   "outputs": [],
   "source": [
    "d.repopulate()"
   ]
  },
  {
   "cell_type": "code",
   "execution_count": 7,
   "metadata": {},
   "outputs": [],
   "source": [
    "d.shuffle()"
   ]
  },
  {
   "cell_type": "code",
   "execution_count": 8,
   "metadata": {},
   "outputs": [],
   "source": [
    "c=Card('J','s')"
   ]
  },
  {
   "cell_type": "code",
   "execution_count": 9,
   "metadata": {},
   "outputs": [
    {
     "name": "stdout",
     "output_type": "stream",
     "text": [
      "6h\n",
      "2s\n",
      "3d\n",
      "9d\n"
     ]
    }
   ],
   "source": [
    "for c in d.deal(4):\n",
    "    print(c)"
   ]
  },
  {
   "cell_type": "code",
   "execution_count": null,
   "metadata": {},
   "outputs": [],
   "source": [
    "#EVAL HANDS\n",
    "plrHnad = [c for c in d.deal(2)]\n",
    "commCards = [c for c in d.deal(5)]\n",
    "allCards = plrHnad + commCards"
   ]
  },
  {
   "cell_type": "code",
   "execution_count": 12,
   "metadata": {},
   "outputs": [],
   "source": [
    "from collections import Counter"
   ]
  },
  {
   "cell_type": "code",
   "execution_count": 185,
   "metadata": {},
   "outputs": [],
   "source": [
    "allCards = [Card('2','s'), Card('2','h'), Card('2','d'), Card('5','d'), Card('6','d'), Card('Q','d'), Card('K','d')]"
   ]
  },
  {
   "cell_type": "code",
   "execution_count": 186,
   "metadata": {},
   "outputs": [],
   "source": [
    "values = [v.value for v in allCards]\n",
    "suits = [v.suit for v in allCards]\n",
    "ranks = [v.rank for v in allCards]\n",
    "valcts = Counter(values).values()\n",
    "suitcts = Counter(suits).values()"
   ]
  },
  {
   "cell_type": "code",
   "execution_count": 187,
   "metadata": {},
   "outputs": [
    {
     "name": "stdout",
     "output_type": "stream",
     "text": [
      "Counter({'d': 5, 'h': 1, 's': 1})\n",
      "Counter({2: 3, 12: 1, 5: 1, 6: 1, 13: 1})\n"
     ]
    }
   ],
   "source": [
    "print(Counter(suits))\n",
    "print(Counter(values))"
   ]
  },
  {
   "cell_type": "code",
   "execution_count": 15,
   "metadata": {},
   "outputs": [
    {
     "name": "stdout",
     "output_type": "stream",
     "text": [
      "[2, 3, 4, 5, 6, 12, 13]\n",
      "['s', 'h', 'd', 'd', 'd', 'd', 'd']\n",
      "['2', '3', '4', '5', '6', 'Q', 'K']\n",
      "dict_values([1, 1, 1, 1, 1, 1, 1])\n",
      "dict_values([1, 1, 5])\n"
     ]
    }
   ],
   "source": [
    "print(values)\n",
    "print(suits)\n",
    "print(ranks)\n",
    "print(valcts)\n",
    "print(suitcts)"
   ]
  },
  {
   "cell_type": "code",
   "execution_count": 16,
   "metadata": {},
   "outputs": [
    {
     "ename": "SyntaxError",
     "evalue": "invalid syntax (<ipython-input-16-0ddca3d41b2c>, line 49)",
     "output_type": "error",
     "traceback": [
      "\u001b[0;36m  File \u001b[0;32m\"<ipython-input-16-0ddca3d41b2c>\"\u001b[0;36m, line \u001b[0;32m49\u001b[0m\n\u001b[0;31m    straight, strtval = checkStraight(values, suits)\u001b[0m\n\u001b[0m                      ^\u001b[0m\n\u001b[0;31mSyntaxError\u001b[0m\u001b[0;31m:\u001b[0m invalid syntax\n"
     ]
    }
   ],
   "source": [
    "## Use this convention\n",
    "#isHandType = (True/False, vals of hand, hand score)\n",
    "values = [v.value for v in allCards]\n",
    "suits = [v.suit for v in allCards]\n",
    "ranks = [v.rank for v in allCards]\n",
    "valcts = Counter(values).values()\n",
    "suitcts = Counter(suits).values()\n",
    "\n",
    "isFlush = isStraight = isQuads = isFull = isTrips = isTwoPair = isPair = False\n",
    "\n",
    "isStraight = checkStraight(values, suits, ranks)\n",
    "isFlush = checkFlush(values, suits, ranks)\n",
    "isQuads = checkQuads(values, suits, ranks)\n",
    "isFullHouse = checkFullHouse(values, suits, ranks)\n",
    "isTrips = checkTrips(values, suits, ranks)\n",
    "isTwoPair = checkTwoPair(values, suits, ranks)\n",
    "isPair = checkPair(values, suits, ranks)\n",
    "\n",
    "if isStraight[0] and isFlush[0]:\n",
    "    isStraightFlush = checkStraightFlush(isFlush[1])\n",
    "    if isStraightFlush:\n",
    "        return isStraightFlush \n",
    "\n",
    "elif isQuads[0]:\n",
    "    return isQuads[1]   \n",
    "    \n",
    "elif isFullHouse[0]:\n",
    "    return isFullHouse[1]\n",
    "\n",
    "elif isFlush[0]:\n",
    "    return isFlush[1]\n",
    "\n",
    "elif isStraight[0]:\n",
    "    return isStraight[1]\n",
    "\n",
    "elif isTrips[0]:\n",
    "    return isTrips[1]\n",
    "\n",
    "\n",
    "    \n",
    "\n",
    "\n",
    "\n",
    "\n",
    "\n",
    "\n",
    "if 5 in suitcts:\n",
    "    isFlush = (True, \n",
    "straight, strtval = checkStraight(values, suits)\n",
    "\n",
    "if 5 in valcts or 6 in valcts or 7 in valcts:\n",
    "    print(\"ERROR\")\n",
    "elif 4 in cts:\n",
    "    print(\"Quads\")\n",
    "elif 3 in valcts and 2 in valcts:\n",
    "    print(\"Full house\")\n",
    "elif 5 in suitcts:\n",
    "    print(\"Flush\")\n",
    "    if straight:\n",
    "        print(\"Run Check for StraightFlush function\")\n",
    "elif straight:\n",
    "    print(\"Straight\")\n",
    "elif 3 in valcts:\n",
    "    print(\"Trips\")\n",
    "elif 2 in valcts:\n",
    "    print(\" two pair\")         \n",
    "elif 2 in valcts:\n",
    "    print(\"pair\")\n",
    "else:\n",
    "    print(\"high card\")"
   ]
  },
  {
   "cell_type": "code",
   "execution_count": 19,
   "metadata": {},
   "outputs": [
    {
     "name": "stdout",
     "output_type": "stream",
     "text": [
      "{8, 9, 10, 6, 7}\n",
      "Counter({'h': 2, 's': 2, 'd': 2, 'c': 1})\n"
     ]
    }
   ],
   "source": [
    "values = [9,9,7,6,6,8,10]\n",
    "suits = ['h','d','d','c','h','s','s']\n",
    "hand = set(values)\n",
    "print(hand)\n",
    "print(Counter(suits))"
   ]
  },
  {
   "cell_type": "code",
   "execution_count": 196,
   "metadata": {},
   "outputs": [],
   "source": [
    "PAIRSCORE=100\n",
    "TWOPAIRSCORE=200\n",
    "TRIPSCORE=300\n",
    "STRAIGHTSCORE=400\n",
    "FLUSHSCORE=500\n",
    "FULLSCORE=600\n",
    "QUADSCORE=700\n",
    "STRFLSCORE=800\n",
    "\n",
    "def checkStraight(vals, suits, ranks):\n",
    "    hand = set(vals)\n",
    "    if 14 in hand:\n",
    "        hand.add(1) # Account for Ace being a low card\n",
    "    for low in range(10,0,-1):\n",
    "        straight = set(range(low, low+5))\n",
    "        if len(straight-hand) < 1:\n",
    "            isStraight = True\n",
    "            straightval = list(sorted(straight))\n",
    "            highcard = low+4\n",
    "            score = STRAIGHTSCORE+int(highcard)\n",
    "            return (True, straightval, score)\n",
    "    return (False, None, 0)\n",
    "\n",
    "def checkFlush(vals, suits, ranks):\n",
    "    suit_dict = Counter(suits)\n",
    "    if 5 in suit_dict.values() or 6 in suit_dict.values() or 7 in suit_dict.values():\n",
    "        flushvals=[]\n",
    "        for s, cnt in suit_dict.items():\n",
    "            if cnt>4:\n",
    "                flush_suit = s\n",
    "        for idx in range(len(suits)):\n",
    "            if suits[idx] == flush_suit:\n",
    "                flushvals.append(vals[idx])\n",
    "        flushvals = list(sorted(flushvals))\n",
    "        highcard = flushvals[-1]\n",
    "        score=FLUSHSCORE+highcard       \n",
    "        return (True, flushvals, score)\n",
    "    return (False, None, 0)\n",
    "\n",
    "#Call only if both straight and flush\n",
    "def checkStraightFlush(flushvals):\n",
    "    if 14 in flushvals:\n",
    "        flushvals.append(1) # Treat Ace as a low card as well\n",
    "    flushset = set(flushvals)\n",
    "    for low in range(10,0,-1):\n",
    "        straight = set(range(low, low+5))\n",
    "        if len(straight-flushset) < 1:\n",
    "            flushvals = list(sorted(flushvals))\n",
    "            highcard = low+4\n",
    "            score = STRFLSCORE+int(highcard)\n",
    "            return (True, flushvals, score)\n",
    "    return (False, None, 0)\n",
    "        \n",
    "def checkQuads(vals):\n",
    "    for card, count in Counter(vals).items():\n",
    "        if count == 4:\n",
    "            return (True, card, QUADSCORE+int(card))\n",
    "    return (False, None, 0)\n",
    "\n",
    "def checkFullHouse(vals, suits, ranks):\n",
    "    pass\n",
    "\n",
    "def checkTrips(vals, suits, ranks):\n",
    "    pass\n",
    "\n",
    "def checkTwoPair(vals, suits, ranks):\n",
    "    pass\n",
    "\n",
    "def checkPair(vals, suits, ranks):\n",
    "    pass"
   ]
  },
  {
   "cell_type": "code",
   "execution_count": 205,
   "metadata": {},
   "outputs": [],
   "source": [
    "allCards = [Card('A','d'), Card('K','d'), Card('A','d'), Card('A','d'), Card('7','s'), Card('7','d'), Card('A','d')]"
   ]
  },
  {
   "cell_type": "code",
   "execution_count": 206,
   "metadata": {},
   "outputs": [],
   "source": [
    "vals = [v.value for v in allCards]\n",
    "suits = [v.suit for v in allCards]\n",
    "ranks = [v.rank for v in allCards]"
   ]
  },
  {
   "cell_type": "code",
   "execution_count": 207,
   "metadata": {},
   "outputs": [
    {
     "data": {
      "text/plain": [
       "(False, None, 0)"
      ]
     },
     "execution_count": 207,
     "metadata": {},
     "output_type": "execute_result"
    }
   ],
   "source": [
    "checkStraight(vals, suits, ranks)"
   ]
  },
  {
   "cell_type": "code",
   "execution_count": 208,
   "metadata": {},
   "outputs": [
    {
     "data": {
      "text/plain": [
       "(True, [7, 13, 14, 14, 14, 14], 514)"
      ]
     },
     "execution_count": 208,
     "metadata": {},
     "output_type": "execute_result"
    }
   ],
   "source": [
    "checkFlush(vals, suits, ranks)"
   ]
  },
  {
   "cell_type": "code",
   "execution_count": 209,
   "metadata": {},
   "outputs": [],
   "source": [
    "fvals = checkFlush(vals, suits, ranks)"
   ]
  },
  {
   "cell_type": "code",
   "execution_count": 210,
   "metadata": {},
   "outputs": [
    {
     "data": {
      "text/plain": [
       "(False, None, 0)"
      ]
     },
     "execution_count": 210,
     "metadata": {},
     "output_type": "execute_result"
    }
   ],
   "source": [
    "checkStraightFlush(fvals[1])"
   ]
  },
  {
   "cell_type": "code",
   "execution_count": 211,
   "metadata": {},
   "outputs": [
    {
     "data": {
      "text/plain": [
       "(True, 14, 714)"
      ]
     },
     "execution_count": 211,
     "metadata": {},
     "output_type": "execute_result"
    }
   ],
   "source": [
    "checkQuads(vals)"
   ]
  },
  {
   "cell_type": "code",
   "execution_count": null,
   "metadata": {},
   "outputs": [],
   "source": []
  },
  {
   "cell_type": "code",
   "execution_count": 146,
   "metadata": {},
   "outputs": [
    {
     "name": "stdout",
     "output_type": "stream",
     "text": [
      "10\n",
      "{10, 11, 12, 13, 14}\n",
      "9\n",
      "{9, 10, 11, 12, 13}\n",
      "8\n",
      "{8, 9, 10, 11, 12}\n",
      "7\n",
      "{8, 9, 10, 11, 7}\n",
      "6\n",
      "{8, 9, 10, 6, 7}\n",
      "5\n",
      "{8, 9, 5, 6, 7}\n",
      "4\n",
      "{8, 4, 5, 6, 7}\n",
      "3\n",
      "{3, 4, 5, 6, 7}\n",
      "2\n",
      "{2, 3, 4, 5, 6}\n",
      "1\n",
      "{1, 2, 3, 4, 5}\n"
     ]
    }
   ],
   "source": [
    "for low in range(10,0,-1):\n",
    "    print(low)\n",
    "    straight = set(range(low, low+5))\n",
    "    print(straight)"
   ]
  },
  {
   "cell_type": "code",
   "execution_count": 23,
   "metadata": {},
   "outputs": [],
   "source": [
    "r = ['8','4','10','5','6','A','K']"
   ]
  },
  {
   "cell_type": "code",
   "execution_count": 24,
   "metadata": {},
   "outputs": [
    {
     "data": {
      "text/plain": [
       "['10', '4', '5', '6', '8', 'A', 'K']"
      ]
     },
     "execution_count": 24,
     "metadata": {},
     "output_type": "execute_result"
    }
   ],
   "source": [
    "sorted(r)"
   ]
  },
  {
   "cell_type": "code",
   "execution_count": null,
   "metadata": {},
   "outputs": [],
   "source": [
    "checkStraight(r)"
   ]
  },
  {
   "cell_type": "code",
   "execution_count": null,
   "metadata": {},
   "outputs": [],
   "source": [
    "joe = Player('sdff', 'Joe', bank=44, stack=333)\n",
    "fred = Player('sdf2', 'Fred', bank=44, stack=333)\n",
    "willis = Player('sdf3', 'willis', bank=44, stack=333)\n",
    "sally = Player('sdf9', 'Sally', bank=44, stack=333)\n",
    "lucy = Player('sdf8', 'Lucy', bank=44, stack=333)\n",
    "patty = Player('sdf7', 'Patty', bank=44, stack=333)"
   ]
  },
  {
   "cell_type": "code",
   "execution_count": null,
   "metadata": {},
   "outputs": [],
   "source": [
    "print(joe)"
   ]
  },
  {
   "cell_type": "code",
   "execution_count": null,
   "metadata": {},
   "outputs": [],
   "source": [
    "t = Table(5)"
   ]
  },
  {
   "cell_type": "code",
   "execution_count": null,
   "metadata": {},
   "outputs": [],
   "source": [
    "t.addPlayerToLobby(joe)\n",
    "t.addPlayerToLobby(fred)\n",
    "t.addPlayerToLobby(willis)\n",
    "t.addPlayerToLobby(sally)\n",
    "t.addPlayerToLobby(lucy)\n",
    "t.addPlayerToLobby(patty)"
   ]
  },
  {
   "cell_type": "code",
   "execution_count": null,
   "metadata": {},
   "outputs": [],
   "source": [
    "joe.atTable"
   ]
  },
  {
   "cell_type": "code",
   "execution_count": null,
   "metadata": {},
   "outputs": [],
   "source": [
    "for player in t.playersInLobby:\n",
    "    player.sitDown()"
   ]
  },
  {
   "cell_type": "code",
   "execution_count": null,
   "metadata": {},
   "outputs": [],
   "source": [
    "t.dealCommCards(1)"
   ]
  },
  {
   "cell_type": "code",
   "execution_count": null,
   "metadata": {},
   "outputs": [],
   "source": [
    "joe.leaveTable()"
   ]
  },
  {
   "cell_type": "code",
   "execution_count": null,
   "metadata": {},
   "outputs": [],
   "source": [
    "fred.standUp()"
   ]
  },
  {
   "cell_type": "code",
   "execution_count": null,
   "metadata": {},
   "outputs": [],
   "source": [
    "print(t)"
   ]
  },
  {
   "cell_type": "code",
   "execution_count": null,
   "metadata": {},
   "outputs": [],
   "source": [
    "t.startGame()"
   ]
  },
  {
   "cell_type": "code",
   "execution_count": null,
   "metadata": {},
   "outputs": [],
   "source": [
    "print(t.buttonSeatNum)"
   ]
  },
  {
   "cell_type": "code",
   "execution_count": null,
   "metadata": {},
   "outputs": [],
   "source": [
    "t.seatedPlayers"
   ]
  },
  {
   "cell_type": "code",
   "execution_count": null,
   "metadata": {},
   "outputs": [],
   "source": [
    "t.getNextSeatNum(3)"
   ]
  },
  {
   "cell_type": "code",
   "execution_count": null,
   "metadata": {},
   "outputs": [],
   "source": [
    "t.removePlayerFromTable(willis)"
   ]
  },
  {
   "cell_type": "code",
   "execution_count": null,
   "metadata": {},
   "outputs": [],
   "source": [
    "t.resetRound()"
   ]
  },
  {
   "cell_type": "code",
   "execution_count": null,
   "metadata": {},
   "outputs": [],
   "source": [
    "t.moveBtton()"
   ]
  },
  {
   "cell_type": "code",
   "execution_count": null,
   "metadata": {},
   "outputs": [],
   "source": [
    "t.clearPlayerHands()\n",
    "t.deal()"
   ]
  },
  {
   "cell_type": "code",
   "execution_count": null,
   "metadata": {},
   "outputs": [],
   "source": [
    "print(list(range(5)))"
   ]
  },
  {
   "cell_type": "code",
   "execution_count": null,
   "metadata": {},
   "outputs": [],
   "source": [
    "#init\n",
    "\n",
    "#create Table\n",
    "#While Table Online\n",
    "    #for player in Table.players where player.seated == True\n",
    "    #create list of seated players\n",
    "    #get ante\n",
    "        #update player investment\n",
    "        #update pot \n",
    "    #deal\n",
    "    #betting round\n",
    "        #\n",
    "    #flop\n",
    "    #betting round\n",
    "    #turn\n",
    "    #betting round\n",
    "    #river\n",
    "    \n",
    "    \n",
    "    \n",
    "    \n",
    "    # Update player status (seated or standing)\n",
    "    # update if table is online or offline\n",
    "\n"
   ]
  },
  {
   "cell_type": "code",
   "execution_count": null,
   "metadata": {},
   "outputs": [],
   "source": [
    "d.clear()\n",
    "d.populate()\n",
    "d.shuffle()"
   ]
  },
  {
   "cell_type": "code",
   "execution_count": null,
   "metadata": {},
   "outputs": [],
   "source": [
    "d.deal(4)"
   ]
  },
  {
   "cell_type": "code",
   "execution_count": null,
   "metadata": {},
   "outputs": [],
   "source": [
    "f=[3,4,8,6]"
   ]
  },
  {
   "cell_type": "code",
   "execution_count": null,
   "metadata": {},
   "outputs": [],
   "source": [
    "f.pop()"
   ]
  },
  {
   "cell_type": "code",
   "execution_count": null,
   "metadata": {},
   "outputs": [],
   "source": [
    "x, y = input(\"Enter action and amount: \").split() \n",
    "print(\"Number of boys: \", x) \n",
    "print(\"Number of girls: \", y) \n",
    "print()"
   ]
  },
  {
   "cell_type": "code",
   "execution_count": null,
   "metadata": {},
   "outputs": [],
   "source": [
    "i=4\n",
    "j=7\n",
    "while i<7:\n",
    "    while j<30:\n",
    "        print(i,j)\n",
    "        i+=1\n",
    "        j+=1"
   ]
  },
  {
   "cell_type": "code",
   "execution_count": null,
   "metadata": {},
   "outputs": [],
   "source": [
    "import csv\n",
    "\n",
    "with open('./testsims/sim.csv', newline='') as csvfile:\n",
    "    data = list(csv.reader(csvfile))\n",
    "\n",
    "print(data)"
   ]
  },
  {
   "cell_type": "code",
   "execution_count": null,
   "metadata": {},
   "outputs": [],
   "source": [
    "c=tuple([5,6])"
   ]
  },
  {
   "cell_type": "code",
   "execution_count": null,
   "metadata": {},
   "outputs": [],
   "source": [
    "a,b=c"
   ]
  },
  {
   "cell_type": "code",
   "execution_count": null,
   "metadata": {},
   "outputs": [],
   "source": [
    "a"
   ]
  },
  {
   "cell_type": "code",
   "execution_count": null,
   "metadata": {},
   "outputs": [],
   "source": [
    "x=[['Call 0'], ['Raise', ' 10'], ['Fold', ' 0'], ['Raise', ' 100'], ['Call', ' 0'], ['Call', ' 0'], ['Call', ' 0'], ['Call', ' 0'], ['Fold', ' 0']]"
   ]
  },
  {
   "cell_type": "code",
   "execution_count": null,
   "metadata": {},
   "outputs": [],
   "source": [
    "x"
   ]
  },
  {
   "cell_type": "code",
   "execution_count": null,
   "metadata": {},
   "outputs": [],
   "source": [
    "x.pop(0)"
   ]
  },
  {
   "cell_type": "code",
   "execution_count": null,
   "metadata": {},
   "outputs": [],
   "source": [
    "x"
   ]
  },
  {
   "cell_type": "code",
   "execution_count": null,
   "metadata": {},
   "outputs": [],
   "source": []
  }
 ],
 "metadata": {
  "kernelspec": {
   "display_name": "Python 3",
   "language": "python",
   "name": "python3"
  },
  "language_info": {
   "codemirror_mode": {
    "name": "ipython",
    "version": 3
   },
   "file_extension": ".py",
   "mimetype": "text/x-python",
   "name": "python",
   "nbconvert_exporter": "python",
   "pygments_lexer": "ipython3",
   "version": "3.5.3"
  }
 },
 "nbformat": 4,
 "nbformat_minor": 4
}
