{
 "cells": [
  {
   "cell_type": "code",
   "execution_count": 12,
   "metadata": {},
   "outputs": [
    {
     "name": "stdout",
     "output_type": "stream",
     "text": [
      "The autoreload extension is already loaded. To reload it, use:\n",
      "  %reload_ext autoreload\n"
     ]
    }
   ],
   "source": [
    "%load_ext autoreload"
   ]
  },
  {
   "cell_type": "code",
   "execution_count": 13,
   "metadata": {},
   "outputs": [],
   "source": [
    "%autoreload 2"
   ]
  },
  {
   "cell_type": "code",
   "execution_count": 14,
   "metadata": {},
   "outputs": [],
   "source": [
    "import pktypes\n",
    "from pktypes import *"
   ]
  },
  {
   "cell_type": "code",
   "execution_count": 15,
   "metadata": {},
   "outputs": [],
   "source": [
    "#init\n",
    "\n",
    "#create Table\n",
    "t = Table(10)\n",
    "joe = Player('sdff', 'Joe', bank=44, stack=1000)\n",
    "fred = Player('sdf2', 'Fred', bank=44, stack=1000)\n",
    "willis = Player('sdf3', 'willis', bank=44, stack=1000)\n",
    "sally = Player('sdf9', 'Sally', bank=44, stack=1000)\n",
    "lucy = Player('sdf8', 'Lucy', bank=44, stack=1000)\n",
    "patty = Player('sdf7', 'Patty', bank=44, stack=1000)\n",
    "\n",
    "t.addPlayerToLobby(joe)\n",
    "t.addPlayerToLobby(fred)\n",
    "t.addPlayerToLobby(willis)\n",
    "t.addPlayerToLobby(sally)\n",
    "t.addPlayerToLobby(lucy)\n",
    "t.addPlayerToLobby(patty)\n",
    "\n",
    "for player in t.playersInLobby:\n",
    "    player.sitDown()"
   ]
  },
  {
   "cell_type": "code",
   "execution_count": 16,
   "metadata": {},
   "outputs": [
    {
     "name": "stdout",
     "output_type": "stream",
     "text": [
      "Table online is False Players in Lobby ['Joe', 'Fred', 'willis', 'Sally', 'Lucy', 'Patty']\n",
      "\n",
      " Open Seat nums[0, 1, 2, 3]\n",
      "seated players:\n",
      "4 - Patty STACK:1000\n",
      "5 - Lucy STACK:1000\n",
      "6 - Sally STACK:1000\n",
      "7 - willis STACK:1000\n",
      "8 - Fred STACK:1000\n",
      "9 - Joe STACK:1000\n",
      "\n"
     ]
    }
   ],
   "source": [
    "print(t)"
   ]
  },
  {
   "cell_type": "code",
   "execution_count": 17,
   "metadata": {},
   "outputs": [],
   "source": [
    "t.startGame()"
   ]
  },
  {
   "cell_type": "code",
   "execution_count": 18,
   "metadata": {},
   "outputs": [
    {
     "name": "stderr",
     "output_type": "stream",
     "text": [
      "DEBUG:root:New HAND\n",
      "INFO:root:Button is at seat Number: 4\n",
      "DEBUG:root:NO PREV BET\n",
      "DEBUG:root:CALL - Reducing stack by0\n",
      "DEBUG:root:RAISING\n",
      "DEBUG:root:Reducing stack by10\n",
      "DEBUG:root:CALL - Reducing stack by10\n",
      "DEBUG:root:RAISING\n",
      "DEBUG:root:Reducing stack by10\n",
      "DEBUG:root:Dealt 10d to Lucy\n",
      "DEBUG:root:Dealt Ks to Sally\n",
      "DEBUG:root:Dealt 9s to willis\n",
      "DEBUG:root:Dealt 3c to Fred\n",
      "DEBUG:root:Dealt 2d to Joe\n",
      "DEBUG:root:Dealt As to Patty\n",
      "DEBUG:root:Dealt 3h to Lucy\n",
      "DEBUG:root:Dealt Qd to Sally\n",
      "DEBUG:root:Dealt Kc to willis\n",
      "DEBUG:root:Dealt 10h to Fred\n",
      "DEBUG:root:Dealt Ac to Joe\n",
      "DEBUG:root:Dealt Ah to Patty\n"
     ]
    },
    {
     "name": "stdout",
     "output_type": "stream",
     "text": [
      "Player Patty hand is ['As', 'Ah']\n",
      "Player Lucy hand is ['10d', '3h']\n",
      "Player Sally hand is ['Ks', 'Qd']\n",
      "Player willis hand is ['9s', 'Kc']\n",
      "Player Fred hand is ['3c', '10h']\n",
      "Player Joe hand is ['2d', 'Ac']\n"
     ]
    }
   ],
   "source": [
    "pot, small, big = t.startNewHand()"
   ]
  },
  {
   "cell_type": "code",
   "execution_count": 19,
   "metadata": {},
   "outputs": [
    {
     "name": "stdout",
     "output_type": "stream",
     "text": [
      "Bets are : - 20 raised by Sally with callers ['Sally']\n",
      "  - 10 raised by Lucy with callers ['Lucy', 'Sally']\n",
      "  \n",
      ". total pot value : 30 \n",
      ". STARTING PLAYER : Sally\n"
     ]
    }
   ],
   "source": [
    "print(pot)"
   ]
  },
  {
   "cell_type": "code",
   "execution_count": null,
   "metadata": {},
   "outputs": [],
   "source": [
    "Player.TEST_runSim(Player, './testsims/sim1.csv')\n",
    "print(Player.TEST_simvals)"
   ]
  },
  {
   "cell_type": "code",
   "execution_count": null,
   "metadata": {},
   "outputs": [
    {
     "name": "stderr",
     "output_type": "stream",
     "text": [
      "DEBUG:root:Betting Round 1Action begins with willis\n",
      "INFO:root:Raised to willis. Fold, Call or Raise. Min Raise is 30 all in amt is 1000\n"
     ]
    },
    {
     "name": "stdin",
     "output_type": "stream",
     "text": [
      "Enter action and amount:  Raise 100\n"
     ]
    },
    {
     "name": "stderr",
     "output_type": "stream",
     "text": [
      "INFO:root:\n",
      "\n",
      "willis decides to Raise 100\n",
      "DEBUG:root:CALL - Reducing stack by20\n",
      "DEBUG:root:RAISING\n",
      "DEBUG:root:Reducing stack by80\n",
      "INFO:root:Raised to Fred. Fold, Call or Raise. Min Raise is 180 all in amt is 1000\n"
     ]
    },
    {
     "name": "stdin",
     "output_type": "stream",
     "text": [
      "Enter action and amount:  Call 0\n"
     ]
    },
    {
     "name": "stderr",
     "output_type": "stream",
     "text": [
      "INFO:root:\n",
      "\n",
      "Fred decides to Call 0\n",
      "DEBUG:root:CALL - Reducing stack by100\n",
      "INFO:root:Raised to Joe. Fold, Call or Raise. Min Raise is 180 all in amt is 1000\n"
     ]
    },
    {
     "name": "stdin",
     "output_type": "stream",
     "text": [
      "Enter action and amount:  Raise 200\n"
     ]
    },
    {
     "name": "stderr",
     "output_type": "stream",
     "text": [
      "INFO:root:\n",
      "\n",
      "Joe decides to Raise 200\n",
      "DEBUG:root:CALL - Reducing stack by100\n",
      "DEBUG:root:RAISING\n",
      "DEBUG:root:Reducing stack by100\n",
      "INFO:root:Raised to Patty. Fold, Call or Raise. Min Raise is 300 all in amt is 1000\n"
     ]
    },
    {
     "name": "stdin",
     "output_type": "stream",
     "text": [
      "Enter action and amount:  Fold 0\n"
     ]
    },
    {
     "name": "stderr",
     "output_type": "stream",
     "text": [
      "INFO:root:\n",
      "\n",
      "Patty decides to Fold 0\n",
      "INFO:root:Raised to Lucy. Fold, Call or Raise. Min Raise is 300 all in amt is 1000\n"
     ]
    },
    {
     "name": "stdin",
     "output_type": "stream",
     "text": [
      "Enter action and amount:  Fold 0\n"
     ]
    },
    {
     "name": "stderr",
     "output_type": "stream",
     "text": [
      "INFO:root:\n",
      "\n",
      "Lucy decides to Fold 0\n",
      "INFO:root:Raised to Sally. Fold, Call or Raise. Min Raise is 300 all in amt is 1000\n"
     ]
    },
    {
     "name": "stdin",
     "output_type": "stream",
     "text": [
      "Enter action and amount:  Fold 0\n"
     ]
    },
    {
     "name": "stderr",
     "output_type": "stream",
     "text": [
      "INFO:root:\n",
      "\n",
      "Sally decides to Fold 0\n",
      "INFO:root:Raised to willis. Fold, Call or Raise. Min Raise is 300 all in amt is 1000\n"
     ]
    }
   ],
   "source": [
    "## Preflop\n",
    "t.beginBetting(pot, small, big)\n",
    "## flop\n",
    "t.beginBetting(pot, small, big)\n",
    "## turn\n",
    "#t.beginBetting(pot, small, big)\n",
    "## river\n",
    "#t.beginBetting(pot, small, big)"
   ]
  },
  {
   "cell_type": "code",
   "execution_count": 11,
   "metadata": {},
   "outputs": [
    {
     "name": "stderr",
     "output_type": "stream",
     "text": [
      "DEBUG:root:Betting Round 3Action begins with Lucy\n",
      "DEBUG:root:Player Lucy has already folded\n",
      "INFO:root:Check to you, Sally. Raise or Check\n"
     ]
    },
    {
     "name": "stdin",
     "output_type": "stream",
     "text": [
      "Enter action and amount:  Check 0\n"
     ]
    },
    {
     "name": "stderr",
     "output_type": "stream",
     "text": [
      "INFO:root:\n",
      "\n",
      "Sally decides to Check 0\n",
      "DEBUG:root:CHECKING\n",
      "INFO:root:Check to you, willis. Raise or Check\n"
     ]
    },
    {
     "name": "stdin",
     "output_type": "stream",
     "text": [
      "Enter action and amount:  Check 0\n"
     ]
    },
    {
     "name": "stderr",
     "output_type": "stream",
     "text": [
      "INFO:root:\n",
      "\n",
      "willis decides to Check 0\n",
      "DEBUG:root:CHECKING\n",
      "DEBUG:root:Player Fred has already folded\n",
      "DEBUG:root:Player Joe has already folded\n",
      "INFO:root:Check to you, Patty. Raise or Check\n"
     ]
    },
    {
     "name": "stdin",
     "output_type": "stream",
     "text": [
      "Enter action and amount:  Check 0\n"
     ]
    },
    {
     "name": "stderr",
     "output_type": "stream",
     "text": [
      "INFO:root:\n",
      "\n",
      "Patty decides to Check 0\n",
      "DEBUG:root:CHECKING\n",
      "DEBUG:root:Betting round complete + Pot details:\n",
      "\n"
     ]
    },
    {
     "name": "stdout",
     "output_type": "stream",
     "text": [
      "Bets are : \n",
      ". total pot value : 860 \n",
      ". STARTING PLAYER : Lucy\n"
     ]
    }
   ],
   "source": [
    "t.beginBetting(pot, small, big)"
   ]
  },
  {
   "cell_type": "code",
   "execution_count": null,
   "metadata": {},
   "outputs": [],
   "source": [
    "print(t)"
   ]
  },
  {
   "cell_type": "code",
   "execution_count": null,
   "metadata": {},
   "outputs": [],
   "source": []
  }
 ],
 "metadata": {
  "kernelspec": {
   "display_name": "Python 3",
   "language": "python",
   "name": "python3"
  },
  "language_info": {
   "codemirror_mode": {
    "name": "ipython",
    "version": 3
   },
   "file_extension": ".py",
   "mimetype": "text/x-python",
   "name": "python",
   "nbconvert_exporter": "python",
   "pygments_lexer": "ipython3",
   "version": "3.5.3"
  }
 },
 "nbformat": 4,
 "nbformat_minor": 4
}
