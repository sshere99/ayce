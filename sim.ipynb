{
 "cells": [
  {
   "cell_type": "code",
   "execution_count": 9,
   "metadata": {},
   "outputs": [
    {
     "name": "stdout",
     "output_type": "stream",
     "text": [
      "The autoreload extension is already loaded. To reload it, use:\n",
      "  %reload_ext autoreload\n"
     ]
    }
   ],
   "source": [
    "%load_ext autoreload"
   ]
  },
  {
   "cell_type": "code",
   "execution_count": 10,
   "metadata": {},
   "outputs": [],
   "source": [
    "%autoreload 2"
   ]
  },
  {
   "cell_type": "code",
   "execution_count": 11,
   "metadata": {},
   "outputs": [],
   "source": [
    "import pktypes\n",
    "from pktypes import *"
   ]
  },
  {
   "cell_type": "code",
   "execution_count": 19,
   "metadata": {},
   "outputs": [],
   "source": [
    "#init\n",
    "\n",
    "#create Table\n",
    "t = Table(10)\n",
    "joe = Player('sdff', 'Joe', bank=44, stack=1000)\n",
    "fred = Player('sdf2', 'Fred', bank=44, stack=1000)\n",
    "willis = Player('sdf3', 'willis', bank=44, stack=1000)\n",
    "sally = Player('sdf9', 'Sally', bank=44, stack=1000)\n",
    "lucy = Player('sdf8', 'Lucy', bank=44, stack=1000)\n",
    "patty = Player('sdf7', 'Patty', bank=44, stack=1000)\n",
    "\n",
    "t.addPlayerToLobby(joe)\n",
    "t.addPlayerToLobby(fred)\n",
    "t.addPlayerToLobby(willis)\n",
    "t.addPlayerToLobby(sally)\n",
    "t.addPlayerToLobby(lucy)\n",
    "t.addPlayerToLobby(patty)\n",
    "\n",
    "for player in t.playersInLobby:\n",
    "    player.sitDown()"
   ]
  },
  {
   "cell_type": "code",
   "execution_count": 20,
   "metadata": {},
   "outputs": [
    {
     "name": "stdout",
     "output_type": "stream",
     "text": [
      "Table online is False Players in Lobby ['Joe', 'Fred', 'willis', 'Sally', 'Lucy', 'Patty']\n",
      "\n",
      " Open Seat nums[0, 1, 2, 3]\n",
      "seated players:\n",
      "4 - Patty STACK:1000\n",
      "5 - Lucy STACK:1000\n",
      "6 - Sally STACK:1000\n",
      "7 - willis STACK:1000\n",
      "8 - Fred STACK:1000\n",
      "9 - Joe STACK:1000\n",
      "\n"
     ]
    }
   ],
   "source": [
    "print(t)"
   ]
  },
  {
   "cell_type": "code",
   "execution_count": null,
   "metadata": {},
   "outputs": [],
   "source": [
    "t.startGame()"
   ]
  },
  {
   "cell_type": "code",
   "execution_count": 21,
   "metadata": {},
   "outputs": [
    {
     "name": "stderr",
     "output_type": "stream",
     "text": [
      "DEBUG:root:New HAND\n",
      "INFO:root:Button is at seat Number: 4\n"
     ]
    }
   ],
   "source": [
    "pot, small, big = t.startNewHand()"
   ]
  },
  {
   "cell_type": "code",
   "execution_count": 22,
   "metadata": {},
   "outputs": [
    {
     "name": "stderr",
     "output_type": "stream",
     "text": [
      "DEBUG:root:NO PREV BET\n",
      "DEBUG:root:CALL - Reducing stack by0\n",
      "DEBUG:root:RAISING\n",
      "DEBUG:root:Reducing stack by10\n",
      "DEBUG:root:CALL - Reducing stack by10\n",
      "DEBUG:root:RAISING\n",
      "DEBUG:root:Reducing stack by10\n"
     ]
    }
   ],
   "source": [
    "t.getAntes(pot, small, big)"
   ]
  },
  {
   "cell_type": "code",
   "execution_count": 23,
   "metadata": {},
   "outputs": [
    {
     "name": "stderr",
     "output_type": "stream",
     "text": [
      "DEBUG:root:Dealt 10d to Lucy\n",
      "DEBUG:root:Dealt 5c to Sally\n",
      "DEBUG:root:Dealt Ah to willis\n",
      "DEBUG:root:Dealt 8d to Fred\n",
      "DEBUG:root:Dealt 5s to Joe\n",
      "DEBUG:root:Dealt 6c to Patty\n",
      "DEBUG:root:Dealt Kd to Lucy\n",
      "DEBUG:root:Dealt 8c to Sally\n",
      "DEBUG:root:Dealt 6h to willis\n",
      "DEBUG:root:Dealt Ac to Fred\n",
      "DEBUG:root:Dealt 9c to Joe\n",
      "DEBUG:root:Dealt 7s to Patty\n"
     ]
    },
    {
     "name": "stdout",
     "output_type": "stream",
     "text": [
      "Player Patty hand is ['6c', '7s']\n",
      "Player Lucy hand is ['10d', 'Kd']\n",
      "Player Sally hand is ['5c', '8c']\n",
      "Player willis hand is ['Ah', '6h']\n",
      "Player Fred hand is ['8d', 'Ac']\n",
      "Player Joe hand is ['5s', '9c']\n"
     ]
    }
   ],
   "source": [
    "t.deal(small)"
   ]
  },
  {
   "cell_type": "code",
   "execution_count": 24,
   "metadata": {},
   "outputs": [
    {
     "name": "stdout",
     "output_type": "stream",
     "text": [
      "Bets are : - 20 raised by Sally with callers ['Sally']\n",
      "  - 10 raised by Lucy with callers ['Lucy', 'Sally']\n",
      " \n"
     ]
    }
   ],
   "source": [
    "print(pot)"
   ]
  },
  {
   "cell_type": "code",
   "execution_count": 25,
   "metadata": {},
   "outputs": [
    {
     "name": "stderr",
     "output_type": "stream",
     "text": [
      "DEBUG:root:Betting Round 1Action begins with willis\n",
      "INFO:root:Raised to willis. Fold, Call or Raise\n"
     ]
    },
    {
     "name": "stdin",
     "output_type": "stream",
     "text": [
      "Enter action and amount:  Fold 0\n"
     ]
    },
    {
     "name": "stderr",
     "output_type": "stream",
     "text": [
      "INFO:root:Raised to Fred. Fold, Call or Raise\n"
     ]
    },
    {
     "name": "stdin",
     "output_type": "stream",
     "text": [
      "Enter action and amount:  Raise 200\n"
     ]
    },
    {
     "name": "stderr",
     "output_type": "stream",
     "text": [
      "DEBUG:root:CALL - Reducing stack by20\n",
      "DEBUG:root:RAISING\n",
      "DEBUG:root:Reducing stack by180\n",
      "INFO:root:Raised to Joe. Fold, Call or Raise\n"
     ]
    },
    {
     "name": "stdin",
     "output_type": "stream",
     "text": [
      "Enter action and amount:  Fold 0\n"
     ]
    },
    {
     "name": "stderr",
     "output_type": "stream",
     "text": [
      "INFO:root:Raised to Patty. Fold, Call or Raise\n"
     ]
    },
    {
     "name": "stdin",
     "output_type": "stream",
     "text": [
      "Enter action and amount:  Raise 300\n"
     ]
    },
    {
     "name": "stderr",
     "output_type": "stream",
     "text": [
      "DEBUG:root:CALL - Reducing stack by200\n",
      "DEBUG:root:RAISING\n",
      "DEBUG:root:Reducing stack by100\n",
      "INFO:root:Raised to Lucy. Fold, Call or Raise\n"
     ]
    },
    {
     "name": "stdin",
     "output_type": "stream",
     "text": [
      "Enter action and amount:  Call 0\n"
     ]
    },
    {
     "name": "stderr",
     "output_type": "stream",
     "text": [
      "DEBUG:root:CALL - Reducing stack by290\n",
      "INFO:root:Raised to Sally. Fold, Call or Raise\n"
     ]
    },
    {
     "name": "stdin",
     "output_type": "stream",
     "text": [
      "Enter action and amount:  Fold 0\n"
     ]
    },
    {
     "name": "stderr",
     "output_type": "stream",
     "text": [
      "DEBUG:root:Player willis has already folded\n",
      "INFO:root:Raised to Fred. Fold, Call or Raise\n"
     ]
    },
    {
     "name": "stdin",
     "output_type": "stream",
     "text": [
      "Enter action and amount:  Call 0\n"
     ]
    },
    {
     "name": "stderr",
     "output_type": "stream",
     "text": [
      "DEBUG:root:CALL - Reducing stack by100\n",
      "DEBUG:root:Player Joe has already folded\n",
      "DEBUG:root:Betting round complete\n"
     ]
    }
   ],
   "source": [
    "## Preflop\n",
    "t.beginBetting(pot, small, big)\n",
    "## flop\n",
    "#t.beginBetting(pot, small, big)\n",
    "## turn\n",
    "#t.beginBetting(pot, small, big)\n",
    "## river\n",
    "#t.beginBetting(pot, small, big)"
   ]
  },
  {
   "cell_type": "code",
   "execution_count": 26,
   "metadata": {},
   "outputs": [
    {
     "name": "stdout",
     "output_type": "stream",
     "text": [
      "Bets are : - 300 raised by Patty with callers ['Patty', 'Lucy', 'Fred']\n",
      "  - 200 raised by Fred with callers ['Fred', 'Patty', 'Lucy']\n",
      "  - 20 raised by Sally with callers ['Fred', 'Patty', 'Lucy']\n",
      "  - 10 raised by Lucy with callers ['Lucy', 'Fred', 'Patty']\n",
      " \n"
     ]
    }
   ],
   "source": [
    "print(pot)"
   ]
  },
  {
   "cell_type": "code",
   "execution_count": 27,
   "metadata": {},
   "outputs": [
    {
     "name": "stdout",
     "output_type": "stream",
     "text": [
      "Table online is True Players in Lobby ['Joe', 'Fred', 'willis', 'Sally', 'Lucy', 'Patty']\n",
      "\n",
      " Open Seat nums[0, 1, 2, 3]\n",
      "seated players:\n",
      "4 - Patty STACK:700\n",
      "5 - Lucy STACK:700\n",
      "6 - Sally STACK:980\n",
      "7 - willis STACK:1000\n",
      "8 - Fred STACK:700\n",
      "9 - Joe STACK:1000\n",
      "\n"
     ]
    }
   ],
   "source": [
    "print(t)"
   ]
  },
  {
   "cell_type": "code",
   "execution_count": 33,
   "metadata": {},
   "outputs": [
    {
     "name": "stderr",
     "output_type": "stream",
     "text": [
      "DEBUG:root:New HAND\n",
      "INFO:root:Button is at seat Number: 6\n",
      "DEBUG:root:NO PREV BET\n",
      "DEBUG:root:CALL - Reducing stack by0\n",
      "DEBUG:root:RAISING\n",
      "DEBUG:root:Reducing stack by10\n",
      "DEBUG:root:CALL - Reducing stack by10\n",
      "DEBUG:root:RAISING\n",
      "DEBUG:root:Reducing stack by10\n",
      "DEBUG:root:Betting Round 1Action begins with Joe\n",
      "INFO:root:Raised to Joe. Fold, Call or Raise\n"
     ]
    },
    {
     "name": "stdin",
     "output_type": "stream",
     "text": [
      "Enter action and amount:  Call 0\n"
     ]
    },
    {
     "name": "stderr",
     "output_type": "stream",
     "text": [
      "DEBUG:root:CALL - Reducing stack by20\n",
      "INFO:root:Raised to Patty. Fold, Call or Raise\n"
     ]
    },
    {
     "name": "stdin",
     "output_type": "stream",
     "text": [
      "Enter action and amount:  Call 0\n"
     ]
    },
    {
     "name": "stderr",
     "output_type": "stream",
     "text": [
      "DEBUG:root:CALL - Reducing stack by20\n",
      "INFO:root:Raised to Lucy. Fold, Call or Raise\n"
     ]
    },
    {
     "name": "stdin",
     "output_type": "stream",
     "text": [
      "Enter action and amount:  Call 0\n"
     ]
    },
    {
     "name": "stderr",
     "output_type": "stream",
     "text": [
      "DEBUG:root:CALL - Reducing stack by20\n",
      "INFO:root:Raised to Sally. Fold, Call or Raise\n"
     ]
    },
    {
     "name": "stdin",
     "output_type": "stream",
     "text": [
      "Enter action and amount:  Fold 0\n"
     ]
    },
    {
     "name": "stderr",
     "output_type": "stream",
     "text": [
      "INFO:root:Raised to willis. Fold, Call or Raise\n"
     ]
    },
    {
     "name": "stdin",
     "output_type": "stream",
     "text": [
      "Enter action and amount:  Call 0\n"
     ]
    },
    {
     "name": "stderr",
     "output_type": "stream",
     "text": [
      "DEBUG:root:CALL - Reducing stack by10\n",
      "INFO:root:Raised to Fred. Fold, Call or Raise\n"
     ]
    },
    {
     "name": "stdin",
     "output_type": "stream",
     "text": [
      "Enter action and amount:  Call 0\n"
     ]
    },
    {
     "name": "stderr",
     "output_type": "stream",
     "text": [
      "DEBUG:root:CALL - Reducing stack by0\n",
      "DEBUG:root:Betting round complete\n"
     ]
    }
   ],
   "source": [
    "pot, small, big = t.startNewHand()\n",
    "t.getAntes(pot, small, big)\n",
    "t.beginBetting(pot, small, big)"
   ]
  },
  {
   "cell_type": "code",
   "execution_count": 34,
   "metadata": {},
   "outputs": [
    {
     "name": "stdout",
     "output_type": "stream",
     "text": [
      "Bets are : - 20 raised by Fred with callers ['Fred', 'Joe', 'Patty', 'Lucy', 'willis']\n",
      "  - 10 raised by willis with callers ['willis', 'Fred', 'Joe', 'Patty', 'Lucy']\n",
      " \n"
     ]
    }
   ],
   "source": [
    "print(pot)"
   ]
  },
  {
   "cell_type": "code",
   "execution_count": null,
   "metadata": {},
   "outputs": [],
   "source": [
    "print(t)"
   ]
  },
  {
   "cell_type": "code",
   "execution_count": null,
   "metadata": {},
   "outputs": [],
   "source": []
  }
 ],
 "metadata": {
  "kernelspec": {
   "display_name": "Python 3",
   "language": "python",
   "name": "python3"
  },
  "language_info": {
   "codemirror_mode": {
    "name": "ipython",
    "version": 3
   },
   "file_extension": ".py",
   "mimetype": "text/x-python",
   "name": "python",
   "nbconvert_exporter": "python",
   "pygments_lexer": "ipython3",
   "version": "3.5.3"
  }
 },
 "nbformat": 4,
 "nbformat_minor": 4
}
