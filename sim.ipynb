{
 "cells": [
  {
   "cell_type": "code",
   "execution_count": 1,
   "metadata": {},
   "outputs": [],
   "source": [
    "%load_ext autoreload"
   ]
  },
  {
   "cell_type": "code",
   "execution_count": 2,
   "metadata": {},
   "outputs": [],
   "source": [
    "%autoreload 2"
   ]
  },
  {
   "cell_type": "code",
   "execution_count": 3,
   "metadata": {},
   "outputs": [],
   "source": [
    "import pktypes\n",
    "from pktypes import *"
   ]
  },
  {
   "cell_type": "code",
   "execution_count": 4,
   "metadata": {},
   "outputs": [],
   "source": [
    "#init\n",
    "\n",
    "#create Table\n",
    "t = Table(10)\n",
    "joe = Player('sdff', 'Joe', bank=44, stack=1000)\n",
    "fred = Player('sdf2', 'Fred', bank=44, stack=1000)\n",
    "willis = Player('sdf3', 'willis', bank=44, stack=1000)\n",
    "sally = Player('sdf9', 'Sally', bank=44, stack=1000)\n",
    "lucy = Player('sdf8', 'Lucy', bank=44, stack=1000)\n",
    "patty = Player('sdf7', 'Patty', bank=44, stack=1000)\n",
    "\n",
    "t.addPlayerToLobby(joe)\n",
    "t.addPlayerToLobby(fred)\n",
    "t.addPlayerToLobby(willis)\n",
    "t.addPlayerToLobby(sally)\n",
    "t.addPlayerToLobby(lucy)\n",
    "t.addPlayerToLobby(patty)\n",
    "\n",
    "for player in t.playersInLobby:\n",
    "    player.sitDown()"
   ]
  },
  {
   "cell_type": "code",
   "execution_count": 5,
   "metadata": {},
   "outputs": [
    {
     "name": "stdout",
     "output_type": "stream",
     "text": [
      "Table online is False Players in Lobby ['Joe', 'Fred', 'willis', 'Sally', 'Lucy', 'Patty']\n",
      "\n",
      " Open Seat nums[0, 1, 2, 3]\n",
      "seated players:\n",
      "4 - Patty STACK:1000\n",
      "5 - Lucy STACK:1000\n",
      "6 - Sally STACK:1000\n",
      "7 - willis STACK:1000\n",
      "8 - Fred STACK:1000\n",
      "9 - Joe STACK:1000\n",
      "\n"
     ]
    }
   ],
   "source": [
    "print(t)"
   ]
  },
  {
   "cell_type": "code",
   "execution_count": 6,
   "metadata": {},
   "outputs": [],
   "source": [
    "t.startGame()"
   ]
  },
  {
   "cell_type": "code",
   "execution_count": 7,
   "metadata": {},
   "outputs": [
    {
     "name": "stderr",
     "output_type": "stream",
     "text": [
      "DEBUG:root:New HAND\n",
      "INFO:root:Button is at seat Number: 4\n"
     ]
    }
   ],
   "source": [
    "pot, small, big = t.startNewHand()"
   ]
  },
  {
   "cell_type": "code",
   "execution_count": 8,
   "metadata": {},
   "outputs": [
    {
     "name": "stderr",
     "output_type": "stream",
     "text": [
      "DEBUG:root:NO PREV BET\n",
      "DEBUG:root:CALL - Reducing stack by0\n",
      "DEBUG:root:RAISING\n",
      "DEBUG:root:Reducing stack by10\n",
      "DEBUG:root:CALL - Reducing stack by10\n",
      "DEBUG:root:RAISING\n",
      "DEBUG:root:Reducing stack by10\n"
     ]
    }
   ],
   "source": [
    "t.getAntes(pot, small, big)"
   ]
  },
  {
   "cell_type": "code",
   "execution_count": 9,
   "metadata": {},
   "outputs": [
    {
     "name": "stderr",
     "output_type": "stream",
     "text": [
      "DEBUG:root:Dealt 6c to Lucy\n",
      "DEBUG:root:Dealt 5c to Sally\n",
      "DEBUG:root:Dealt Ad to willis\n",
      "DEBUG:root:Dealt Qs to Fred\n",
      "DEBUG:root:Dealt Qc to Joe\n",
      "DEBUG:root:Dealt Ac to Patty\n",
      "DEBUG:root:Dealt Jd to Lucy\n",
      "DEBUG:root:Dealt 9h to Sally\n",
      "DEBUG:root:Dealt 8s to willis\n",
      "DEBUG:root:Dealt 6s to Fred\n",
      "DEBUG:root:Dealt Jh to Joe\n",
      "DEBUG:root:Dealt 4s to Patty\n"
     ]
    },
    {
     "name": "stdout",
     "output_type": "stream",
     "text": [
      "Player Patty hand is ['Ac', '4s']\n",
      "Player Lucy hand is ['6c', 'Jd']\n",
      "Player Sally hand is ['5c', '9h']\n",
      "Player willis hand is ['Ad', '8s']\n",
      "Player Fred hand is ['Qs', '6s']\n",
      "Player Joe hand is ['Qc', 'Jh']\n"
     ]
    }
   ],
   "source": [
    "t.deal(small)"
   ]
  },
  {
   "cell_type": "code",
   "execution_count": 10,
   "metadata": {},
   "outputs": [
    {
     "name": "stdout",
     "output_type": "stream",
     "text": [
      "Bets are : - 20 raised by Sally with callers ['Sally']\n",
      "  - 10 raised by Lucy with callers ['Lucy', 'Sally']\n",
      "  \n",
      ". total pot value : 30\n"
     ]
    }
   ],
   "source": [
    "print(pot)"
   ]
  },
  {
   "cell_type": "code",
   "execution_count": 11,
   "metadata": {},
   "outputs": [
    {
     "name": "stderr",
     "output_type": "stream",
     "text": [
      "DEBUG:root:Loading simulation\n"
     ]
    },
    {
     "name": "stdout",
     "output_type": "stream",
     "text": [
      "[['Raise', ' 200'], ['Call', ' 0'], ['Raise', ' 210'], ['Fold', ' 0'], ['Raise', ' 300'], ['Call', ' 0'], ['Call', ' 0'], ['Call', ' 0'], ['Call', ' 0'], ['Fold', ' 0']]\n"
     ]
    }
   ],
   "source": [
    "Player.TEST_runSim(Player, './testsims/sim1.csv')\n",
    "print(Player.TEST_simvals)"
   ]
  },
  {
   "cell_type": "code",
   "execution_count": 12,
   "metadata": {},
   "outputs": [
    {
     "name": "stderr",
     "output_type": "stream",
     "text": [
      "DEBUG:root:Betting Round 1Action begins with willis\n",
      "INFO:root:Raised to willis. Fold, Call or Raise\n",
      "INFO:root:willis decides to Raise  200\n",
      "DEBUG:root:CALL - Reducing stack by20\n",
      "DEBUG:root:RAISING\n",
      "DEBUG:root:Reducing stack by180\n",
      "INFO:root:Raised to Fred. Fold, Call or Raise\n",
      "INFO:root:Fred decides to Call  0\n",
      "DEBUG:root:CALL - Reducing stack by200\n",
      "INFO:root:Raised to Joe. Fold, Call or Raise\n",
      "INFO:root:Joe decides to Raise  210\n",
      "DEBUG:root:CALL - Reducing stack by200\n",
      "DEBUG:root:RAISING\n",
      "DEBUG:root:Reducing stack by10\n",
      "INFO:root:Raised to Patty. Fold, Call or Raise\n",
      "INFO:root:Patty decides to Fold  0\n",
      "INFO:root:Raised to Lucy. Fold, Call or Raise\n",
      "INFO:root:Lucy decides to Raise  300\n",
      "DEBUG:root:CALL - Reducing stack by200\n",
      "DEBUG:root:RAISING\n",
      "DEBUG:root:Reducing stack by90\n",
      "INFO:root:Raised to Sally. Fold, Call or Raise\n",
      "INFO:root:Sally decides to Call  0\n",
      "DEBUG:root:CALL - Reducing stack by280\n",
      "INFO:root:Raised to willis. Fold, Call or Raise\n",
      "INFO:root:willis decides to Call  0\n",
      "DEBUG:root:CALL - Reducing stack by100\n",
      "INFO:root:Raised to Fred. Fold, Call or Raise\n",
      "INFO:root:Fred decides to Call  0\n",
      "DEBUG:root:CALL - Reducing stack by100\n",
      "INFO:root:Raised to Joe. Fold, Call or Raise\n",
      "INFO:root:Joe decides to Call  0\n",
      "DEBUG:root:CALL - Reducing stack by90\n",
      "DEBUG:root:Player Patty has already folded\n",
      "DEBUG:root:Betting round complete\n"
     ]
    }
   ],
   "source": [
    "## Preflop\n",
    "t.beginBetting(pot, small, big)\n",
    "## flop\n",
    "#t.beginBetting(pot, small, big)\n",
    "## turn\n",
    "#t.beginBetting(pot, small, big)\n",
    "## river\n",
    "#t.beginBetting(pot, small, big)"
   ]
  },
  {
   "cell_type": "code",
   "execution_count": null,
   "metadata": {},
   "outputs": [],
   "source": [
    "print(Player.simvals)"
   ]
  },
  {
   "cell_type": "code",
   "execution_count": null,
   "metadata": {},
   "outputs": [],
   "source": [
    "print(pot)"
   ]
  },
  {
   "cell_type": "code",
   "execution_count": null,
   "metadata": {},
   "outputs": [],
   "source": [
    "print(t)"
   ]
  },
  {
   "cell_type": "code",
   "execution_count": null,
   "metadata": {},
   "outputs": [],
   "source": [
    "pot, small, big = t.startNewHand()\n",
    "t.getAntes(pot, small, big)\n",
    "t.beginBetting(pot, small, big)"
   ]
  },
  {
   "cell_type": "code",
   "execution_count": null,
   "metadata": {},
   "outputs": [],
   "source": [
    "print(pot)"
   ]
  },
  {
   "cell_type": "code",
   "execution_count": null,
   "metadata": {},
   "outputs": [],
   "source": [
    "print(t)"
   ]
  },
  {
   "cell_type": "code",
   "execution_count": null,
   "metadata": {},
   "outputs": [],
   "source": []
  }
 ],
 "metadata": {
  "kernelspec": {
   "display_name": "Python 3",
   "language": "python",
   "name": "python3"
  },
  "language_info": {
   "codemirror_mode": {
    "name": "ipython",
    "version": 3
   },
   "file_extension": ".py",
   "mimetype": "text/x-python",
   "name": "python",
   "nbconvert_exporter": "python",
   "pygments_lexer": "ipython3",
   "version": "3.5.3"
  }
 },
 "nbformat": 4,
 "nbformat_minor": 4
}
