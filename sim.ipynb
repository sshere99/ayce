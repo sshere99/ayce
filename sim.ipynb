{
 "cells": [
  {
   "cell_type": "code",
   "execution_count": 1,
   "metadata": {},
   "outputs": [],
   "source": [
    "%load_ext autoreload"
   ]
  },
  {
   "cell_type": "code",
   "execution_count": 2,
   "metadata": {},
   "outputs": [],
   "source": [
    "%autoreload 2"
   ]
  },
  {
   "cell_type": "code",
   "execution_count": 3,
   "metadata": {},
   "outputs": [],
   "source": [
    "import pktypes\n",
    "from pktypes import *\n",
    "from pkhands import *"
   ]
  },
  {
   "cell_type": "code",
   "execution_count": 4,
   "metadata": {},
   "outputs": [],
   "source": [
    "#init\n",
    "\n",
    "#create Table\n",
    "t = Table(10)\n",
    "joe = Player('sdff', 'Joe', bank=44, stack=1000)\n",
    "fred = Player('sdf2', 'Fred', bank=44, stack=100)\n",
    "willis = Player('sdf3', 'willis', bank=44, stack=1000)\n",
    "sally = Player('sdf9', 'Sally', bank=44, stack=1000)\n",
    "lucy = Player('sdf8', 'Lucy', bank=44, stack=1000)\n",
    "patty = Player('sdf7', 'Patty', bank=44, stack=1000)\n",
    "\n",
    "t.addPlayerToLobby(joe)\n",
    "t.addPlayerToLobby(fred)\n",
    "t.addPlayerToLobby(willis)\n",
    "t.addPlayerToLobby(sally)\n",
    "t.addPlayerToLobby(lucy)\n",
    "t.addPlayerToLobby(patty)\n",
    "\n",
    "for player in t.playersInLobby:\n",
    "    player.sitDown()"
   ]
  },
  {
   "cell_type": "code",
   "execution_count": 5,
   "metadata": {},
   "outputs": [
    {
     "name": "stdout",
     "output_type": "stream",
     "text": [
      "Table online is False Players in Lobby ['Joe', 'Fred', 'willis', 'Sally', 'Lucy', 'Patty']\n",
      "\n",
      " Open Seat nums[0, 1, 2, 3]\n",
      "seated players:\n",
      "4 - Patty STACK:1000\n",
      "5 - Lucy STACK:1000\n",
      "6 - Sally STACK:1000\n",
      "7 - willis STACK:1000\n",
      "8 - Fred STACK:100\n",
      "9 - Joe STACK:1000\n",
      "\n"
     ]
    }
   ],
   "source": [
    "print(t)"
   ]
  },
  {
   "cell_type": "code",
   "execution_count": 6,
   "metadata": {},
   "outputs": [],
   "source": [
    "t.startGame()"
   ]
  },
  {
   "cell_type": "code",
   "execution_count": 7,
   "metadata": {},
   "outputs": [
    {
     "name": "stderr",
     "output_type": "stream",
     "text": [
      "DEBUG:root:New HAND\n",
      "INFO:root:Button is at seat Number: 4\n",
      "DEBUG:root:NO PREV BET\n",
      "DEBUG:root:CALL - Reducing stack by0\n",
      "DEBUG:root:RAISING\n",
      "DEBUG:root:Reducing stack by10\n",
      "DEBUG:root:CALL - Reducing stack by10\n",
      "DEBUG:root:RAISING\n",
      "DEBUG:root:Reducing stack by10\n",
      "DEBUG:root:Dealt Qc to Lucy\n",
      "DEBUG:root:Dealt 5h to Sally\n",
      "DEBUG:root:Dealt 9d to willis\n",
      "DEBUG:root:Dealt 10d to Fred\n",
      "DEBUG:root:Dealt Ks to Joe\n",
      "DEBUG:root:Dealt 9h to Patty\n",
      "DEBUG:root:Dealt 6h to Lucy\n",
      "DEBUG:root:Dealt 2d to Sally\n",
      "DEBUG:root:Dealt 8s to willis\n",
      "DEBUG:root:Dealt As to Fred\n",
      "DEBUG:root:Dealt 4d to Joe\n",
      "DEBUG:root:Dealt 10s to Patty\n"
     ]
    },
    {
     "name": "stdout",
     "output_type": "stream",
     "text": [
      "Player Patty hand is ['9h', '10s']\n",
      "Player Lucy hand is ['Qc', '6h']\n",
      "Player Sally hand is ['5h', '2d']\n",
      "Player willis hand is ['9d', '8s']\n",
      "Player Fred hand is ['10d', 'As']\n",
      "Player Joe hand is ['Ks', '4d']\n"
     ]
    }
   ],
   "source": [
    "pot, small, big = t.startNewHand()"
   ]
  },
  {
   "cell_type": "code",
   "execution_count": 8,
   "metadata": {},
   "outputs": [
    {
     "name": "stdout",
     "output_type": "stream",
     "text": [
      "Bets are : - 20 raised by Sally with callers ['Sally']\n",
      "  - 10 raised by Lucy with callers ['Lucy', 'Sally']\n",
      "  \n",
      ". total pot value : 30 \n",
      ". STARTING PLAYER : Sally\n"
     ]
    }
   ],
   "source": [
    "print(pot)"
   ]
  },
  {
   "cell_type": "code",
   "execution_count": 9,
   "metadata": {},
   "outputs": [
    {
     "name": "stderr",
     "output_type": "stream",
     "text": [
      "DEBUG:root:Loading simulation\n"
     ]
    },
    {
     "name": "stdout",
     "output_type": "stream",
     "text": [
      "[['Raise', ' 200'], ['Call', ' 0'], ['Raise', ' 210'], ['Fold', ' 0'], ['Raise', ' 1000'], ['Call', ' 0'], ['Call', ' 0'], ['Call', ' 0'], ['Fold', ' 0'], ['Fold', ' 0']]\n"
     ]
    }
   ],
   "source": [
    "Player.TEST_runSim(Player, './testsims/allin.csv')\n",
    "print(Player.TEST_simvals)"
   ]
  },
  {
   "cell_type": "code",
   "execution_count": 10,
   "metadata": {},
   "outputs": [
    {
     "name": "stderr",
     "output_type": "stream",
     "text": [
      "DEBUG:root:Betting Round 1Action begins with willis\n",
      "INFO:root:Raised to willis. Fold, Call or Raise. Min Raise is 30 all in amt is 1000\n",
      "INFO:root:\n",
      "\n",
      "willis decides to Raise  200\n",
      "DEBUG:root:CALL - Reducing stack by20\n",
      "DEBUG:root:RAISING\n",
      "DEBUG:root:Reducing stack by180\n",
      "DEBUG:root:\n",
      " STACK: 800\n",
      " VALUE IN HAND: 200\n",
      "******* POT *******\n",
      "\n",
      "\n",
      "\n",
      "\n",
      "DEBUG:root:Bets are : - 200 raised by willis with callers ['willis']\n",
      "  - 20 raised by Sally with callers ['Sally', 'willis']\n",
      "  - 10 raised by Lucy with callers ['Lucy', 'Sally', 'willis']\n",
      "  \n",
      ". total pot value : 230 \n",
      ". STARTING PLAYER : willis\n",
      "INFO:root:Raised to Fred. Fold, Call or Raise. Min Raise is 380 all in amt is 100\n",
      "INFO:root:\n",
      "\n",
      "Fred decides to Call  0\n",
      "DEBUG:root:CREATE SIDE POT\n",
      "DEBUG:root:\n",
      " STACK: 100\n",
      " VALUE IN HAND: 80\n",
      "******* POT *******\n",
      "\n",
      "\n",
      "\n",
      "\n",
      "DEBUG:root:Bets are : - 200 raised by willis with callers ['willis']\n",
      "  - 100 raised by Fred with callers ['Fred', 'willis']\n",
      "  - 20 raised by Sally with callers ['Sally', 'willis', 'Fred', 'Fred']\n",
      "  - 10 raised by Lucy with callers ['Lucy', 'Sally', 'willis', 'Fred', 'Fred']\n",
      "  \n",
      ". total pot value : 310 \n",
      ". STARTING PLAYER : willis\n",
      "INFO:root:Raised to Joe. Fold, Call or Raise. Min Raise is 380 all in amt is 1000\n",
      "INFO:root:\n",
      "\n",
      "Joe decides to Raise  210\n",
      "DEBUG:root:CALL - Reducing stack by280\n",
      "DEBUG:root:RAISING\n",
      "DEBUG:root:Reducing stack by10\n",
      "DEBUG:root:\n",
      " STACK: 710\n",
      " VALUE IN HAND: 290\n",
      "******* POT *******\n",
      "\n",
      "\n",
      "\n",
      "\n",
      "DEBUG:root:Bets are : - 210 raised by Joe with callers ['Joe']\n",
      "  - 200 raised by willis with callers ['willis', 'Joe']\n",
      "  - 100 raised by Fred with callers ['Fred', 'willis', 'Joe']\n",
      "  - 20 raised by Sally with callers ['Sally', 'willis', 'Fred', 'Fred', 'Joe']\n",
      "  - 10 raised by Lucy with callers ['Lucy', 'Sally', 'willis', 'Fred', 'Fred', 'Joe']\n",
      "  \n",
      ". total pot value : 600 \n",
      ". STARTING PLAYER : Joe\n",
      "INFO:root:Raised to Patty. Fold, Call or Raise. Min Raise is 220 all in amt is 1000\n",
      "INFO:root:\n",
      "\n",
      "Patty decides to Fold  0\n",
      "DEBUG:root:\n",
      " STACK: 1000\n",
      " VALUE IN HAND: 0\n",
      "******* POT *******\n",
      "\n",
      "\n",
      "\n",
      "\n",
      "DEBUG:root:Bets are : - 210 raised by Joe with callers ['Joe']\n",
      "  - 200 raised by willis with callers ['willis', 'Joe']\n",
      "  - 100 raised by Fred with callers ['Fred', 'willis', 'Joe']\n",
      "  - 20 raised by Sally with callers ['Sally', 'willis', 'Fred', 'Fred', 'Joe']\n",
      "  - 10 raised by Lucy with callers ['Lucy', 'Sally', 'willis', 'Fred', 'Fred', 'Joe']\n",
      "  \n",
      ". total pot value : 600 \n",
      ". STARTING PLAYER : Joe\n",
      "INFO:root:Raised to Lucy. Fold, Call or Raise. Min Raise is 220 all in amt is 1000\n",
      "INFO:root:\n",
      "\n",
      "Lucy decides to Raise  1000\n",
      "DEBUG:root:CALL - Reducing stack by280\n",
      "DEBUG:root:RAISING\n",
      "DEBUG:root:\n",
      "+++++++++\n",
      "PLAYER IS ALL IN\n",
      "DEBUG:root:Reducing stack by710\n",
      "DEBUG:root:\n",
      " STACK: 0\n",
      " VALUE IN HAND: 1000\n",
      "******* POT *******\n",
      "\n",
      "\n",
      "\n",
      "\n",
      "DEBUG:root:Bets are : - 920 raised by Lucy with callers ['Lucy']\n",
      "  - 210 raised by Joe with callers ['Joe', 'Lucy']\n",
      "  - 200 raised by willis with callers ['willis', 'Joe', 'Lucy']\n",
      "  - 100 raised by Fred with callers ['Fred', 'willis', 'Joe', 'Lucy']\n",
      "  - 20 raised by Sally with callers ['Sally', 'willis', 'Fred', 'Fred', 'Joe', 'Lucy']\n",
      "  - 10 raised by Lucy with callers ['Lucy', 'Sally', 'willis', 'Fred', 'Fred', 'Joe']\n",
      "  \n",
      ". total pot value : 1590 \n",
      ". STARTING PLAYER : Lucy\n",
      "INFO:root:Raised to Sally. Fold, Call or Raise. Min Raise is 1630 all in amt is 1000\n",
      "INFO:root:\n",
      "\n",
      "Sally decides to Call  0\n",
      "DEBUG:root:CALL - Reducing stack by980\n",
      "DEBUG:root:\n",
      " STACK: 0\n",
      " VALUE IN HAND: 1000\n",
      "******* POT *******\n",
      "\n",
      "\n",
      "\n",
      "\n",
      "DEBUG:root:Bets are : - 920 raised by Lucy with callers ['Lucy', 'Sally']\n",
      "  - 210 raised by Joe with callers ['Joe', 'Lucy', 'Sally']\n",
      "  - 200 raised by willis with callers ['willis', 'Joe', 'Lucy', 'Sally']\n",
      "  - 100 raised by Fred with callers ['Fred', 'willis', 'Joe', 'Lucy', 'Sally']\n",
      "  - 20 raised by Sally with callers ['Sally', 'willis', 'Fred', 'Fred', 'Joe', 'Lucy']\n",
      "  - 10 raised by Lucy with callers ['Lucy', 'Sally', 'willis', 'Fred', 'Fred', 'Joe']\n",
      "  \n",
      ". total pot value : 2570 \n",
      ". STARTING PLAYER : Lucy\n",
      "INFO:root:Raised to willis. Fold, Call or Raise. Min Raise is 1630 all in amt is 1000\n",
      "INFO:root:\n",
      "\n",
      "willis decides to Call  0\n",
      "DEBUG:root:CALL - Reducing stack by720\n",
      "DEBUG:root:\n",
      " STACK: 80\n",
      " VALUE IN HAND: 920\n",
      "******* POT *******\n",
      "\n",
      "\n",
      "\n",
      "\n",
      "DEBUG:root:Bets are : - 920 raised by Lucy with callers ['Lucy', 'Sally', 'willis']\n",
      "  - 210 raised by Joe with callers ['Joe', 'Lucy', 'Sally', 'willis']\n",
      "  - 200 raised by willis with callers ['willis', 'Joe', 'Lucy', 'Sally']\n",
      "  - 100 raised by Fred with callers ['Fred', 'willis', 'Joe', 'Lucy', 'Sally']\n",
      "  - 20 raised by Sally with callers ['Sally', 'willis', 'Fred', 'Fred', 'Joe', 'Lucy']\n",
      "  - 10 raised by Lucy with callers ['Lucy', 'Sally', 'willis', 'Fred', 'Fred', 'Joe']\n",
      "  \n",
      ". total pot value : 3290 \n",
      ". STARTING PLAYER : Lucy\n",
      "INFO:root:Raised to Fred. Fold, Call or Raise. Min Raise is 1630 all in amt is 180\n",
      "INFO:root:\n",
      "\n",
      "Fred decides to Call  0\n",
      "DEBUG:root:CREATE SIDE POT\n",
      "DEBUG:root:\n",
      " STACK: 100\n",
      " VALUE IN HAND: 80\n",
      "******* POT *******\n",
      "\n",
      "\n",
      "\n",
      "\n",
      "DEBUG:root:Bets are : - 920 raised by Lucy with callers ['Lucy', 'Sally', 'willis']\n",
      "  - 210 raised by Joe with callers ['Joe', 'Lucy', 'Sally', 'willis']\n",
      "  - 200 raised by willis with callers ['willis', 'Joe', 'Lucy', 'Sally']\n",
      "  - 100 raised by Fred with callers ['Fred', 'willis', 'Joe', 'Lucy', 'Sally', 'Fred']\n",
      "  - 100 raised by Fred with callers ['Fred', 'Lucy', 'Sally', 'willis', 'Fred']\n",
      "  - 20 raised by Sally with callers ['Sally', 'willis', 'Fred', 'Fred', 'Joe', 'Lucy', 'Fred']\n",
      "  - 10 raised by Lucy with callers ['Lucy', 'Sally', 'willis', 'Fred', 'Fred', 'Joe', 'Fred']\n",
      "  \n",
      ". total pot value : 3290 \n",
      ". STARTING PLAYER : Lucy\n",
      "INFO:root:Raised to Joe. Fold, Call or Raise. Min Raise is 1630 all in amt is 1000\n",
      "INFO:root:\n",
      "\n",
      "Joe decides to Fold  0\n",
      "DEBUG:root:\n",
      " STACK: 710\n",
      " VALUE IN HAND: 290\n",
      "******* POT *******\n",
      "\n",
      "\n",
      "\n",
      "\n",
      "DEBUG:root:Bets are : - 920 raised by Lucy with callers ['Lucy', 'Sally', 'willis']\n",
      "  - 210 raised by Joe with callers ['Lucy', 'Sally', 'willis']\n",
      "  - 200 raised by willis with callers ['willis', 'Lucy', 'Sally']\n",
      "  - 100 raised by Fred with callers ['Fred', 'willis', 'Lucy', 'Sally', 'Fred']\n",
      "  - 100 raised by Fred with callers ['Fred', 'Lucy', 'Sally', 'willis', 'Fred']\n",
      "  - 20 raised by Sally with callers ['Sally', 'willis', 'Fred', 'Fred', 'Lucy', 'Fred']\n",
      "  - 10 raised by Lucy with callers ['Lucy', 'Sally', 'willis', 'Fred', 'Fred', 'Fred']\n",
      "  \n",
      ". total pot value : 3290 \n",
      ". STARTING PLAYER : Lucy\n",
      "DEBUG:root:Player Patty has already folded\n",
      "DEBUG:root:Betting round complete + Pot details:\n",
      "\n",
      "DEBUG:root:Bets are : - 920 raised by Lucy with callers ['Lucy', 'Sally', 'willis']\n",
      "  - 210 raised by Joe with callers ['Lucy', 'Sally', 'willis']\n",
      "  - 200 raised by willis with callers ['willis', 'Lucy', 'Sally']\n",
      "  - 100 raised by Fred with callers ['Fred', 'willis', 'Lucy', 'Sally', 'Fred']\n",
      "  - 100 raised by Fred with callers ['Fred', 'Lucy', 'Sally', 'willis', 'Fred']\n",
      "  - 20 raised by Sally with callers ['Sally', 'willis', 'Fred', 'Fred', 'Lucy', 'Fred']\n",
      "  - 10 raised by Lucy with callers ['Lucy', 'Sally', 'willis', 'Fred', 'Fred', 'Fred']\n",
      "  \n",
      ". total pot value : 3290 \n",
      ". STARTING PLAYER : Lucy\n"
     ]
    }
   ],
   "source": [
    "## Preflop\n",
    "t.beginBetting(pot, small, big)\n",
    "## flop\n",
    "#t.beginBetting(pot, small, big)\n",
    "## turn\n",
    "#t.beginBetting(pot, small, big)\n",
    "## river\n",
    "#t.beginBetting(pot, small, big)"
   ]
  },
  {
   "cell_type": "code",
   "execution_count": null,
   "metadata": {},
   "outputs": [],
   "source": [
    "print(pot)"
   ]
  },
  {
   "cell_type": "code",
   "execution_count": null,
   "metadata": {},
   "outputs": [],
   "source": [
    "for b in pot.bets:\n",
    "    print(b)"
   ]
  },
  {
   "cell_type": "code",
   "execution_count": null,
   "metadata": {},
   "outputs": [],
   "source": []
  }
 ],
 "metadata": {
  "kernelspec": {
   "display_name": "Python 3",
   "language": "python",
   "name": "python3"
  },
  "language_info": {
   "codemirror_mode": {
    "name": "ipython",
    "version": 3
   },
   "file_extension": ".py",
   "mimetype": "text/x-python",
   "name": "python",
   "nbconvert_exporter": "python",
   "pygments_lexer": "ipython3",
   "version": "3.5.3"
  }
 },
 "nbformat": 4,
 "nbformat_minor": 4
}
