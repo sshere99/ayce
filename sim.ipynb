{
 "cells": [
  {
   "cell_type": "code",
   "execution_count": 134,
   "metadata": {},
   "outputs": [
    {
     "name": "stderr",
     "output_type": "stream",
     "text": [
      "DEBUG:root:This is a debug message\n",
      "INFO:root:This is an informational message\n",
      "WARNING:root:Careful! Something does not look right\n",
      "ERROR:root:You have encountered an error\n",
      "CRITICAL:root:You are in trouble\n"
     ]
    },
    {
     "name": "stdout",
     "output_type": "stream",
     "text": [
      "The autoreload extension is already loaded. To reload it, use:\n",
      "  %reload_ext autoreload\n"
     ]
    }
   ],
   "source": [
    "%load_ext autoreload"
   ]
  },
  {
   "cell_type": "code",
   "execution_count": 135,
   "metadata": {},
   "outputs": [],
   "source": [
    "%autoreload 2"
   ]
  },
  {
   "cell_type": "code",
   "execution_count": 136,
   "metadata": {},
   "outputs": [],
   "source": [
    "import pktypes\n",
    "from pktypes import *\n",
    "from pkhands import *"
   ]
  },
  {
   "cell_type": "code",
   "execution_count": 137,
   "metadata": {},
   "outputs": [],
   "source": [
    "#init\n",
    "\n",
    "#create Table\n",
    "t = Table(10)\n",
    "joe = Player('sdff', 'Joe', bank=44, stack=500)\n",
    "fred = Player('sdf2', 'Fred', bank=44, stack=100)\n",
    "willis = Player('sdf3', 'willis', bank=44, stack=1000)\n",
    "sally = Player('sdf9', 'Sally', bank=44, stack=1800)\n",
    "lucy = Player('sdf8', 'Lucy', bank=44, stack=1600)\n",
    "patty = Player('sdf7', 'Patty', bank=44, stack=1000)\n",
    "\n",
    "t.addPlayerToLobby(joe)\n",
    "t.addPlayerToLobby(fred)\n",
    "t.addPlayerToLobby(willis)\n",
    "t.addPlayerToLobby(sally)\n",
    "t.addPlayerToLobby(lucy)\n",
    "#t.addPlayerToLobby(patty)\n",
    "\n",
    "for player in t.playersInLobby:\n",
    "    player.sitDown()"
   ]
  },
  {
   "cell_type": "code",
   "execution_count": 138,
   "metadata": {},
   "outputs": [
    {
     "name": "stdout",
     "output_type": "stream",
     "text": [
      "Table online is False Players in Lobby ['Joe', 'Fred', 'willis', 'Sally', 'Lucy']\n",
      "\n",
      " Open Seat nums[0, 1, 2, 3, 4]\n",
      "seated players:\n",
      "8 - Fred STACK:100\n",
      "9 - Joe STACK:500\n",
      "5 - Lucy STACK:1600\n",
      "6 - Sally STACK:1800\n",
      "7 - willis STACK:1000\n",
      "\n"
     ]
    }
   ],
   "source": [
    "print(t)"
   ]
  },
  {
   "cell_type": "code",
   "execution_count": 139,
   "metadata": {},
   "outputs": [
    {
     "data": {
      "text/plain": [
       "\"Table online is False Players in Lobby ['Joe', 'Fred', 'willis', 'Sally', 'Lucy']\\n\\n Open Seat nums[0, 1, 2, 3, 4]\\nseated players:\\n8 - Fred STACK:100\\n9 - Joe STACK:500\\n5 - Lucy STACK:1600\\n6 - Sally STACK:1800\\n7 - willis STACK:1000\\n\""
      ]
     },
     "execution_count": 139,
     "metadata": {},
     "output_type": "execute_result"
    }
   ],
   "source": [
    "t.__str__()"
   ]
  },
  {
   "cell_type": "code",
   "execution_count": 140,
   "metadata": {},
   "outputs": [],
   "source": [
    "t.startGame()"
   ]
  },
  {
   "cell_type": "code",
   "execution_count": 141,
   "metadata": {},
   "outputs": [
    {
     "name": "stderr",
     "output_type": "stream",
     "text": [
      "DEBUG:root:New HAND\n",
      "INFO:root:Button is at seat Number: 5\n",
      "DEBUG:root:NO PREV BET\n",
      "DEBUG:root:RAISING\n",
      "DEBUG:root:Sally calling bet total: 10 incremental amt: 10\n",
      "DEBUG:root:\n",
      "value in round = 10\n",
      "DEBUG:root:Reducing stack by10\n",
      "DEBUG:root:pot value in round is 10\n",
      "DEBUG:root:willis calling bet total: 10 incremental amt: 10\n",
      "DEBUG:root:\n",
      "value in round = 10\n",
      "DEBUG:root:pot value in round is 20\n",
      "DEBUG:root:RAISING\n",
      "DEBUG:root:willis calling bet total: 20 incremental amt: 10\n",
      "DEBUG:root:\n",
      "value in round = 20\n",
      "DEBUG:root:Reducing stack by10\n",
      "DEBUG:root:pot value in round is 30\n",
      "DEBUG:root:Dealt 8c to Sally\n",
      "DEBUG:root:Dealt Kc to willis\n",
      "DEBUG:root:Dealt 4s to Fred\n",
      "DEBUG:root:Dealt Ad to Joe\n",
      "DEBUG:root:Dealt Jd to Lucy\n",
      "DEBUG:root:Dealt 9s to Sally\n",
      "DEBUG:root:Dealt 6c to willis\n",
      "DEBUG:root:Dealt 4d to Fred\n",
      "DEBUG:root:Dealt Jc to Joe\n",
      "DEBUG:root:Dealt 5s to Lucy\n"
     ]
    },
    {
     "name": "stdout",
     "output_type": "stream",
     "text": [
      "Player Fred hand is ['4s', '4d']\n",
      "Player Joe hand is ['Ad', 'Jc']\n",
      "Player Lucy hand is ['Jd', '5s']\n",
      "Player Sally hand is ['8c', '9s']\n",
      "Player willis hand is ['Kc', '6c']\n"
     ]
    }
   ],
   "source": [
    "pot, small, big = t.startNewHand()"
   ]
  },
  {
   "cell_type": "code",
   "execution_count": 142,
   "metadata": {},
   "outputs": [
    {
     "name": "stdout",
     "output_type": "stream",
     "text": [
      "Bets are :AMOUNT - 20INCREMENTAL AMT - 10 raised by willis with callers ['willis']\n",
      " AMOUNT - 10INCREMENTAL AMT - 10 raised by Sally with callers ['Sally', 'willis']\n",
      "  \n",
      ". total pot value : 0 \n",
      ". total pot value IN ROUND : 30 \n",
      ". STARTING PLAYER : willis\n"
     ]
    }
   ],
   "source": [
    "print(pot)"
   ]
  },
  {
   "cell_type": "code",
   "execution_count": 143,
   "metadata": {},
   "outputs": [
    {
     "name": "stderr",
     "output_type": "stream",
     "text": [
      "DEBUG:root:Loading simulation\n"
     ]
    },
    {
     "name": "stdout",
     "output_type": "stream",
     "text": [
      "[['Raise', ' 200'], ['Call', ' 0'], ['Raise', ' 210'], ['Fold', ' 0'], ['Raise', ' 700'], ['Raise', ' 900'], ['Call', ' 0'], ['Call', ' 0'], ['Call', ' 0'], ['Call', ' 0'], ['Raise', ' 99'], ['Call', ' 0'], ['Call', ' 0'], ['Call', ' 0'], ['Call', ' 0'], ['Call', ' 0'], ['Call', ' 0'], ['Call', ' 0'], ['Call', ' 0'], ['Call', ' 0'], ['Call', ' 0']]\n"
     ]
    }
   ],
   "source": [
    "Player.TEST_runSim(Player, './testsims/allin3.csv')\n",
    "print(Player.TEST_simvals)"
   ]
  },
  {
   "cell_type": "code",
   "execution_count": 144,
   "metadata": {},
   "outputs": [
    {
     "name": "stderr",
     "output_type": "stream",
     "text": [
      "DEBUG:root:Betting Round 1Action begins with Fred\n",
      "INFO:root:Raised to Fred. OPtions are: ['Fold', 'Call', 'Raise'] Min Raise is 30 all in amt is 100\n",
      " STACK IS: 100\n",
      "INFO:root:\n",
      "\n",
      "Fred decides to Raise  200\n",
      "INFO:root:Fred can't raise more than their stack- setting raise to 100\n",
      "DEBUG:root:Fred calling bet total: 10 incremental amt: 10\n",
      "DEBUG:root:\n",
      "value in round = 10\n",
      "DEBUG:root:Fred calling bet total: 20 incremental amt: 10\n",
      "DEBUG:root:\n",
      "value in round = 20\n",
      "DEBUG:root:pot value in round is 50\n",
      "DEBUG:root:RAISING\n",
      "DEBUG:root:\n",
      "+++++++++\n",
      "PLAYER IS ALL IN\n",
      "DEBUG:root:Fred calling bet total: 100 incremental amt: 80\n",
      "DEBUG:root:\n",
      "value in round = 100\n",
      "DEBUG:root:Reducing stack by80\n",
      "DEBUG:root:pot value in round is 130\n",
      "DEBUG:root:\n",
      " STACK: 0\n",
      " VALUE IN HAND: 100\n",
      "*** POT *****\n",
      "\n",
      "\n",
      "\n",
      "\n",
      "DEBUG:root:Bets are :AMOUNT - 100INCREMENTAL AMT - 80 raised by Fred with callers ['Fred']\n",
      " AMOUNT - 20INCREMENTAL AMT - 10 raised by willis with callers ['willis', 'Fred']\n",
      " AMOUNT - 10INCREMENTAL AMT - 10 raised by Sally with callers ['Sally', 'willis', 'Fred']\n",
      "  \n",
      ". total pot value : 0 \n",
      ". total pot value IN ROUND : 130 \n",
      ". STARTING PLAYER : Fred\n",
      "INFO:root:Raised to Joe. OPtions are: ['Fold', 'Call', 'Raise'] Min Raise is 180 all in amt is 500\n",
      " STACK IS: 500\n",
      "INFO:root:\n",
      "\n",
      "Joe decides to Call  0\n",
      "DEBUG:root:Joe calling bet total: 10 incremental amt: 10\n",
      "DEBUG:root:\n",
      "value in round = 10\n",
      "DEBUG:root:Joe calling bet total: 20 incremental amt: 10\n",
      "DEBUG:root:\n",
      "value in round = 20\n",
      "DEBUG:root:Joe calling bet total: 100 incremental amt: 80\n",
      "DEBUG:root:\n",
      "value in round = 100\n",
      "DEBUG:root:pot value in round is 230\n",
      "DEBUG:root:\n",
      " STACK: 400\n",
      " VALUE IN HAND: 100\n",
      "*** POT *****\n",
      "\n",
      "\n",
      "\n",
      "\n",
      "DEBUG:root:Bets are :AMOUNT - 100INCREMENTAL AMT - 80 raised by Fred with callers ['Fred', 'Joe']\n",
      " AMOUNT - 20INCREMENTAL AMT - 10 raised by willis with callers ['willis', 'Fred', 'Joe']\n",
      " AMOUNT - 10INCREMENTAL AMT - 10 raised by Sally with callers ['Sally', 'willis', 'Fred', 'Joe']\n",
      "  \n",
      ". total pot value : 0 \n",
      ". total pot value IN ROUND : 230 \n",
      ". STARTING PLAYER : Fred\n",
      "INFO:root:Raised to Lucy. OPtions are: ['Fold', 'Call', 'Raise'] Min Raise is 180 all in amt is 1600\n",
      " STACK IS: 1600\n",
      "INFO:root:\n",
      "\n",
      "Lucy decides to Raise  210\n",
      "DEBUG:root:Lucy calling bet total: 10 incremental amt: 10\n",
      "DEBUG:root:\n",
      "value in round = 10\n",
      "DEBUG:root:Lucy calling bet total: 20 incremental amt: 10\n",
      "DEBUG:root:\n",
      "value in round = 20\n",
      "DEBUG:root:Lucy calling bet total: 100 incremental amt: 80\n",
      "DEBUG:root:\n",
      "value in round = 100\n",
      "DEBUG:root:pot value in round is 330\n",
      "DEBUG:root:RAISING\n",
      "DEBUG:root:Lucy calling bet total: 210 incremental amt: 110\n",
      "DEBUG:root:\n",
      "value in round = 210\n",
      "DEBUG:root:Reducing stack by110\n",
      "DEBUG:root:pot value in round is 440\n",
      "DEBUG:root:\n",
      " STACK: 1390\n",
      " VALUE IN HAND: 210\n",
      "*** POT *****\n",
      "\n",
      "\n",
      "\n",
      "\n",
      "DEBUG:root:Bets are :AMOUNT - 210INCREMENTAL AMT - 110 raised by Lucy with callers ['Lucy']\n",
      " AMOUNT - 100INCREMENTAL AMT - 80 raised by Fred with callers ['Fred', 'Joe', 'Lucy']\n",
      " AMOUNT - 20INCREMENTAL AMT - 10 raised by willis with callers ['willis', 'Fred', 'Joe', 'Lucy']\n",
      " AMOUNT - 10INCREMENTAL AMT - 10 raised by Sally with callers ['Sally', 'willis', 'Fred', 'Joe', 'Lucy']\n",
      "  \n",
      ". total pot value : 0 \n",
      ". total pot value IN ROUND : 440 \n",
      ". STARTING PLAYER : Lucy\n",
      "INFO:root:Raised to Sally. OPtions are: ['Fold', 'Call', 'Raise'] Min Raise is 320 all in amt is 1800\n",
      " STACK IS: 1790\n",
      "INFO:root:\n",
      "\n",
      "Sally decides to Fold  0\n",
      "DEBUG:root:\n",
      " STACK: 1790\n",
      " VALUE IN HAND: 10\n",
      "*** POT *****\n",
      "\n",
      "\n",
      "\n",
      "\n",
      "DEBUG:root:Bets are :AMOUNT - 210INCREMENTAL AMT - 110 raised by Lucy with callers ['Lucy']\n",
      " AMOUNT - 100INCREMENTAL AMT - 80 raised by Fred with callers ['Fred', 'Joe', 'Lucy']\n",
      " AMOUNT - 20INCREMENTAL AMT - 10 raised by willis with callers ['willis', 'Fred', 'Joe', 'Lucy']\n",
      " AMOUNT - 10INCREMENTAL AMT - 10 raised by Sally with callers ['willis', 'Fred', 'Joe', 'Lucy']\n",
      "  \n",
      ". total pot value : 0 \n",
      ". total pot value IN ROUND : 440 \n",
      ". STARTING PLAYER : Lucy\n",
      "INFO:root:Raised to willis. OPtions are: ['Fold', 'Call', 'Raise'] Min Raise is 320 all in amt is 1000\n",
      " STACK IS: 980\n",
      "INFO:root:\n",
      "\n",
      "willis decides to Raise  700\n",
      "DEBUG:root:willis calling bet total: 100 incremental amt: 80\n",
      "DEBUG:root:\n",
      "value in round = 100\n",
      "DEBUG:root:willis calling bet total: 210 incremental amt: 110\n",
      "DEBUG:root:\n",
      "value in round = 210\n",
      "DEBUG:root:pot value in round is 630\n",
      "DEBUG:root:RAISING\n",
      "DEBUG:root:willis calling bet total: 700 incremental amt: 490\n",
      "DEBUG:root:\n",
      "value in round = 700\n",
      "DEBUG:root:Reducing stack by490\n",
      "DEBUG:root:pot value in round is 1120\n",
      "DEBUG:root:\n",
      " STACK: 300\n",
      " VALUE IN HAND: 700\n",
      "*** POT *****\n",
      "\n",
      "\n",
      "\n",
      "\n",
      "DEBUG:root:Bets are :AMOUNT - 700INCREMENTAL AMT - 490 raised by willis with callers ['willis']\n",
      " AMOUNT - 210INCREMENTAL AMT - 110 raised by Lucy with callers ['Lucy', 'willis']\n",
      " AMOUNT - 100INCREMENTAL AMT - 80 raised by Fred with callers ['Fred', 'Joe', 'Lucy', 'willis']\n",
      " AMOUNT - 20INCREMENTAL AMT - 10 raised by willis with callers ['willis', 'Fred', 'Joe', 'Lucy']\n",
      " AMOUNT - 10INCREMENTAL AMT - 10 raised by Sally with callers ['willis', 'Fred', 'Joe', 'Lucy']\n",
      "  \n",
      ". total pot value : 0 \n",
      ". total pot value IN ROUND : 1120 \n",
      ". STARTING PLAYER : willis\n",
      "DEBUG:root:Player Fred has already folded or is all in\n",
      "INFO:root:Raised to Joe. OPtions are: ['Fold', 'Call AllIn'] Min Raise is 1190 all in amt is 500\n",
      " STACK IS: 400\n",
      "INFO:root:\n",
      "\n",
      "Joe decides to Raise  900\n",
      "INFO:root:Joe can't raise more than their stack- setting raise to 500\n",
      "DEBUG:root:Joe calling bet total: 210 incremental amt: 110\n",
      "DEBUG:root:\n",
      "value in round = 210\n",
      "DEBUG:root:CREATE SIDE POT\n",
      "DEBUG:root:Upstream Bet amt: 0 stack: 290\n",
      "DEBUG:root:\n",
      "+++++++++\n",
      "PLAYER IS ALL IN\n",
      "DEBUG:root:betamt=500 increment = 290\n",
      "DEBUG:root:Joe calling bet total: 500 incremental amt: 290\n",
      "DEBUG:root:\n",
      "value in round = 500\n",
      "DEBUG:root:pot value in round is 1520\n",
      "DEBUG:root:Joe value in hand is 500\n",
      "DEBUG:root:\n",
      " STACK: 0\n",
      " VALUE IN HAND: 500\n",
      "*** POT *****\n",
      "\n",
      "\n",
      "\n",
      "\n",
      "DEBUG:root:Bets are :AMOUNT - 700INCREMENTAL AMT - 200 raised by willis with callers ['willis']\n",
      " AMOUNT - 500INCREMENTAL AMT - 290 raised by Joe with callers ['Joe', 'willis']\n",
      " AMOUNT - 210INCREMENTAL AMT - 110 raised by Lucy with callers ['Lucy', 'willis', 'Joe']\n",
      " AMOUNT - 100INCREMENTAL AMT - 80 raised by Fred with callers ['Fred', 'Joe', 'Lucy', 'willis']\n",
      " AMOUNT - 20INCREMENTAL AMT - 10 raised by willis with callers ['willis', 'Fred', 'Joe', 'Lucy']\n",
      " AMOUNT - 10INCREMENTAL AMT - 10 raised by Sally with callers ['willis', 'Fred', 'Joe', 'Lucy']\n",
      "  \n",
      ". total pot value : 0 \n",
      ". total pot value IN ROUND : 1520 \n",
      ". STARTING PLAYER : willis\n",
      "INFO:root:Raised to Lucy. OPtions are: ['Fold', 'Call', 'Raise'] Min Raise is 900 all in amt is 1600\n",
      " STACK IS: 1390\n",
      "INFO:root:\n",
      "\n",
      "Lucy decides to Call  0\n",
      "DEBUG:root:Lucy calling bet total: 500 incremental amt: 290\n",
      "DEBUG:root:\n",
      "value in round = 500\n",
      "DEBUG:root:Lucy calling bet total: 700 incremental amt: 200\n",
      "DEBUG:root:\n",
      "value in round = 700\n",
      "DEBUG:root:pot value in round is 2010\n",
      "DEBUG:root:\n",
      " STACK: 900\n",
      " VALUE IN HAND: 700\n",
      "*** POT *****\n",
      "\n",
      "\n",
      "\n",
      "\n",
      "DEBUG:root:Bets are :AMOUNT - 700INCREMENTAL AMT - 200 raised by willis with callers ['willis', 'Lucy']\n",
      " AMOUNT - 500INCREMENTAL AMT - 290 raised by Joe with callers ['Joe', 'willis', 'Lucy']\n",
      " AMOUNT - 210INCREMENTAL AMT - 110 raised by Lucy with callers ['Lucy', 'willis', 'Joe']\n",
      " AMOUNT - 100INCREMENTAL AMT - 80 raised by Fred with callers ['Fred', 'Joe', 'Lucy', 'willis']\n",
      " AMOUNT - 20INCREMENTAL AMT - 10 raised by willis with callers ['willis', 'Fred', 'Joe', 'Lucy']\n",
      " AMOUNT - 10INCREMENTAL AMT - 10 raised by Sally with callers ['willis', 'Fred', 'Joe', 'Lucy']\n",
      "  \n",
      ". total pot value : 0 \n",
      ". total pot value IN ROUND : 2010 \n",
      ". STARTING PLAYER : willis\n",
      "DEBUG:root:Player Sally has already folded or is all in\n",
      "DEBUG:root:Betting round complete + Pot details:\n",
      "\n",
      "DEBUG:root:Bets are :AMOUNT - 700INCREMENTAL AMT - 200 raised by willis with callers ['willis', 'Lucy']\n",
      " AMOUNT - 500INCREMENTAL AMT - 290 raised by Joe with callers ['Joe', 'willis', 'Lucy']\n",
      " AMOUNT - 210INCREMENTAL AMT - 110 raised by Lucy with callers ['Lucy', 'willis', 'Joe']\n",
      " AMOUNT - 100INCREMENTAL AMT - 80 raised by Fred with callers ['Fred', 'Joe', 'Lucy', 'willis']\n",
      " AMOUNT - 20INCREMENTAL AMT - 10 raised by willis with callers ['willis', 'Fred', 'Joe', 'Lucy']\n",
      " AMOUNT - 10INCREMENTAL AMT - 10 raised by Sally with callers ['willis', 'Fred', 'Joe', 'Lucy']\n",
      "  \n",
      ". total pot value : 0 \n",
      ". total pot value IN ROUND : 2010 \n",
      ". STARTING PLAYER : willis\n"
     ]
    },
    {
     "name": "stdout",
     "output_type": "stream",
     "text": [
      "Player: Fred action: Raise amt:  200\n",
      "Player: Joe action: Call amt:  0\n",
      "Player: Lucy action: Raise amt:  210\n",
      "Player: Sally action: Fold amt:  0\n",
      "Player: willis action: Raise amt:  700\n",
      "Player: Joe action: Raise amt:  900\n",
      "Player: Lucy action: Call amt:  0\n"
     ]
    }
   ],
   "source": [
    "## Preflop\n",
    "t.beginBetting(pot, small, big)\n",
    "## flop\n",
    "\n",
    "#t.beginBetting(pot, small, big)\n",
    "## turn\n",
    "#t.beginBetting(pot, small, big)\n",
    "## river\n",
    "#t.beginBetting(pot, small, big)"
   ]
  },
  {
   "cell_type": "code",
   "execution_count": 122,
   "metadata": {},
   "outputs": [
    {
     "name": "stdout",
     "output_type": "stream",
     "text": [
      "Bets are :AMOUNT - 700INCREMENTAL AMT - 200 raised by willis with callers ['willis', 'Lucy']\n",
      " AMOUNT - 500INCREMENTAL AMT - 290 raised by Joe with callers ['Joe', 'willis', 'Lucy']\n",
      " AMOUNT - 210INCREMENTAL AMT - 110 raised by Lucy with callers ['Lucy', 'willis', 'Joe']\n",
      " AMOUNT - 100INCREMENTAL AMT - 80 raised by Fred with callers ['Fred', 'Joe', 'Lucy', 'willis']\n",
      " AMOUNT - 20INCREMENTAL AMT - 10 raised by willis with callers ['willis', 'Fred', 'Joe', 'Lucy']\n",
      " AMOUNT - 10INCREMENTAL AMT - 10 raised by Sally with callers ['willis', 'Fred', 'Joe', 'Lucy']\n",
      "  \n",
      ". total pot value : 0 \n",
      ". total pot value IN ROUND : 2010 \n",
      ". STARTING PLAYER : willis\n"
     ]
    }
   ],
   "source": [
    "print(pot)"
   ]
  },
  {
   "cell_type": "code",
   "execution_count": 61,
   "metadata": {},
   "outputs": [],
   "source": [
    "pot.collapseBets()"
   ]
  },
  {
   "cell_type": "code",
   "execution_count": 62,
   "metadata": {},
   "outputs": [
    {
     "data": {
      "text/plain": [
       "{1: [<pktypes.Bet at 0x7f96c4244550>,\n",
       "  <pktypes.Bet at 0x7f96c42084e0>,\n",
       "  <pktypes.Bet at 0x7f96c42083c8>]}"
      ]
     },
     "execution_count": 62,
     "metadata": {},
     "output_type": "execute_result"
    }
   ],
   "source": [
    "pot.prevRoundBets"
   ]
  },
  {
   "cell_type": "code",
   "execution_count": 63,
   "metadata": {},
   "outputs": [
    {
     "name": "stdout",
     "output_type": "stream",
     "text": [
      "BET OBJECT \n",
      " amount:100 INCREMENT AMT: 100\n",
      "CALLERS:['Fred', 'Joe', 'Lucy', 'willis']\n",
      "BET OBJECT \n",
      " amount:500 INCREMENT AMT: 400\n",
      "CALLERS:['Joe', 'willis', 'Lucy']\n",
      "BET OBJECT \n",
      " amount:500 INCREMENT AMT: 0\n",
      "CALLERS:['Joe', 'Lucy', 'willis']\n"
     ]
    }
   ],
   "source": [
    "for b in pot.prevRoundBets[1]:\n",
    "    print(b)"
   ]
  },
  {
   "cell_type": "code",
   "execution_count": 62,
   "metadata": {},
   "outputs": [
    {
     "data": {
      "text/plain": [
       "0"
      ]
     },
     "execution_count": 62,
     "metadata": {},
     "output_type": "execute_result"
    }
   ],
   "source": [
    "pot.potValueInRound"
   ]
  },
  {
   "cell_type": "code",
   "execution_count": 63,
   "metadata": {},
   "outputs": [
    {
     "data": {
      "text/plain": [
       "2010"
      ]
     },
     "execution_count": 63,
     "metadata": {},
     "output_type": "execute_result"
    }
   ],
   "source": [
    "pot.potValue"
   ]
  },
  {
   "cell_type": "code",
   "execution_count": 64,
   "metadata": {},
   "outputs": [],
   "source": [
    "t.dealCommCards(3)\n",
    "t.beginBetting(pot, small, big)"
   ]
  },
  {
   "cell_type": "code",
   "execution_count": 65,
   "metadata": {},
   "outputs": [
    {
     "name": "stdout",
     "output_type": "stream",
     "text": [
      "Bets are : \n",
      ". total pot value : 2010 \n",
      ". total pot value IN ROUND : 0 \n",
      ". STARTING PLAYER : Sally\n"
     ]
    }
   ],
   "source": [
    "print(pot)"
   ]
  },
  {
   "cell_type": "code",
   "execution_count": 66,
   "metadata": {},
   "outputs": [],
   "source": [
    "pot.collapseBets()"
   ]
  },
  {
   "cell_type": "code",
   "execution_count": 67,
   "metadata": {},
   "outputs": [
    {
     "data": {
      "text/plain": [
       "2010"
      ]
     },
     "execution_count": 67,
     "metadata": {},
     "output_type": "execute_result"
    }
   ],
   "source": [
    "pot.potValue"
   ]
  },
  {
   "cell_type": "code",
   "execution_count": 68,
   "metadata": {},
   "outputs": [
    {
     "data": {
      "text/plain": [
       "0"
      ]
     },
     "execution_count": 68,
     "metadata": {},
     "output_type": "execute_result"
    }
   ],
   "source": [
    "pot.potValueInRound"
   ]
  },
  {
   "cell_type": "code",
   "execution_count": 69,
   "metadata": {},
   "outputs": [],
   "source": [
    "t.dealCommCards(2)\n",
    "t.beginBetting(pot, small, big)"
   ]
  },
  {
   "cell_type": "code",
   "execution_count": 70,
   "metadata": {},
   "outputs": [
    {
     "name": "stdout",
     "output_type": "stream",
     "text": [
      "Bets are :AMOUNT - 99INCREMENTAL AMT - 99 raised by willis with callers ['willis', 'Lucy']\n",
      "  \n",
      ". total pot value : 2010 \n",
      ". total pot value IN ROUND : 198 \n",
      ". STARTING PLAYER : willis\n"
     ]
    }
   ],
   "source": [
    "print(pot)"
   ]
  },
  {
   "cell_type": "code",
   "execution_count": 71,
   "metadata": {},
   "outputs": [],
   "source": [
    "pot.collapseBets()"
   ]
  },
  {
   "cell_type": "code",
   "execution_count": 72,
   "metadata": {},
   "outputs": [
    {
     "name": "stdout",
     "output_type": "stream",
     "text": [
      "1\n",
      "BET OBJECT \n",
      " amount:100 INCREMENT AMT: 100\n",
      "CALLERS:['Fred', 'Joe', 'Lucy', 'willis']\n",
      "BET OBJECT \n",
      " amount:500 INCREMENT AMT: 400\n",
      "CALLERS:['Joe', 'willis', 'Lucy']\n",
      "BET OBJECT \n",
      " amount:700 INCREMENT AMT: 200\n",
      "CALLERS:['Joe', 'Lucy', 'willis']\n",
      "3\n",
      "BET OBJECT \n",
      " amount:99 INCREMENT AMT: 99\n",
      "CALLERS:['willis', 'Lucy']\n"
     ]
    }
   ],
   "source": [
    "for k,v in pot.prevRoundBets.items():\n",
    "    print(k)\n",
    "    for b in v:\n",
    "        print(b)"
   ]
  },
  {
   "cell_type": "code",
   "execution_count": 73,
   "metadata": {},
   "outputs": [],
   "source": [
    "sdowns = pot.getShowdowns()"
   ]
  },
  {
   "cell_type": "code",
   "execution_count": 74,
   "metadata": {},
   "outputs": [
    {
     "data": {
      "text/plain": [
       "{1: {'amt': 400,\n",
       "  'callers': {<pktypes.Player at 0x7f40fc726550>,\n",
       "   <pktypes.Player at 0x7f40fc726470>,\n",
       "   <pktypes.Player at 0x7f40fc727cc0>,\n",
       "   <pktypes.Player at 0x7f40fc726518>}},\n",
       " 2: {'amt': 1800,\n",
       "  'callers': {<pktypes.Player at 0x7f40fc726470>,\n",
       "   <pktypes.Player at 0x7f40fc727cc0>,\n",
       "   <pktypes.Player at 0x7f40fc726518>}},\n",
       " 3: {'amt': 198,\n",
       "  'callers': {<pktypes.Player at 0x7f40fc727cc0>,\n",
       "   <pktypes.Player at 0x7f40fc726518>}}}"
      ]
     },
     "execution_count": 74,
     "metadata": {},
     "output_type": "execute_result"
    }
   ],
   "source": [
    "sdowns"
   ]
  },
  {
   "cell_type": "code",
   "execution_count": 75,
   "metadata": {},
   "outputs": [
    {
     "data": {
      "text/plain": [
       "(True, [10], 110, 'Pair_s')"
      ]
     },
     "execution_count": 75,
     "metadata": {},
     "output_type": "execute_result"
    }
   ],
   "source": [
    "willis.handScore"
   ]
  },
  {
   "cell_type": "code",
   "execution_count": 76,
   "metadata": {},
   "outputs": [
    {
     "name": "stdout",
     "output_type": "stream",
     "text": [
      "SHOWDOWN 1\n",
      "['Fred', 'willis', 'Lucy', 'Joe']\n",
      "[212, 110, 110, 110]\n",
      " -- winner - Fred with Pair_s 212\n",
      "SHOWDOWN 2\n",
      "['willis', 'Lucy', 'Joe']\n",
      "[110, 110, 110]\n",
      "CHOP POT\n",
      "winners ['willis', 'Lucy', 'Joe'] with Pair_s 110\n",
      "SHOWDOWN 3\n",
      "['willis', 'Lucy']\n",
      "[110, 110]\n",
      "CHOP POT\n",
      "winners ['willis', 'Lucy'] with Pair_s 110\n"
     ]
    }
   ],
   "source": [
    "for s in sdowns:\n",
    "    print(\"SHOWDOWN \"+str(s))\n",
    "    callerList = list(sdowns[s]['callers'])\n",
    "    callerList.sort(key=lambda x: x.handScore[2], reverse=True)\n",
    "    print([p.playname for p in callerList])\n",
    "    allscores=[x.handScore[2] for x in callerList] #Array of all the scores\n",
    "    print(allscores)\n",
    "    if allscores[0] in allscores[1:]:  #Someone else has the winning score\n",
    "        print(\"CHOP POT\")\n",
    "        chopIdxs = [i for i, val in enumerate(allscores) if val==allscores[0]] \n",
    "        d=[callerList[idx].playname for idx in chopIdxs]\n",
    "        print(\"winners \"+str(d)+\" with \"+callerList[0].handScore[3]+\" \"+str(allscores[0]))\n",
    "    else:\n",
    "        print(\" -- winner - \"+str(callerList[0].playname)+\" with \"+callerList[0].handScore[3]+\" \"+str(allscores[0]))"
   ]
  },
  {
   "cell_type": "code",
   "execution_count": 77,
   "metadata": {},
   "outputs": [
    {
     "name": "stdout",
     "output_type": "stream",
     "text": [
      "Fred(True, [10, 12], 212, 'Pair_s')\n",
      "Joe(True, [10], 110, 'Pair_s')\n",
      "Lucy(True, [10], 110, 'Pair_s')\n",
      "willis(True, [10], 110, 'Pair_s')\n"
     ]
    }
   ],
   "source": [
    "for p in t.seatedPlayers:\n",
    "    if not p.folded:\n",
    "        print(str(p.playname)+str(p.handScore))"
   ]
  },
  {
   "cell_type": "code",
   "execution_count": 78,
   "metadata": {},
   "outputs": [],
   "source": [
    "t.settlePots(pot)"
   ]
  },
  {
   "cell_type": "code",
   "execution_count": 79,
   "metadata": {},
   "outputs": [],
   "source": [
    "a1=Card('7','s')\n",
    "a2=Card('2','c')\n",
    "a3=Card('10','d')\n",
    "a4=Card('J','d')\n",
    "a5=Card('7','c')"
   ]
  },
  {
   "cell_type": "code",
   "execution_count": 80,
   "metadata": {},
   "outputs": [
    {
     "name": "stdout",
     "output_type": "stream",
     "text": [
      "10s\n",
      "10d\n",
      "8d\n",
      "Qs\n",
      "Ac\n"
     ]
    }
   ],
   "source": [
    "for c in t.communityCards:\n",
    "    print(c)"
   ]
  },
  {
   "cell_type": "code",
   "execution_count": 81,
   "metadata": {},
   "outputs": [],
   "source": [
    "willis.hand = [a3,a4]\n",
    "sally.hand = [a1,a2]\n",
    "joe.hand =  [a1,a2]\n",
    "fred.hand = [a1,a5]"
   ]
  },
  {
   "cell_type": "code",
   "execution_count": 82,
   "metadata": {},
   "outputs": [],
   "source": [
    "sally.hand=[Card('4','s'), Card('7','s')]"
   ]
  },
  {
   "cell_type": "code",
   "execution_count": 83,
   "metadata": {},
   "outputs": [],
   "source": [
    "lucy.hand = [a3,a4]"
   ]
  },
  {
   "cell_type": "code",
   "execution_count": null,
   "metadata": {},
   "outputs": [],
   "source": []
  }
 ],
 "metadata": {
  "kernelspec": {
   "display_name": "Python 3",
   "language": "python",
   "name": "python3"
  },
  "language_info": {
   "codemirror_mode": {
    "name": "ipython",
    "version": 3
   },
   "file_extension": ".py",
   "mimetype": "text/x-python",
   "name": "python",
   "nbconvert_exporter": "python",
   "pygments_lexer": "ipython3",
   "version": "3.5.3"
  }
 },
 "nbformat": 4,
 "nbformat_minor": 4
}
