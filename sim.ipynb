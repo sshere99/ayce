{
 "cells": [
  {
   "cell_type": "code",
   "execution_count": 23,
   "metadata": {},
   "outputs": [
    {
     "name": "stdout",
     "output_type": "stream",
     "text": [
      "The autoreload extension is already loaded. To reload it, use:\n",
      "  %reload_ext autoreload\n"
     ]
    }
   ],
   "source": [
    "%load_ext autoreload"
   ]
  },
  {
   "cell_type": "code",
   "execution_count": 11,
   "metadata": {},
   "outputs": [],
   "source": [
    "%autoreload 2"
   ]
  },
  {
   "cell_type": "code",
   "execution_count": 12,
   "metadata": {},
   "outputs": [],
   "source": [
    "import pktypes\n",
    "from pktypes import *\n",
    "from pkhands import *"
   ]
  },
  {
   "cell_type": "code",
   "execution_count": 13,
   "metadata": {},
   "outputs": [],
   "source": [
    "#init\n",
    "\n",
    "#create Table\n",
    "t = Table(10)\n",
    "joe = Player('sdff', 'Joe', bank=44, stack=500)\n",
    "fred = Player('sdf2', 'Fred', bank=44, stack=100)\n",
    "willis = Player('sdf3', 'willis', bank=44, stack=1000)\n",
    "sally = Player('sdf9', 'Sally', bank=44, stack=1800)\n",
    "lucy = Player('sdf8', 'Lucy', bank=44, stack=1600)\n",
    "patty = Player('sdf7', 'Patty', bank=44, stack=1000)\n",
    "\n",
    "t.addPlayerToLobby(joe)\n",
    "t.addPlayerToLobby(fred)\n",
    "t.addPlayerToLobby(willis)\n",
    "t.addPlayerToLobby(sally)\n",
    "t.addPlayerToLobby(lucy)\n",
    "t.addPlayerToLobby(patty)\n",
    "\n",
    "for player in t.playersInLobby:\n",
    "    player.sitDown()"
   ]
  },
  {
   "cell_type": "code",
   "execution_count": 14,
   "metadata": {},
   "outputs": [
    {
     "name": "stdout",
     "output_type": "stream",
     "text": [
      "Table online is False Players in Lobby ['Joe', 'Fred', 'willis', 'Sally', 'Lucy', 'Patty']\n",
      "\n",
      " Open Seat nums[0, 1, 2, 3]\n",
      "seated players:\n",
      "4 - Patty STACK:1000\n",
      "5 - Lucy STACK:1600\n",
      "6 - Sally STACK:1800\n",
      "7 - willis STACK:1000\n",
      "8 - Fred STACK:100\n",
      "9 - Joe STACK:500\n",
      "\n"
     ]
    }
   ],
   "source": [
    "print(t)"
   ]
  },
  {
   "cell_type": "code",
   "execution_count": 22,
   "metadata": {},
   "outputs": [
    {
     "data": {
      "text/plain": [
       "\"Table online is False Players in Lobby ['Joe', 'Fred', 'willis', 'Sally', 'Lucy', 'Patty']\\n\\n Open Seat nums[0, 1, 2, 3]\\nseated players:\\n4 - Patty STACK:1000\\n5 - Lucy STACK:1600\\n6 - Sally STACK:1800\\n7 - willis STACK:1000\\n8 - Fred STACK:100\\n9 - Joe STACK:500\\n\""
      ]
     },
     "execution_count": 22,
     "metadata": {},
     "output_type": "execute_result"
    }
   ],
   "source": [
    "t.__str__()"
   ]
  },
  {
   "cell_type": "code",
   "execution_count": 6,
   "metadata": {},
   "outputs": [],
   "source": [
    "t.startGame()"
   ]
  },
  {
   "cell_type": "code",
   "execution_count": 7,
   "metadata": {},
   "outputs": [
    {
     "name": "stderr",
     "output_type": "stream",
     "text": [
      "DEBUG:root:New HAND\n",
      "INFO:root:Button is at seat Number: 4\n",
      "DEBUG:root:NO PREV BET\n",
      "DEBUG:root:RAISING\n",
      "DEBUG:root:Lucy calling bet total: 10 incremental amt: 10\n",
      "DEBUG:root:\n",
      "value in round = 10\n",
      "DEBUG:root:Reducing stack by10\n",
      "DEBUG:root:pot value in round is 10\n",
      "DEBUG:root:Sally calling bet total: 10 incremental amt: 10\n",
      "DEBUG:root:\n",
      "value in round = 10\n",
      "DEBUG:root:pot value in round is 20\n",
      "DEBUG:root:RAISING\n",
      "DEBUG:root:Sally calling bet total: 20 incremental amt: 10\n",
      "DEBUG:root:\n",
      "value in round = 20\n",
      "DEBUG:root:Reducing stack by10\n",
      "DEBUG:root:pot value in round is 30\n",
      "DEBUG:root:Dealt 6d to Lucy\n",
      "DEBUG:root:Dealt 9d to Sally\n",
      "DEBUG:root:Dealt 7s to willis\n",
      "DEBUG:root:Dealt Qd to Fred\n",
      "DEBUG:root:Dealt 4s to Joe\n",
      "DEBUG:root:Dealt As to Patty\n",
      "DEBUG:root:Dealt 5h to Lucy\n",
      "DEBUG:root:Dealt 10h to Sally\n",
      "DEBUG:root:Dealt 9h to willis\n",
      "DEBUG:root:Dealt 7h to Fred\n",
      "DEBUG:root:Dealt 2c to Joe\n",
      "DEBUG:root:Dealt Kc to Patty\n"
     ]
    },
    {
     "name": "stdout",
     "output_type": "stream",
     "text": [
      "Player Patty hand is ['As', 'Kc']\n",
      "Player Lucy hand is ['6d', '5h']\n",
      "Player Sally hand is ['9d', '10h']\n",
      "Player willis hand is ['7s', '9h']\n",
      "Player Fred hand is ['Qd', '7h']\n",
      "Player Joe hand is ['4s', '2c']\n"
     ]
    }
   ],
   "source": [
    "pot, small, big = t.startNewHand()"
   ]
  },
  {
   "cell_type": "code",
   "execution_count": 8,
   "metadata": {},
   "outputs": [
    {
     "name": "stdout",
     "output_type": "stream",
     "text": [
      "Bets are :AMOUNT - 20INCREMENTAL AMT - 10 raised by Sally with callers ['Sally']\n",
      " AMOUNT - 10INCREMENTAL AMT - 10 raised by Lucy with callers ['Lucy', 'Sally']\n",
      "  \n",
      ". total pot value : 0 \n",
      ". total pot value IN ROUND : 30 \n",
      ". STARTING PLAYER : Sally\n"
     ]
    }
   ],
   "source": [
    "print(pot)"
   ]
  },
  {
   "cell_type": "code",
   "execution_count": 9,
   "metadata": {},
   "outputs": [
    {
     "name": "stderr",
     "output_type": "stream",
     "text": [
      "DEBUG:root:Loading simulation\n"
     ]
    },
    {
     "name": "stdout",
     "output_type": "stream",
     "text": [
      "[['Raise', ' 200'], ['Call', ' 0'], ['Raise', ' 210'], ['Fold', ' 0'], ['Raise', ' 700'], ['Raise', ' 900'], ['Call', ' 0'], ['Call', ' 0'], ['Call', ' 0'], ['Call', ' 0'], ['Raise', ' 99'], ['Call', ' 0'], ['Call', ' 0'], ['Call', ' 0'], ['Call', ' 0'], ['Call', ' 0'], ['Call', ' 0'], ['Call', ' 0'], ['Call', ' 0'], ['Call', ' 0'], ['Call', ' 0']]\n"
     ]
    }
   ],
   "source": [
    "Player.TEST_runSim(Player, './testsims/allin3.csv')\n",
    "print(Player.TEST_simvals)"
   ]
  },
  {
   "cell_type": "code",
   "execution_count": 10,
   "metadata": {},
   "outputs": [
    {
     "name": "stderr",
     "output_type": "stream",
     "text": [
      "DEBUG:root:Betting Round 1Action begins with willis\n",
      "INFO:root:Raised to willis. Fold, Call or Raise. Min Raise is 30 all in amt is 1000\n",
      "INFO:root:\n",
      "\n",
      "willis decides to Raise  200\n",
      "DEBUG:root:willis calling bet total: 10 incremental amt: 10\n",
      "DEBUG:root:\n",
      "value in round = 10\n",
      "DEBUG:root:willis calling bet total: 20 incremental amt: 10\n",
      "DEBUG:root:\n",
      "value in round = 20\n",
      "DEBUG:root:pot value in round is 50\n",
      "DEBUG:root:RAISING\n",
      "DEBUG:root:willis calling bet total: 200 incremental amt: 180\n",
      "DEBUG:root:\n",
      "value in round = 200\n",
      "DEBUG:root:Reducing stack by180\n",
      "DEBUG:root:pot value in round is 230\n",
      "DEBUG:root:\n",
      " STACK: 800\n",
      " VALUE IN HAND: 200\n",
      "*** POT *****\n",
      "\n",
      "\n",
      "\n",
      "\n",
      "DEBUG:root:Bets are :AMOUNT - 200INCREMENTAL AMT - 180 raised by willis with callers ['willis']\n",
      " AMOUNT - 20INCREMENTAL AMT - 10 raised by Sally with callers ['Sally', 'willis']\n",
      " AMOUNT - 10INCREMENTAL AMT - 10 raised by Lucy with callers ['Lucy', 'Sally', 'willis']\n",
      "  \n",
      ". total pot value : 0 \n",
      ". total pot value IN ROUND : 230 \n",
      ". STARTING PLAYER : willis\n",
      "INFO:root:Raised to Fred. Fold, Call or Raise. Min Raise is 380 all in amt is 100\n",
      "INFO:root:\n",
      "\n",
      "Fred decides to Call  0\n",
      "DEBUG:root:Fred calling bet total: 10 incremental amt: 10\n",
      "DEBUG:root:\n",
      "value in round = 10\n",
      "DEBUG:root:Fred calling bet total: 20 incremental amt: 10\n",
      "DEBUG:root:\n",
      "value in round = 20\n",
      "DEBUG:root:CREATE SIDE POT\n",
      "DEBUG:root:Upstream Bet amt: 0 stack: 80\n",
      "DEBUG:root:betamt=100 increment = 80\n",
      "DEBUG:root:Fred calling bet total: 100 incremental amt: 80\n",
      "DEBUG:root:\n",
      "value in round = 100\n",
      "DEBUG:root:pot value in round is 330\n",
      "DEBUG:root:Fred value in hand is 100\n",
      "DEBUG:root:\n",
      " STACK: 0\n",
      " VALUE IN HAND: 100\n",
      "*** POT *****\n",
      "\n",
      "\n",
      "\n",
      "\n",
      "DEBUG:root:Bets are :AMOUNT - 200INCREMENTAL AMT - 100 raised by willis with callers ['willis']\n",
      " AMOUNT - 100INCREMENTAL AMT - 80 raised by Fred with callers ['Fred', 'willis']\n",
      " AMOUNT - 20INCREMENTAL AMT - 10 raised by Sally with callers ['Sally', 'willis', 'Fred']\n",
      " AMOUNT - 10INCREMENTAL AMT - 10 raised by Lucy with callers ['Lucy', 'Sally', 'willis', 'Fred']\n",
      "  \n",
      ". total pot value : 0 \n",
      ". total pot value IN ROUND : 330 \n",
      ". STARTING PLAYER : willis\n",
      "INFO:root:Raised to Joe. Fold, Call or Raise. Min Raise is 300 all in amt is 500\n",
      "INFO:root:\n",
      "\n",
      "Joe decides to Raise  210\n",
      "DEBUG:root:Joe calling bet total: 10 incremental amt: 10\n",
      "DEBUG:root:\n",
      "value in round = 10\n",
      "DEBUG:root:Joe calling bet total: 20 incremental amt: 10\n",
      "DEBUG:root:\n",
      "value in round = 20\n",
      "DEBUG:root:Joe calling bet total: 100 incremental amt: 80\n",
      "DEBUG:root:\n",
      "value in round = 100\n",
      "DEBUG:root:Joe calling bet total: 200 incremental amt: 100\n",
      "DEBUG:root:\n",
      "value in round = 200\n",
      "DEBUG:root:pot value in round is 530\n",
      "DEBUG:root:RAISING\n",
      "DEBUG:root:Joe calling bet total: 210 incremental amt: 10\n",
      "DEBUG:root:\n",
      "value in round = 210\n",
      "DEBUG:root:Reducing stack by10\n",
      "DEBUG:root:pot value in round is 540\n",
      "DEBUG:root:\n",
      " STACK: 290\n",
      " VALUE IN HAND: 210\n",
      "*** POT *****\n",
      "\n",
      "\n",
      "\n",
      "\n",
      "DEBUG:root:Bets are :AMOUNT - 210INCREMENTAL AMT - 10 raised by Joe with callers ['Joe']\n",
      " AMOUNT - 200INCREMENTAL AMT - 100 raised by willis with callers ['willis', 'Joe']\n",
      " AMOUNT - 100INCREMENTAL AMT - 80 raised by Fred with callers ['Fred', 'willis', 'Joe']\n",
      " AMOUNT - 20INCREMENTAL AMT - 10 raised by Sally with callers ['Sally', 'willis', 'Fred', 'Joe']\n",
      " AMOUNT - 10INCREMENTAL AMT - 10 raised by Lucy with callers ['Lucy', 'Sally', 'willis', 'Fred', 'Joe']\n",
      "  \n",
      ". total pot value : 0 \n",
      ". total pot value IN ROUND : 540 \n",
      ". STARTING PLAYER : Joe\n",
      "INFO:root:Raised to Patty. Fold, Call or Raise. Min Raise is 220 all in amt is 1000\n",
      "INFO:root:\n",
      "\n",
      "Patty decides to Fold  0\n",
      "DEBUG:root:\n",
      " STACK: 1000\n",
      " VALUE IN HAND: 0\n",
      "*** POT *****\n",
      "\n",
      "\n",
      "\n",
      "\n",
      "DEBUG:root:Bets are :AMOUNT - 210INCREMENTAL AMT - 10 raised by Joe with callers ['Joe']\n",
      " AMOUNT - 200INCREMENTAL AMT - 100 raised by willis with callers ['willis', 'Joe']\n",
      " AMOUNT - 100INCREMENTAL AMT - 80 raised by Fred with callers ['Fred', 'willis', 'Joe']\n",
      " AMOUNT - 20INCREMENTAL AMT - 10 raised by Sally with callers ['Sally', 'willis', 'Fred', 'Joe']\n",
      " AMOUNT - 10INCREMENTAL AMT - 10 raised by Lucy with callers ['Lucy', 'Sally', 'willis', 'Fred', 'Joe']\n",
      "  \n",
      ". total pot value : 0 \n",
      ". total pot value IN ROUND : 540 \n",
      ". STARTING PLAYER : Joe\n",
      "INFO:root:Raised to Lucy. Fold, Call or Raise. Min Raise is 220 all in amt is 1600\n",
      "INFO:root:\n",
      "\n",
      "Lucy decides to Raise  700\n",
      "DEBUG:root:Lucy calling bet total: 20 incremental amt: 10\n",
      "DEBUG:root:\n",
      "value in round = 20\n",
      "DEBUG:root:Lucy calling bet total: 100 incremental amt: 80\n",
      "DEBUG:root:\n",
      "value in round = 100\n",
      "DEBUG:root:Lucy calling bet total: 200 incremental amt: 100\n",
      "DEBUG:root:\n",
      "value in round = 200\n",
      "DEBUG:root:Lucy calling bet total: 210 incremental amt: 10\n",
      "DEBUG:root:\n",
      "value in round = 210\n",
      "DEBUG:root:pot value in round is 740\n",
      "DEBUG:root:RAISING\n",
      "DEBUG:root:Lucy calling bet total: 700 incremental amt: 490\n",
      "DEBUG:root:\n",
      "value in round = 700\n",
      "DEBUG:root:Reducing stack by490\n",
      "DEBUG:root:pot value in round is 1230\n",
      "DEBUG:root:\n",
      " STACK: 900\n",
      " VALUE IN HAND: 700\n",
      "*** POT *****\n",
      "\n",
      "\n",
      "\n",
      "\n",
      "DEBUG:root:Bets are :AMOUNT - 700INCREMENTAL AMT - 490 raised by Lucy with callers ['Lucy']\n",
      " AMOUNT - 210INCREMENTAL AMT - 10 raised by Joe with callers ['Joe', 'Lucy']\n",
      " AMOUNT - 200INCREMENTAL AMT - 100 raised by willis with callers ['willis', 'Joe', 'Lucy']\n",
      " AMOUNT - 100INCREMENTAL AMT - 80 raised by Fred with callers ['Fred', 'willis', 'Joe', 'Lucy']\n",
      " AMOUNT - 20INCREMENTAL AMT - 10 raised by Sally with callers ['Sally', 'willis', 'Fred', 'Joe', 'Lucy']\n",
      " AMOUNT - 10INCREMENTAL AMT - 10 raised by Lucy with callers ['Lucy', 'Sally', 'willis', 'Fred', 'Joe']\n",
      "  \n",
      ". total pot value : 0 \n",
      ". total pot value IN ROUND : 1230 \n",
      ". STARTING PLAYER : Lucy\n",
      "INFO:root:Raised to Sally. Fold, Call or Raise. Min Raise is 1190 all in amt is 1800\n",
      "INFO:root:\n",
      "\n",
      "Sally decides to Raise  900\n",
      "DEBUG:root:Sally calling bet total: 100 incremental amt: 80\n",
      "DEBUG:root:\n",
      "value in round = 100\n",
      "DEBUG:root:Sally calling bet total: 200 incremental amt: 100\n",
      "DEBUG:root:\n",
      "value in round = 200\n",
      "DEBUG:root:Sally calling bet total: 210 incremental amt: 10\n",
      "DEBUG:root:\n",
      "value in round = 210\n",
      "DEBUG:root:Sally calling bet total: 700 incremental amt: 490\n",
      "DEBUG:root:\n",
      "value in round = 700\n",
      "DEBUG:root:pot value in round is 1910\n",
      "DEBUG:root:RAISING\n",
      "DEBUG:root:Sally calling bet total: 900 incremental amt: 200\n",
      "DEBUG:root:\n",
      "value in round = 900\n",
      "DEBUG:root:Reducing stack by200\n",
      "DEBUG:root:pot value in round is 2110\n",
      "DEBUG:root:\n",
      " STACK: 900\n",
      " VALUE IN HAND: 900\n",
      "*** POT *****\n",
      "\n",
      "\n",
      "\n",
      "\n",
      "DEBUG:root:Bets are :AMOUNT - 900INCREMENTAL AMT - 200 raised by Sally with callers ['Sally']\n",
      " AMOUNT - 700INCREMENTAL AMT - 490 raised by Lucy with callers ['Lucy', 'Sally']\n",
      " AMOUNT - 210INCREMENTAL AMT - 10 raised by Joe with callers ['Joe', 'Lucy', 'Sally']\n",
      " AMOUNT - 200INCREMENTAL AMT - 100 raised by willis with callers ['willis', 'Joe', 'Lucy', 'Sally']\n",
      " AMOUNT - 100INCREMENTAL AMT - 80 raised by Fred with callers ['Fred', 'willis', 'Joe', 'Lucy', 'Sally']\n",
      " AMOUNT - 20INCREMENTAL AMT - 10 raised by Sally with callers ['Sally', 'willis', 'Fred', 'Joe', 'Lucy']\n",
      " AMOUNT - 10INCREMENTAL AMT - 10 raised by Lucy with callers ['Lucy', 'Sally', 'willis', 'Fred', 'Joe']\n",
      "  \n",
      ". total pot value : 0 \n",
      ". total pot value IN ROUND : 2110 \n",
      ". STARTING PLAYER : Sally\n",
      "INFO:root:Raised to willis. Fold, Call or Raise. Min Raise is 1100 all in amt is 1000\n",
      "INFO:root:\n",
      "\n",
      "willis decides to Call  0\n",
      "DEBUG:root:willis calling bet total: 210 incremental amt: 10\n",
      "DEBUG:root:\n",
      "value in round = 210\n",
      "DEBUG:root:willis calling bet total: 700 incremental amt: 490\n",
      "DEBUG:root:\n",
      "value in round = 700\n",
      "DEBUG:root:willis calling bet total: 900 incremental amt: 200\n",
      "DEBUG:root:\n",
      "value in round = 900\n",
      "DEBUG:root:pot value in round is 2810\n",
      "DEBUG:root:\n",
      " STACK: 100\n",
      " VALUE IN HAND: 900\n",
      "*** POT *****\n",
      "\n",
      "\n",
      "\n",
      "\n",
      "DEBUG:root:Bets are :AMOUNT - 900INCREMENTAL AMT - 200 raised by Sally with callers ['Sally', 'willis']\n",
      " AMOUNT - 700INCREMENTAL AMT - 490 raised by Lucy with callers ['Lucy', 'Sally', 'willis']\n",
      " AMOUNT - 210INCREMENTAL AMT - 10 raised by Joe with callers ['Joe', 'Lucy', 'Sally', 'willis']\n",
      " AMOUNT - 200INCREMENTAL AMT - 100 raised by willis with callers ['willis', 'Joe', 'Lucy', 'Sally']\n",
      " AMOUNT - 100INCREMENTAL AMT - 80 raised by Fred with callers ['Fred', 'willis', 'Joe', 'Lucy', 'Sally']\n",
      " AMOUNT - 20INCREMENTAL AMT - 10 raised by Sally with callers ['Sally', 'willis', 'Fred', 'Joe', 'Lucy']\n",
      " AMOUNT - 10INCREMENTAL AMT - 10 raised by Lucy with callers ['Lucy', 'Sally', 'willis', 'Fred', 'Joe']\n",
      "  \n",
      ". total pot value : 0 \n",
      ". total pot value IN ROUND : 2810 \n",
      ". STARTING PLAYER : Sally\n",
      "DEBUG:root:Player Fred has already folded or is all in\n",
      "INFO:root:Raised to Joe. Fold, Call or Raise. Min Raise is 1100 all in amt is 500\n",
      "INFO:root:\n",
      "\n",
      "Joe decides to Call  0\n",
      "DEBUG:root:CREATE SIDE POT\n",
      "DEBUG:root:Upstream Bet amt: 0 stack: 290\n",
      "DEBUG:root:betamt=500 increment = 290\n",
      "DEBUG:root:Joe calling bet total: 500 incremental amt: 290\n",
      "DEBUG:root:\n",
      "value in round = 500\n",
      "DEBUG:root:pot value in round is 3100\n",
      "DEBUG:root:Joe value in hand is 500\n",
      "DEBUG:root:\n",
      " STACK: 0\n",
      " VALUE IN HAND: 500\n",
      "*** POT *****\n",
      "\n",
      "\n",
      "\n",
      "\n",
      "DEBUG:root:Bets are :AMOUNT - 900INCREMENTAL AMT - 200 raised by Sally with callers ['Sally', 'willis']\n",
      " AMOUNT - 700INCREMENTAL AMT - 200 raised by Lucy with callers ['Lucy', 'Sally', 'willis']\n",
      " AMOUNT - 500INCREMENTAL AMT - 290 raised by Joe with callers ['Joe', 'Sally', 'willis', 'Lucy']\n",
      " AMOUNT - 210INCREMENTAL AMT - 10 raised by Joe with callers ['Joe', 'Lucy', 'Sally', 'willis']\n",
      " AMOUNT - 200INCREMENTAL AMT - 100 raised by willis with callers ['willis', 'Joe', 'Lucy', 'Sally']\n",
      " AMOUNT - 100INCREMENTAL AMT - 80 raised by Fred with callers ['Fred', 'willis', 'Joe', 'Lucy', 'Sally']\n",
      " AMOUNT - 20INCREMENTAL AMT - 10 raised by Sally with callers ['Sally', 'willis', 'Fred', 'Joe', 'Lucy']\n",
      " AMOUNT - 10INCREMENTAL AMT - 10 raised by Lucy with callers ['Lucy', 'Sally', 'willis', 'Fred', 'Joe']\n",
      "  \n",
      ". total pot value : 0 \n",
      ". total pot value IN ROUND : 3100 \n",
      ". STARTING PLAYER : Sally\n",
      "DEBUG:root:Player Patty has already folded or is all in\n",
      "INFO:root:Raised to Lucy. Fold, Call or Raise. Min Raise is 1100 all in amt is 1600\n",
      "INFO:root:\n",
      "\n",
      "Lucy decides to Call  0\n",
      "DEBUG:root:Lucy calling bet total: 900 incremental amt: 200\n",
      "DEBUG:root:\n",
      "value in round = 900\n",
      "DEBUG:root:pot value in round is 3300\n",
      "DEBUG:root:\n",
      " STACK: 700\n",
      " VALUE IN HAND: 900\n",
      "*** POT *****\n",
      "\n",
      "\n",
      "\n",
      "\n",
      "DEBUG:root:Bets are :AMOUNT - 900INCREMENTAL AMT - 200 raised by Sally with callers ['Sally', 'willis', 'Lucy']\n",
      " AMOUNT - 700INCREMENTAL AMT - 200 raised by Lucy with callers ['Lucy', 'Sally', 'willis']\n",
      " AMOUNT - 500INCREMENTAL AMT - 290 raised by Joe with callers ['Joe', 'Sally', 'willis', 'Lucy']\n",
      " AMOUNT - 210INCREMENTAL AMT - 10 raised by Joe with callers ['Joe', 'Lucy', 'Sally', 'willis']\n",
      " AMOUNT - 200INCREMENTAL AMT - 100 raised by willis with callers ['willis', 'Joe', 'Lucy', 'Sally']\n",
      " AMOUNT - 100INCREMENTAL AMT - 80 raised by Fred with callers ['Fred', 'willis', 'Joe', 'Lucy', 'Sally']\n",
      " AMOUNT - 20INCREMENTAL AMT - 10 raised by Sally with callers ['Sally', 'willis', 'Fred', 'Joe', 'Lucy']\n",
      " AMOUNT - 10INCREMENTAL AMT - 10 raised by Lucy with callers ['Lucy', 'Sally', 'willis', 'Fred', 'Joe']\n",
      "  \n",
      ". total pot value : 0 \n",
      ". total pot value IN ROUND : 3300 \n",
      ". STARTING PLAYER : Sally\n",
      "DEBUG:root:Betting round complete + Pot details:\n",
      "\n",
      "DEBUG:root:Bets are :AMOUNT - 900INCREMENTAL AMT - 200 raised by Sally with callers ['Sally', 'willis', 'Lucy']\n",
      " AMOUNT - 700INCREMENTAL AMT - 200 raised by Lucy with callers ['Lucy', 'Sally', 'willis']\n",
      " AMOUNT - 500INCREMENTAL AMT - 290 raised by Joe with callers ['Joe', 'Sally', 'willis', 'Lucy']\n",
      " AMOUNT - 210INCREMENTAL AMT - 10 raised by Joe with callers ['Joe', 'Lucy', 'Sally', 'willis']\n",
      " AMOUNT - 200INCREMENTAL AMT - 100 raised by willis with callers ['willis', 'Joe', 'Lucy', 'Sally']\n",
      " AMOUNT - 100INCREMENTAL AMT - 80 raised by Fred with callers ['Fred', 'willis', 'Joe', 'Lucy', 'Sally']\n",
      " AMOUNT - 20INCREMENTAL AMT - 10 raised by Sally with callers ['Sally', 'willis', 'Fred', 'Joe', 'Lucy']\n",
      " AMOUNT - 10INCREMENTAL AMT - 10 raised by Lucy with callers ['Lucy', 'Sally', 'willis', 'Fred', 'Joe']\n",
      "  \n",
      ". total pot value : 0 \n",
      ". total pot value IN ROUND : 3300 \n",
      ". STARTING PLAYER : Sally\n"
     ]
    }
   ],
   "source": [
    "## Preflop\n",
    "t.beginBetting(pot, small, big)\n",
    "## flop\n",
    "\n",
    "#t.beginBetting(pot, small, big)\n",
    "## turn\n",
    "#t.beginBetting(pot, small, big)\n",
    "## river\n",
    "#t.beginBetting(pot, small, big)"
   ]
  },
  {
   "cell_type": "code",
   "execution_count": 11,
   "metadata": {},
   "outputs": [
    {
     "name": "stdout",
     "output_type": "stream",
     "text": [
      "Bets are :AMOUNT - 900INCREMENTAL AMT - 200 raised by Sally with callers ['Sally', 'willis', 'Lucy']\n",
      " AMOUNT - 700INCREMENTAL AMT - 200 raised by Lucy with callers ['Lucy', 'Sally', 'willis']\n",
      " AMOUNT - 500INCREMENTAL AMT - 290 raised by Joe with callers ['Joe', 'Sally', 'willis', 'Lucy']\n",
      " AMOUNT - 210INCREMENTAL AMT - 10 raised by Joe with callers ['Joe', 'Lucy', 'Sally', 'willis']\n",
      " AMOUNT - 200INCREMENTAL AMT - 100 raised by willis with callers ['willis', 'Joe', 'Lucy', 'Sally']\n",
      " AMOUNT - 100INCREMENTAL AMT - 80 raised by Fred with callers ['Fred', 'willis', 'Joe', 'Lucy', 'Sally']\n",
      " AMOUNT - 20INCREMENTAL AMT - 10 raised by Sally with callers ['Sally', 'willis', 'Fred', 'Joe', 'Lucy']\n",
      " AMOUNT - 10INCREMENTAL AMT - 10 raised by Lucy with callers ['Lucy', 'Sally', 'willis', 'Fred', 'Joe']\n",
      "  \n",
      ". total pot value : 0 \n",
      ". total pot value IN ROUND : 3300 \n",
      ". STARTING PLAYER : Sally\n"
     ]
    }
   ],
   "source": [
    "print(pot)"
   ]
  },
  {
   "cell_type": "code",
   "execution_count": 12,
   "metadata": {},
   "outputs": [],
   "source": [
    "pot.collapseBets()"
   ]
  },
  {
   "cell_type": "code",
   "execution_count": 13,
   "metadata": {},
   "outputs": [
    {
     "data": {
      "text/plain": [
       "{1: [<pktypes.Bet at 0x7f799c26b0f0>,\n",
       "  <pktypes.Bet at 0x7f799c26b860>,\n",
       "  <pktypes.Bet at 0x7f799c26b748>]}"
      ]
     },
     "execution_count": 13,
     "metadata": {},
     "output_type": "execute_result"
    }
   ],
   "source": [
    "pot.prevRoundBets"
   ]
  },
  {
   "cell_type": "code",
   "execution_count": 14,
   "metadata": {},
   "outputs": [
    {
     "name": "stdout",
     "output_type": "stream",
     "text": [
      "BET OBJECT \n",
      " amount:100 INCREMENT AMT: 100\n",
      "CALLERS:['Fred', 'willis', 'Joe', 'Lucy', 'Sally']\n",
      "BET OBJECT \n",
      " amount:500 INCREMENT AMT: 400\n",
      "CALLERS:['Joe', 'Sally', 'willis', 'Lucy']\n",
      "BET OBJECT \n",
      " amount:900 INCREMENT AMT: 400\n",
      "CALLERS:['Sally', 'willis', 'Lucy']\n"
     ]
    }
   ],
   "source": [
    "for b in pot.prevRoundBets[1]:\n",
    "    print(b)"
   ]
  },
  {
   "cell_type": "code",
   "execution_count": 15,
   "metadata": {},
   "outputs": [
    {
     "data": {
      "text/plain": [
       "0"
      ]
     },
     "execution_count": 15,
     "metadata": {},
     "output_type": "execute_result"
    }
   ],
   "source": [
    "pot.potValueInRound"
   ]
  },
  {
   "cell_type": "code",
   "execution_count": 16,
   "metadata": {},
   "outputs": [
    {
     "data": {
      "text/plain": [
       "3300"
      ]
     },
     "execution_count": 16,
     "metadata": {},
     "output_type": "execute_result"
    }
   ],
   "source": [
    "pot.potValue"
   ]
  },
  {
   "cell_type": "code",
   "execution_count": 17,
   "metadata": {},
   "outputs": [
    {
     "name": "stderr",
     "output_type": "stream",
     "text": [
      "DEBUG:root:Community Cards: ['7d', '9s', '7h']\n",
      "DEBUG:root:Betting Round 2Action begins with Lucy\n",
      "INFO:root:Check to you, Lucy. Raise or Check all in amt is 700\n",
      "INFO:root:\n",
      "\n",
      "Lucy decides to Call  0\n",
      "DEBUG:root:NO PREV BET\n",
      "DEBUG:root:\n",
      " STACK: 700\n",
      " VALUE IN HAND: 0\n",
      "*** POT *****\n",
      "\n",
      "\n",
      "\n",
      "\n",
      "DEBUG:root:Bets are : \n",
      ". total pot value : 3300 \n",
      ". total pot value IN ROUND : 0 \n",
      ". STARTING PLAYER : Lucy\n",
      "INFO:root:Check to you, Sally. Raise or Check all in amt is 900\n",
      "INFO:root:\n",
      "\n",
      "Sally decides to Raise  99\n",
      "DEBUG:root:NO PREV BET\n",
      "DEBUG:root:RAISING\n",
      "DEBUG:root:Sally calling bet total: 99 incremental amt: 99\n",
      "DEBUG:root:\n",
      "value in round = 99\n",
      "DEBUG:root:Reducing stack by99\n",
      "DEBUG:root:pot value in round is 99\n",
      "DEBUG:root:\n",
      " STACK: 801\n",
      " VALUE IN HAND: 99\n",
      "*** POT *****\n",
      "\n",
      "\n",
      "\n",
      "\n",
      "DEBUG:root:Bets are :AMOUNT - 99INCREMENTAL AMT - 99 raised by Sally with callers ['Sally']\n",
      "  \n",
      ". total pot value : 3300 \n",
      ". total pot value IN ROUND : 99 \n",
      ". STARTING PLAYER : Sally\n",
      "INFO:root:Raised to willis. Fold, Call or Raise. Min Raise is 198 all in amt is 100\n",
      "INFO:root:\n",
      "\n",
      "willis decides to Call  0\n",
      "DEBUG:root:willis calling bet total: 99 incremental amt: 99\n",
      "DEBUG:root:\n",
      "value in round = 99\n",
      "DEBUG:root:pot value in round is 198\n",
      "DEBUG:root:\n",
      " STACK: 1\n",
      " VALUE IN HAND: 99\n",
      "*** POT *****\n",
      "\n",
      "\n",
      "\n",
      "\n",
      "DEBUG:root:Bets are :AMOUNT - 99INCREMENTAL AMT - 99 raised by Sally with callers ['Sally', 'willis']\n",
      "  \n",
      ". total pot value : 3300 \n",
      ". total pot value IN ROUND : 198 \n",
      ". STARTING PLAYER : Sally\n",
      "DEBUG:root:Player Fred has already folded or is all in\n",
      "DEBUG:root:Player Joe has already folded or is all in\n",
      "DEBUG:root:Player Patty has already folded or is all in\n",
      "INFO:root:Raised to Lucy. Fold, Call or Raise. Min Raise is 198 all in amt is 700\n",
      "INFO:root:\n",
      "\n",
      "Lucy decides to Call  0\n",
      "DEBUG:root:Lucy calling bet total: 99 incremental amt: 99\n",
      "DEBUG:root:\n",
      "value in round = 99\n",
      "DEBUG:root:pot value in round is 297\n",
      "DEBUG:root:\n",
      " STACK: 601\n",
      " VALUE IN HAND: 99\n",
      "*** POT *****\n",
      "\n",
      "\n",
      "\n",
      "\n",
      "DEBUG:root:Bets are :AMOUNT - 99INCREMENTAL AMT - 99 raised by Sally with callers ['Sally', 'willis', 'Lucy']\n",
      "  \n",
      ". total pot value : 3300 \n",
      ". total pot value IN ROUND : 297 \n",
      ". STARTING PLAYER : Sally\n",
      "DEBUG:root:Betting round complete + Pot details:\n",
      "\n",
      "DEBUG:root:Bets are :AMOUNT - 99INCREMENTAL AMT - 99 raised by Sally with callers ['Sally', 'willis', 'Lucy']\n",
      "  \n",
      ". total pot value : 3300 \n",
      ". total pot value IN ROUND : 297 \n",
      ". STARTING PLAYER : Sally\n"
     ]
    }
   ],
   "source": [
    "t.dealCommCards(3)\n",
    "t.beginBetting(pot, small, big)"
   ]
  },
  {
   "cell_type": "code",
   "execution_count": 18,
   "metadata": {},
   "outputs": [
    {
     "name": "stdout",
     "output_type": "stream",
     "text": [
      "Bets are :AMOUNT - 99INCREMENTAL AMT - 99 raised by Sally with callers ['Sally', 'willis', 'Lucy']\n",
      "  \n",
      ". total pot value : 3300 \n",
      ". total pot value IN ROUND : 297 \n",
      ". STARTING PLAYER : Sally\n"
     ]
    }
   ],
   "source": [
    "print(pot)"
   ]
  },
  {
   "cell_type": "code",
   "execution_count": 19,
   "metadata": {},
   "outputs": [],
   "source": [
    "pot.collapseBets()"
   ]
  },
  {
   "cell_type": "code",
   "execution_count": 20,
   "metadata": {},
   "outputs": [
    {
     "name": "stdout",
     "output_type": "stream",
     "text": [
      "BET OBJECT \n",
      " amount:99 INCREMENT AMT: 99\n",
      "CALLERS:['Sally', 'willis', 'Lucy']\n"
     ]
    }
   ],
   "source": [
    "for b in pot.prevRoundBets[2]:\n",
    "    print(b)"
   ]
  },
  {
   "cell_type": "code",
   "execution_count": 21,
   "metadata": {},
   "outputs": [
    {
     "data": {
      "text/plain": [
       "3597"
      ]
     },
     "execution_count": 21,
     "metadata": {},
     "output_type": "execute_result"
    }
   ],
   "source": [
    "pot.potValue"
   ]
  },
  {
   "cell_type": "code",
   "execution_count": 22,
   "metadata": {},
   "outputs": [
    {
     "data": {
      "text/plain": [
       "0"
      ]
     },
     "execution_count": 22,
     "metadata": {},
     "output_type": "execute_result"
    }
   ],
   "source": [
    "pot.potValueInRound"
   ]
  },
  {
   "cell_type": "code",
   "execution_count": 23,
   "metadata": {},
   "outputs": [
    {
     "name": "stderr",
     "output_type": "stream",
     "text": [
      "DEBUG:root:Community Cards: ['7d', '9s', '7h', '5d', '3s']\n",
      "DEBUG:root:Betting Round 3Action begins with Lucy\n",
      "INFO:root:Check to you, Lucy. Raise or Check all in amt is 601\n",
      "INFO:root:\n",
      "\n",
      "Lucy decides to Call  0\n",
      "DEBUG:root:NO PREV BET\n",
      "DEBUG:root:\n",
      " STACK: 601\n",
      " VALUE IN HAND: 0\n",
      "*** POT *****\n",
      "\n",
      "\n",
      "\n",
      "\n",
      "DEBUG:root:Bets are : \n",
      ". total pot value : 3597 \n",
      ". total pot value IN ROUND : 0 \n",
      ". STARTING PLAYER : Lucy\n",
      "INFO:root:Check to you, Sally. Raise or Check all in amt is 801\n",
      "INFO:root:\n",
      "\n",
      "Sally decides to Call  0\n",
      "DEBUG:root:NO PREV BET\n",
      "DEBUG:root:\n",
      " STACK: 801\n",
      " VALUE IN HAND: 0\n",
      "*** POT *****\n",
      "\n",
      "\n",
      "\n",
      "\n",
      "DEBUG:root:Bets are : \n",
      ". total pot value : 3597 \n",
      ". total pot value IN ROUND : 0 \n",
      ". STARTING PLAYER : Lucy\n",
      "INFO:root:Check to you, willis. Raise or Check all in amt is 1\n",
      "INFO:root:\n",
      "\n",
      "willis decides to Call  0\n",
      "DEBUG:root:NO PREV BET\n",
      "DEBUG:root:\n",
      " STACK: 1\n",
      " VALUE IN HAND: 0\n",
      "*** POT *****\n",
      "\n",
      "\n",
      "\n",
      "\n",
      "DEBUG:root:Bets are : \n",
      ". total pot value : 3597 \n",
      ". total pot value IN ROUND : 0 \n",
      ". STARTING PLAYER : Lucy\n",
      "DEBUG:root:Player Fred has already folded or is all in\n",
      "DEBUG:root:Player Joe has already folded or is all in\n",
      "DEBUG:root:Player Patty has already folded or is all in\n",
      "DEBUG:root:Betting round complete + Pot details:\n",
      "\n",
      "DEBUG:root:Bets are : \n",
      ". total pot value : 3597 \n",
      ". total pot value IN ROUND : 0 \n",
      ". STARTING PLAYER : Lucy\n"
     ]
    }
   ],
   "source": [
    "t.dealCommCards(2)\n",
    "t.beginBetting(pot, small, big)"
   ]
  },
  {
   "cell_type": "code",
   "execution_count": 24,
   "metadata": {},
   "outputs": [
    {
     "name": "stdout",
     "output_type": "stream",
     "text": [
      "Bets are : \n",
      ". total pot value : 3597 \n",
      ". total pot value IN ROUND : 0 \n",
      ". STARTING PLAYER : Lucy\n"
     ]
    }
   ],
   "source": [
    "print(pot)"
   ]
  },
  {
   "cell_type": "code",
   "execution_count": 25,
   "metadata": {},
   "outputs": [],
   "source": [
    "pot.collapseBets()"
   ]
  },
  {
   "cell_type": "code",
   "execution_count": 26,
   "metadata": {},
   "outputs": [
    {
     "name": "stdout",
     "output_type": "stream",
     "text": [
      "1\n",
      "BET OBJECT \n",
      " amount:100 INCREMENT AMT: 100\n",
      "CALLERS:['Fred', 'willis', 'Joe', 'Lucy', 'Sally']\n",
      "BET OBJECT \n",
      " amount:500 INCREMENT AMT: 400\n",
      "CALLERS:['Joe', 'Sally', 'willis', 'Lucy']\n",
      "BET OBJECT \n",
      " amount:900 INCREMENT AMT: 400\n",
      "CALLERS:['Sally', 'willis', 'Lucy']\n",
      "2\n",
      "BET OBJECT \n",
      " amount:99 INCREMENT AMT: 99\n",
      "CALLERS:['Sally', 'willis', 'Lucy']\n"
     ]
    }
   ],
   "source": [
    "for k,v in pot.prevRoundBets.items():\n",
    "    print(k)\n",
    "    for b in v:\n",
    "        print(b)"
   ]
  },
  {
   "cell_type": "code",
   "execution_count": 27,
   "metadata": {},
   "outputs": [],
   "source": [
    "sdowns = pot.getShowdowns()"
   ]
  },
  {
   "cell_type": "code",
   "execution_count": 28,
   "metadata": {},
   "outputs": [
    {
     "data": {
      "text/plain": [
       "{1: {'amt': 500,\n",
       "  'callers': {<pktypes.Player at 0x7f799c26d780>,\n",
       "   <pktypes.Player at 0x7f799c26d6a0>,\n",
       "   <pktypes.Player at 0x7f799c26fef0>,\n",
       "   <pktypes.Player at 0x7f799c26d7b8>,\n",
       "   <pktypes.Player at 0x7f799c26d748>}},\n",
       " 2: {'amt': 1600,\n",
       "  'callers': {<pktypes.Player at 0x7f799c26d6a0>,\n",
       "   <pktypes.Player at 0x7f799c26fef0>,\n",
       "   <pktypes.Player at 0x7f799c26d7b8>,\n",
       "   <pktypes.Player at 0x7f799c26d748>}},\n",
       " 3: {'amt': 1497,\n",
       "  'callers': {<pktypes.Player at 0x7f799c26fef0>,\n",
       "   <pktypes.Player at 0x7f799c26d7b8>,\n",
       "   <pktypes.Player at 0x7f799c26d748>}}}"
      ]
     },
     "execution_count": 28,
     "metadata": {},
     "output_type": "execute_result"
    }
   ],
   "source": [
    "sdowns"
   ]
  },
  {
   "cell_type": "code",
   "execution_count": 29,
   "metadata": {},
   "outputs": [
    {
     "data": {
      "text/plain": [
       "(True, [3, 7], 207, 'Pair_s')"
      ]
     },
     "execution_count": 29,
     "metadata": {},
     "output_type": "execute_result"
    }
   ],
   "source": [
    "willis.handScore"
   ]
  },
  {
   "cell_type": "code",
   "execution_count": 60,
   "metadata": {},
   "outputs": [
    {
     "name": "stdout",
     "output_type": "stream",
     "text": [
      "SHOWDOWN 1\n",
      "['Fred', 'Joe', 'Sally', 'willis', 'Lucy']\n",
      "[707, 307, 307, 107, 107]\n",
      " -- winner - Fred with Quads 707\n",
      "SHOWDOWN 2\n",
      "['Joe', 'Sally', 'willis', 'Lucy']\n",
      "[307, 307, 107, 107]\n",
      "CHOP POT\n",
      "winners ['Joe', 'Sally'] with Trips 307\n",
      "SHOWDOWN 3\n",
      "['Sally', 'willis', 'Lucy']\n",
      "[307, 107, 107]\n",
      " -- winner - Sally with Trips 307\n"
     ]
    }
   ],
   "source": [
    "for s in sdowns:\n",
    "    print(\"SHOWDOWN \"+str(s))\n",
    "    callerList = list(sdowns[s]['callers'])\n",
    "    callerList.sort(key=lambda x: x.handScore[2], reverse=True)\n",
    "    print([p.playname for p in callerList])\n",
    "    allscores=[x.handScore[2] for x in callerList] #Array of all the scores\n",
    "    print(allscores)\n",
    "    if allscores[0] in allscores[1:]:  #Someone else has the winning score\n",
    "        print(\"CHOP POT\")\n",
    "        chopIdxs = [i for i, val in enumerate(allscores) if val==allscores[0]] \n",
    "        d=[callerList[idx].playname for idx in chopIdxs]\n",
    "        print(\"winners \"+str(d)+\" with \"+callerList[0].handScore[3]+\" \"+str(allscores[0]))\n",
    "    else:\n",
    "        print(\" -- winner - \"+str(callerList[0].playname)+\" with \"+callerList[0].handScore[3]+\" \"+str(allscores[0]))"
   ]
  },
  {
   "cell_type": "code",
   "execution_count": 52,
   "metadata": {},
   "outputs": [
    {
     "name": "stdout",
     "output_type": "stream",
     "text": [
      "Lucy(True, [7], 107, 'Pair_s')\n",
      "Sally(True, [7], 307, 'Trips')\n",
      "willis(True, [7], 107, 'Pair_s')\n",
      "Fred(True, 7, 707, 'Quads')\n",
      "Joe(True, [7], 307, 'Trips')\n"
     ]
    }
   ],
   "source": [
    "for p in t.seatedPlayers:\n",
    "    if not p.folded:\n",
    "        print(str(p.playname)+str(p.handScore))"
   ]
  },
  {
   "cell_type": "code",
   "execution_count": 67,
   "metadata": {},
   "outputs": [
    {
     "name": "stderr",
     "output_type": "stream",
     "text": [
      "DEBUG:root:SHOWDOWN 1\n",
      "DEBUG:root:['Fred', 'Joe', 'Sally', 'willis', 'Lucy']\n",
      "DEBUG:root:[707, 307, 307, 107, 107]\n",
      "DEBUG:root:- winner- Fred w/ Quads 707\n",
      "DEBUG:root:SHOWDOWN 2\n",
      "DEBUG:root:['Joe', 'Sally', 'willis', 'Lucy']\n",
      "DEBUG:root:[307, 307, 107, 107]\n",
      "DEBUG:root:CHOP POT\n",
      "DEBUG:root:winners ['Joe', 'Sally'] with Trips 307\n",
      "DEBUG:root:SHOWDOWN 3\n",
      "DEBUG:root:['Sally', 'willis', 'Lucy']\n",
      "DEBUG:root:[307, 107, 107]\n",
      "DEBUG:root:- winner- Sally w/ Trips 307\n"
     ]
    }
   ],
   "source": [
    "t.settlePots(pot)"
   ]
  },
  {
   "cell_type": "code",
   "execution_count": 45,
   "metadata": {},
   "outputs": [],
   "source": [
    "a1=Card('7','s')\n",
    "a2=Card('2','c')\n",
    "a3=Card('10','d')\n",
    "a4=Card('J','d')\n",
    "a5=Card('7','c')"
   ]
  },
  {
   "cell_type": "code",
   "execution_count": 41,
   "metadata": {},
   "outputs": [
    {
     "name": "stdout",
     "output_type": "stream",
     "text": [
      "7d\n",
      "9s\n",
      "7h\n",
      "5d\n",
      "3s\n"
     ]
    }
   ],
   "source": [
    "for c in t.communityCards:\n",
    "    print(c)"
   ]
  },
  {
   "cell_type": "code",
   "execution_count": 46,
   "metadata": {},
   "outputs": [],
   "source": [
    "willis.hand = [a3,a4]\n",
    "sally.hand = [a1,a2]\n",
    "joe.hand =  [a1,a2]\n",
    "fred.hand = [a1,a5]"
   ]
  },
  {
   "cell_type": "code",
   "execution_count": 33,
   "metadata": {},
   "outputs": [],
   "source": [
    "sally.hand=[Card('4','s'), Card('7','s')]"
   ]
  },
  {
   "cell_type": "code",
   "execution_count": 51,
   "metadata": {},
   "outputs": [],
   "source": [
    "lucy.hand = [a3,a4]"
   ]
  },
  {
   "cell_type": "code",
   "execution_count": null,
   "metadata": {},
   "outputs": [],
   "source": []
  }
 ],
 "metadata": {
  "kernelspec": {
   "display_name": "Python 3",
   "language": "python",
   "name": "python3"
  },
  "language_info": {
   "codemirror_mode": {
    "name": "ipython",
    "version": 3
   },
   "file_extension": ".py",
   "mimetype": "text/x-python",
   "name": "python",
   "nbconvert_exporter": "python",
   "pygments_lexer": "ipython3",
   "version": "3.5.3"
  }
 },
 "nbformat": 4,
 "nbformat_minor": 4
}
